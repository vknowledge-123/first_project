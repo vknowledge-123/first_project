{
 "cells": [
  {
   "cell_type": "markdown",
   "id": "f5b09459-57e5-4cfa-856c-efeabfce78ce",
   "metadata": {},
   "source": [
    "# Tuple :-"
   ]
  },
  {
   "cell_type": "code",
   "execution_count": 3,
   "id": "b0414130-4fa0-49fa-82e6-cbdd2910af62",
   "metadata": {},
   "outputs": [
    {
     "name": "stdout",
     "output_type": "stream",
     "text": [
      "2\n",
      "4\n"
     ]
    }
   ],
   "source": [
    "tup = (2,4,6,8,10)\n",
    "print(tup[0])\n",
    "print(tup[1])"
   ]
  },
  {
   "cell_type": "code",
   "execution_count": 4,
   "id": "6f417025-8fa7-4de5-8045-915e3c09e95b",
   "metadata": {},
   "outputs": [
    {
     "name": "stdout",
     "output_type": "stream",
     "text": [
      "(6, 7, 8)\n"
     ]
    }
   ],
   "source": [
    "# Slicing in tuple \n",
    "t = (5,6,7,8,9,12)\n",
    "print(t[1:4])"
   ]
  },
  {
   "cell_type": "code",
   "execution_count": 5,
   "id": "bc33f5ab-360e-49f2-a6c5-46790f164929",
   "metadata": {},
   "outputs": [
    {
     "name": "stdout",
     "output_type": "stream",
     "text": [
      "4\n"
     ]
    }
   ],
   "source": [
    "# index\n",
    "x = (1,2,3,4,5,6)\n",
    "print(x.index(5))\n",
    "#output : index position"
   ]
  },
  {
   "cell_type": "code",
   "execution_count": 10,
   "id": "08855c1e-eb6b-47e6-8ec5-2c77e89a3b56",
   "metadata": {},
   "outputs": [
    {
     "name": "stdout",
     "output_type": "stream",
     "text": [
      "3\n",
      "2\n"
     ]
    }
   ],
   "source": [
    "# count:--\n",
    "a = (5,6,6,8,4,2,2,6)\n",
    "print(a.count(6))\n",
    "print(a.count(2))"
   ]
  },
  {
   "cell_type": "code",
   "execution_count": 14,
   "id": "a0649c04-7bb0-4f54-839c-dd0d0c4abe92",
   "metadata": {},
   "outputs": [
    {
     "name": "stdout",
     "output_type": "stream",
     "text": [
      "Number is not even\n",
      "Number is even\n",
      "Number is not even\n",
      "Number is even\n",
      "Number is even\n"
     ]
    }
   ],
   "source": [
    "numbers = (11, 20, 33, 40, 50)\n",
    "for i in numbers:\n",
    "    if i % 2 == 0:\n",
    "        print(\"Number is even\")\n",
    "    else:\n",
    "        print(\"Number is not even\")"
   ]
  },
  {
   "cell_type": "code",
   "execution_count": null,
   "id": "d83c2a1c-c4bd-4a89-baf8-305ab7edc71d",
   "metadata": {},
   "outputs": [],
   "source": []
  },
  {
   "cell_type": "markdown",
   "id": "61f92d23-2118-43a2-ba4a-e667295a2295",
   "metadata": {},
   "source": [
    "# List"
   ]
  },
  {
   "cell_type": "code",
   "execution_count": 6,
   "id": "1b28ee8e-e538-4fe3-acd5-4d59c2b7a1ff",
   "metadata": {},
   "outputs": [
    {
     "name": "stdin",
     "output_type": "stream",
     "text": [
      "enter 1st movie name core\n",
      "enter 2nd movie name swadesh\n",
      "enter 3rd movie name RRR\n"
     ]
    },
    {
     "name": "stdout",
     "output_type": "stream",
     "text": [
      "['core', 'swadesh', 'RRR']\n"
     ]
    }
   ],
   "source": [
    "movies = []\n",
    "movies.append (input(\"enter 1st movie name\"))\n",
    "movies.append (input(\"enter 2nd movie name\"))\n",
    "movies.append (input(\"enter 3rd movie name\"))\n",
    "\n",
    "#movie_list.append(mov1)\n",
    "#movie_list.append(mov2)\n",
    "#movie_list.append(mov3)\n",
    "print(movie_list)"
   ]
  },
  {
   "cell_type": "code",
   "execution_count": 9,
   "id": "ed97f8c0-3593-4d54-959a-1ca5a3dbf1f4",
   "metadata": {},
   "outputs": [
    {
     "name": "stdout",
     "output_type": "stream",
     "text": [
      "palindrome\n"
     ]
    }
   ],
   "source": [
    "# palindrome \n",
    "list1 = [1,2,3,2,1]\n",
    "copy_list = list1.copy()\n",
    "copy_list.reverse()\n",
    "if (copy_list==list1):\n",
    "    print(\"palindrome\")\n",
    "else:\n",
    "    print(\"NOT palindrome\")"
   ]
  },
  {
   "cell_type": "code",
   "execution_count": null,
   "id": "a1e25914-4b9d-41b9-b1c4-d6f2be6a91a9",
   "metadata": {},
   "outputs": [],
   "source": []
  }
 ],
 "metadata": {
  "kernelspec": {
   "display_name": "Python 3 (ipykernel)",
   "language": "python",
   "name": "python3"
  },
  "language_info": {
   "codemirror_mode": {
    "name": "ipython",
    "version": 3
   },
   "file_extension": ".py",
   "mimetype": "text/x-python",
   "name": "python",
   "nbconvert_exporter": "python",
   "pygments_lexer": "ipython3",
   "version": "3.12.4"
  }
 },
 "nbformat": 4,
 "nbformat_minor": 5
}
