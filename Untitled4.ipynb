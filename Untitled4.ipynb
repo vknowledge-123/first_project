{
 "cells": [
  {
   "cell_type": "code",
   "execution_count": 2,
   "id": "28b806d4-560e-4531-8665-ab16d3eab8b9",
   "metadata": {},
   "outputs": [
    {
     "data": {
      "text/plain": [
       "'/home/vaishnavilapi'"
      ]
     },
     "execution_count": 2,
     "metadata": {},
     "output_type": "execute_result"
    }
   ],
   "source": [
    "import os\n",
    "os.getcwd()"
   ]
  },
  {
   "cell_type": "code",
   "execution_count": null,
   "id": "257a4236-6b28-4c35-93f8-353a3f5ba475",
   "metadata": {},
   "outputs": [],
   "source": [
    "f  = open(\"student.txt\",\"a\")\n",
    "f.write(\"Student phone number and student name\")\n",
    "user_ph = int(input(\"enter the phone number of students no.1    \"))\n",
    "user_name = input(\"enter the students name of studentsn no.1    \")\n",
    "user_ph2 = int(input(\"enter the phone number of students no.2   \"))\n",
    "user_name2 = input(\"enter the students name of studentsn no.2    \")\n",
    "f.close()\n",
    "print(user_ph)\n",
    "print(user_name)\n",
    "print(user_ph2)\n",
    "print(user_name2)\n"
   ]
  },
  {
   "cell_type": "code",
   "execution_count": null,
   "id": "50578b75-4e3f-41f8-a551-9855310c5603",
   "metadata": {},
   "outputs": [],
   "source": []
  }
 ],
 "metadata": {
  "kernelspec": {
   "display_name": "Python 3 (ipykernel)",
   "language": "python",
   "name": "python3"
  },
  "language_info": {
   "codemirror_mode": {
    "name": "ipython",
    "version": 3
   },
   "file_extension": ".py",
   "mimetype": "text/x-python",
   "name": "python",
   "nbconvert_exporter": "python",
   "pygments_lexer": "ipython3",
   "version": "3.12.4"
  }
 },
 "nbformat": 4,
 "nbformat_minor": 5
}
