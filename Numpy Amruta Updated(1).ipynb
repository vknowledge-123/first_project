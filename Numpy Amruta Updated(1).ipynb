{
 "cells": [
  {
   "cell_type": "markdown",
   "id": "6f8d7874",
   "metadata": {},
   "source": [
    "What is NumPy? NumPy is a Python library that makes it easier to work with arrays and perform mathematical, scientific, and statistical computations efficiently.\n",
    "\n",
    "Core Component: ndarray\n",
    "\n",
    "The main feature of NumPy is its powerful ndarray object, which stands for n-dimensional array. An ndarray can store data in multiple dimensions (like a list of lists).\n",
    "\n",
    "Key Features of NumPy Arrays:\n",
    "\n",
    "Fixed Size: When you create a NumPy array, its size cannot be changed. If you need a different size, you must create a new array.\n",
    "\n",
    "Same Data Type: All elements in a NumPy array must be of the same data type (e.g., all integers, all floats). Efficient Operations: NumPy arrays are designed to handle large amounts of data efficiently. Operations on NumPy arrays are often faster than similar operations on Python lists because they are implemented in optimized, compiled code. Why Use NumPy?\n",
    "\n",
    "Performance: NumPy is much faster than Python lists for large datasets. Less Code: It often requires fewer lines of code to perform complex operations with NumPy. Integration: Many scientific and mathematical Python packages (like SciPy, Pandas, and Matplotlib) use NumPy arrays, so knowing NumPy is crucial for working with these tools. Common Uses:\n",
    "\n",
    "Mathematical Operations: Easily perform calculations like addition, subtraction, multiplication, and division on arrays.\n",
    "\n",
    "Logical Operations: Compare arrays and perform logical operations.\n",
    "\n",
    "Shape Manipulation: Reshape, flatten, and transpose arrays.\n",
    "\n",
    "Sorting and Selecting: Sort data and select elements based on conditions.\n",
    "\n",
    "Input/Output: Read from and write to files.\n",
    "\n",
    "Fourier Transforms: Perform discrete Fourier transforms.\n",
    "\n",
    "Linear Algebra: Solve linear equations and perform matrix operations.\n",
    "\n",
    "Statistics: Compute mean, median, standard deviation, etc.\n",
    "\n",
    "Random Simulations: Generate random numbers and simulate data.\n",
    "\n",
    "                     Why Learn NumPy?\n",
    "Widespread Use: It’s used in many scientific and mathematical Python libraries.\n",
    "\n",
    "Efficiency: Makes it easier and faster to work with large datasets.\n",
    "\n",
    "Foundation for Further Learning: Essential for learning more advanced tools and libraries in the Python ecosystem."
   ]
  },
  {
   "cell_type": "code",
   "execution_count": 2,
   "id": "a208dee4",
   "metadata": {},
   "outputs": [
    {
     "name": "stdout",
     "output_type": "stream",
     "text": [
      "Requirement already satisfied: numpy in c:\\users\\user\\anaconda3\\lib\\site-packages (1.24.3)\n"
     ]
    }
   ],
   "source": [
    "!pip install numpy"
   ]
  },
  {
   "cell_type": "code",
   "execution_count": null,
   "id": "f3ecc5ab",
   "metadata": {},
   "outputs": [],
   "source": [
    "#How to create a basic array,  using zeros Function\n",
    "import numpy as np\n",
    "#The default data type for the array is float64, \n",
    "#which represents numbers as floating-point values. The decimal point indicates that these are floats.\n",
    "np.zeros(20)"
   ]
  },
  {
   "cell_type": "code",
   "execution_count": null,
   "id": "7745308c",
   "metadata": {},
   "outputs": [],
   "source": [
    "#We can change the default data type to int\n",
    "import numpy as np\n",
    "\n",
    "# Create an array of 20 zeros with integer data type\n",
    "array_of_zeros_int = np.zeros(10, dtype=int)\n",
    "\n",
    "print(array_of_zeros_int)\n"
   ]
  },
  {
   "cell_type": "code",
   "execution_count": null,
   "id": "a6852af4",
   "metadata": {},
   "outputs": [],
   "source": [
    "#How to create a basic array,  using ones Function\n",
    "x = np.ones(2)\n",
    "print(x)\n",
    "\n",
    "#change dtype to int\n",
    "y = np.ones(4, dtype=int)\n",
    "print(y)"
   ]
  },
  {
   "cell_type": "code",
   "execution_count": 1,
   "id": "a4fb561f",
   "metadata": {},
   "outputs": [
    {
     "name": "stdout",
     "output_type": "stream",
     "text": [
      "2\n",
      "[1 2 3 4 5]\n",
      "[1 2 3]\n"
     ]
    }
   ],
   "source": [
    "import numpy\n",
    "arr0=numpy.array(2)\n",
    "arr = numpy.array([1, 2, 3, 4, 5])\n",
    "print(arr0)\n",
    "print(arr)\n",
    "print(arr[:3])"
   ]
  },
  {
   "cell_type": "code",
   "execution_count": 4,
   "id": "6dd79eeb",
   "metadata": {},
   "outputs": [
    {
     "name": "stdout",
     "output_type": "stream",
     "text": [
      "[10 20 30 40 50]\n"
     ]
    }
   ],
   "source": [
    "#numpy using alias\n",
    "import numpy as np\n",
    "arr = np.array([10, 20, 30, 40, 50])\n",
    "print(arr)"
   ]
  },
  {
   "cell_type": "code",
   "execution_count": 5,
   "id": "e6bd0c20",
   "metadata": {},
   "outputs": [
    {
     "name": "stdout",
     "output_type": "stream",
     "text": [
      "1.24.3\n"
     ]
    }
   ],
   "source": [
    "#Checking numpy version\n",
    "import numpy as np\n",
    "print(np.__version__)"
   ]
  },
  {
   "cell_type": "markdown",
   "id": "9b7a6c84",
   "metadata": {},
   "source": [
    "# Create a NumPy ndarray Object\n",
    "\n",
    "NumPy is used to work with arrays. The array object in NumPy is called ndarray.\n",
    "We can create a NumPy ndarray object by using the array() function.\n",
    "\n",
    "To create an ndarray, we can pass a list, tuple or any array-like object into the array() method, and it will be converted into an ndarray:"
   ]
  },
  {
   "cell_type": "code",
   "execution_count": 10,
   "id": "5cb1970a",
   "metadata": {},
   "outputs": [
    {
     "name": "stdout",
     "output_type": "stream",
     "text": [
      "arr details:\n",
      "[1 2 3 4 5]\n",
      "<class 'numpy.ndarray'>\n",
      "1\n",
      "arr2 details:\n",
      "50\n",
      "<class 'numpy.ndarray'>\n",
      "0\n"
     ]
    }
   ],
   "source": [
    "import numpy as np\n",
    "arr = np.array([1, 2, 3, 4, 5])\n",
    "arr2=np.array(50)\n",
    "print(\"arr details:\")\n",
    "print(arr)\n",
    "print(type(arr))\n",
    "print(arr.ndim)\n",
    "\n",
    "print(\"arr2 details:\")\n",
    "print(arr2)\n",
    "print(type(arr2))\n",
    "print(arr2.ndim)"
   ]
  },
  {
   "cell_type": "code",
   "execution_count": null,
   "id": "0a7af025",
   "metadata": {},
   "outputs": [],
   "source": [
    "Dimensions in Arrays/Nested Arrays\n",
    "A dimension in arrays is one level of array depth (nested arrays)."
   ]
  },
  {
   "cell_type": "code",
   "execution_count": 1,
   "id": "5cf38b22",
   "metadata": {},
   "outputs": [
    {
     "name": "stdout",
     "output_type": "stream",
     "text": [
      "[11, 22, 33, 44]\n",
      "[[1, 2], [3, 4]]\n",
      "[[[1, 2], [3, 4]], [[5, 6], [7, 8]]]\n"
     ]
    }
   ],
   "source": [
    "import numpy as np\n",
    "# Single Dimention 1D Array creation\n",
    "rollNo = [11, 22, 33, 44]\n",
    "a1D = np.array(rollNo)\n",
    "\n",
    "# Double Dimention 2D Array creation\n",
    "\n",
    "rollNo2D = [\n",
    "    [1, 2], [3, 4]\n",
    "    ]\n",
    "a2D = np.array(rollNo2D)\n",
    "\n",
    "# Three Dimention 3D Array creation\n",
    "rollNo3D = [\n",
    "    [\n",
    "        [1, 2], [3, 4]], [[5, 6], [7, 8]\n",
    "    ]\n",
    "]\n",
    "a3D = np.array(rollNo3D)\n",
    "\n",
    "#Print 1D Array\n",
    "print(rollNo)\n",
    "#Print 2D Array\n",
    "print(rollNo2D)\n",
    "#Print 3D Array\n",
    "print(rollNo3D)"
   ]
  },
  {
   "cell_type": "code",
   "execution_count": 6,
   "id": "852c7087",
   "metadata": {},
   "outputs": [
    {
     "name": "stdout",
     "output_type": "stream",
     "text": [
      "42\n",
      "<class 'numpy.ndarray'>\n"
     ]
    }
   ],
   "source": [
    "# 0-D Dimension Array\n",
    "import numpy as np\n",
    "arr = np.array(42)\n",
    "print(arr)\n",
    "print(type(arr))"
   ]
  },
  {
   "cell_type": "code",
   "execution_count": 1,
   "id": "05a4986b",
   "metadata": {},
   "outputs": [
    {
     "name": "stdout",
     "output_type": "stream",
     "text": [
      "[1 2 3 4 5]\n",
      "1\n"
     ]
    }
   ],
   "source": [
    "#Create a 1-D array containing the values 1,2,3,4,5:\n",
    "\n",
    "import numpy as np\n",
    "arr = np.array([1, 2, 3, 4, 5])\n",
    "print(arr)\n",
    "print(arr.ndim)"
   ]
  },
  {
   "cell_type": "code",
   "execution_count": 2,
   "id": "82c8f649",
   "metadata": {},
   "outputs": [
    {
     "name": "stdout",
     "output_type": "stream",
     "text": [
      "[[1 2 3]\n",
      " [4 5 6]]\n",
      "2\n"
     ]
    }
   ],
   "source": [
    "#Create a 2-D array containing two arrays with the values 1,2,3 and 4,5,6:\n",
    "\n",
    "import numpy as np\n",
    "arr = np.array([[1, 2, 3], [4, 5, 6]])\n",
    "new_arr=np.array([[1,3,4],[10,20,30]])\n",
    "print(arr)\n",
    "print(arr.ndim)"
   ]
  },
  {
   "cell_type": "code",
   "execution_count": 7,
   "id": "a2af520b",
   "metadata": {},
   "outputs": [
    {
     "name": "stdout",
     "output_type": "stream",
     "text": [
      "[[[1 2 3]\n",
      "  [4 5 6]]\n",
      "\n",
      " [[1 2 3]\n",
      "  [4 5 6]]]\n"
     ]
    }
   ],
   "source": [
    "#Create a 3-D array with two 2-D arrays, both containing two arrays with the values 1,2,3 and 4,5,6:\n",
    "\n",
    "import numpy as np\n",
    "arr = np.array([[[1, 2, 3], [4, 5, 6]], [[1, 2, 3], [4, 5, 6]]])\n",
    "print(arr)"
   ]
  },
  {
   "cell_type": "code",
   "execution_count": 3,
   "id": "9e465cf7",
   "metadata": {},
   "outputs": [
    {
     "name": "stdout",
     "output_type": "stream",
     "text": [
      "1\n",
      "2\n",
      "3\n",
      "2\n",
      "[[1 2 3]\n",
      " [4 5 6]\n",
      " [7 8 9]]\n"
     ]
    }
   ],
   "source": [
    "#Check how many dimensions the arrays have:\n",
    "\n",
    "import numpy as np\n",
    "a=np.array([1,2,3])\n",
    "c = np.array([[1, 2, 3], [4, 5, 6]])\n",
    "d = np.array([[[1, 2, 3], [4, 5, 6]], [[1, 2, 3], [4, 5, 6]],[[1,1,1],[2,2,2]]])\n",
    "e=np.array([[1, 2, 3], [4, 5, 6],[7,8,9]])\n",
    "print(a.ndim)\n",
    "print(c.ndim)\n",
    "print(d.ndim)\n",
    "print(e.ndim)\n",
    "print(e)"
   ]
  },
  {
   "cell_type": "code",
   "execution_count": 9,
   "id": "8c95a7c7",
   "metadata": {},
   "outputs": [
    {
     "name": "stdout",
     "output_type": "stream",
     "text": [
      "[[42]]\n",
      "number of dimensions : 2\n"
     ]
    }
   ],
   "source": [
    "#Specifying dimension while creating the array\n",
    "import numpy as np\n",
    "arr = np.array(42, ndmin=2)\n",
    "\n",
    "print(arr)\n",
    "print('number of dimensions :', arr.ndim)"
   ]
  },
  {
   "cell_type": "code",
   "execution_count": null,
   "id": "223ff5d6",
   "metadata": {},
   "outputs": [],
   "source": [
    "import numpy as np\n",
    "x=[10,20,30,40]\n",
    "arr = np.array((1, 2, 3, 4, 5))\n",
    "arr2=np.array(x,ndmin=2)\n",
    "print(arr)\n",
    "print(arr2)"
   ]
  },
  {
   "cell_type": "code",
   "execution_count": 24,
   "id": "a8f8756f",
   "metadata": {},
   "outputs": [
    {
     "name": "stdout",
     "output_type": "stream",
     "text": [
      "[2 3 4]\n"
     ]
    }
   ],
   "source": [
    "#Indexing in arrays\n",
    "import numpy as np\n",
    "arr = np.array([1, 2, 3, 4])\n",
    "print(arr[1:])"
   ]
  },
  {
   "cell_type": "code",
   "execution_count": 25,
   "id": "a3b3d339",
   "metadata": {},
   "outputs": [
    {
     "name": "stdout",
     "output_type": "stream",
     "text": [
      "7\n"
     ]
    }
   ],
   "source": [
    "#Get third and fourth elements from the following array and add them.\n",
    "import numpy as np\n",
    "arr = np.array([1, 2, 3, 4])\n",
    "print(arr[2] + arr[3])"
   ]
  },
  {
   "cell_type": "code",
   "execution_count": 6,
   "id": "2128345b",
   "metadata": {},
   "outputs": [
    {
     "name": "stdout",
     "output_type": "stream",
     "text": [
      "2nd element on 1st row:  8\n"
     ]
    }
   ],
   "source": [
    "#Access 2-D Arrays\n",
    "import numpy as np\n",
    "arr = np.array([[1,2,3,4,5], [6,7,8,9,12]])\n",
    "print('2nd element on 1st row: ', arr[1,2])"
   ]
  },
  {
   "cell_type": "code",
   "execution_count": 1,
   "id": "b3209f23",
   "metadata": {},
   "outputs": [
    {
     "name": "stdout",
     "output_type": "stream",
     "text": [
      "6\n"
     ]
    }
   ],
   "source": [
    "#Access 3-D Arrays\n",
    "import numpy as np\n",
    "arr = np.array([[[1, 2, 3], [4, 5, 6]], [[7, 8, 9], [10, 11, 12]]])\n",
    "print(arr[0, 1, 2])"
   ]
  },
  {
   "cell_type": "code",
   "execution_count": 5,
   "id": "305499c7",
   "metadata": {},
   "outputs": [
    {
     "name": "stdout",
     "output_type": "stream",
     "text": [
      "6\n",
      "[[ 3  6]\n",
      " [ 9 12]]\n",
      "[[ 4  5]\n",
      " [10 11]]\n"
     ]
    }
   ],
   "source": [
    "import numpy as np\n",
    "arr = np.array([[[1, 2, 3], [4, 5, 6]], [[7, 8, 9], [10, 11, 12]]])\n",
    "print(arr[0, 1, 2])\n",
    "print(arr[0:2, 0:2, 2])\n",
    "print(arr[0:2,1,0:2])"
   ]
  },
  {
   "cell_type": "code",
   "execution_count": 12,
   "id": "052b7e1a",
   "metadata": {},
   "outputs": [
    {
     "name": "stdout",
     "output_type": "stream",
     "text": [
      "[3 8]\n"
     ]
    }
   ],
   "source": [
    "#From both elements, return index 2:\n",
    "import numpy as np\n",
    "arr = np.array([[1, 2, 3, 4, 5], [6, 7, 8, 9, 10]])\n",
    "print(arr[0:2, 2])"
   ]
  },
  {
   "cell_type": "code",
   "execution_count": 41,
   "id": "aca546c8",
   "metadata": {},
   "outputs": [
    {
     "name": "stdout",
     "output_type": "stream",
     "text": [
      "[[2 3 4]\n",
      " [7 8 9]]\n"
     ]
    }
   ],
   "source": [
    "import numpy as np\n",
    "arr = np.array([[1, 2, 3, 4, 5], [6, 7, 8, 9, 10]])\n",
    "print(arr[0:2, 1:4])"
   ]
  },
  {
   "cell_type": "code",
   "execution_count": 4,
   "id": "0e5a66df",
   "metadata": {},
   "outputs": [
    {
     "name": "stdout",
     "output_type": "stream",
     "text": [
      "2\n",
      "(2, 4)\n",
      "\n",
      "(2, 2, 4)\n"
     ]
    }
   ],
   "source": [
    "#Get the shape of array\n",
    "import numpy as np\n",
    "arr1 = np.array([[1, 2, 3, 4], [5, 6, 7, 8]])\n",
    "arr2 = np.array([[[1, 2, 3, 4], [5, 6, 7, 8]],[[11, 12, 13, 14], [15, 16, 17, 18]]])\n",
    "print(arr1.ndim)\n",
    "print(arr1.shape)\n",
    "print()\n",
    "print(arr2.shape)"
   ]
  },
  {
   "cell_type": "code",
   "execution_count": 5,
   "id": "c23fe6b5",
   "metadata": {},
   "outputs": [
    {
     "name": "stdout",
     "output_type": "stream",
     "text": [
      "1\n",
      "2\n",
      "[[ 1  2  3]\n",
      " [ 4  5  6]\n",
      " [ 7  8  9]\n",
      " [10 11 12]]\n",
      "\n",
      "[[ 1  2  3  4]\n",
      " [ 5  6  7  8]\n",
      " [ 9 10 11 12]]\n",
      "\n",
      "[[[ 1  2  3]\n",
      "  [ 4  5  6]]\n",
      "\n",
      " [[ 7  8  9]\n",
      "  [10 11 12]]]\n",
      "\n",
      "[[[ 1  2]\n",
      "  [ 3  4]\n",
      "  [ 5  6]]\n",
      "\n",
      " [[ 7  8]\n",
      "  [ 9 10]\n",
      "  [11 12]]]\n"
     ]
    }
   ],
   "source": [
    "#Reshape From 1-D to 3-D\n",
    "#Example : Convert the following 1-D array with 12 elements into a 3-D array.\n",
    "#The outermost dimension will have 2 arrays that contains 3 arrays, each with 2 elements:\n",
    "import numpy as np\n",
    "arr = np.array([1, 2, 3, 4, 5, 6, 7, 8, 9, 10, 11, 12])\n",
    "newarr1 = arr.reshape(4, 3)\n",
    "newarr2 = arr.reshape(3, 4)\n",
    "newarr3 = arr.reshape(2,2,3)\n",
    "print(arr.ndim)\n",
    "print(newarr1.ndim)\n",
    "print(newarr1)\n",
    "print()\n",
    "print(newarr2)\n",
    "print()\n",
    "print(newarr3)\n",
    "print()\n",
    "newarr4 = arr.reshape(2, 3, 2)\n",
    "print(newarr4)"
   ]
  },
  {
   "cell_type": "code",
   "execution_count": 6,
   "id": "3bdc542d",
   "metadata": {},
   "outputs": [
    {
     "ename": "ValueError",
     "evalue": "cannot reshape array of size 8 into shape (3,2)",
     "output_type": "error",
     "traceback": [
      "\u001b[1;31m---------------------------------------------------------------------------\u001b[0m",
      "\u001b[1;31mValueError\u001b[0m                                Traceback (most recent call last)",
      "Cell \u001b[1;32mIn[6], line 3\u001b[0m\n\u001b[0;32m      1\u001b[0m \u001b[38;5;28;01mimport\u001b[39;00m \u001b[38;5;21;01mnumpy\u001b[39;00m \u001b[38;5;28;01mas\u001b[39;00m \u001b[38;5;21;01mnp\u001b[39;00m\n\u001b[0;32m      2\u001b[0m arr \u001b[38;5;241m=\u001b[39m np\u001b[38;5;241m.\u001b[39marray([\u001b[38;5;241m1\u001b[39m, \u001b[38;5;241m2\u001b[39m, \u001b[38;5;241m3\u001b[39m, \u001b[38;5;241m4\u001b[39m, \u001b[38;5;241m5\u001b[39m, \u001b[38;5;241m6\u001b[39m, \u001b[38;5;241m7\u001b[39m, \u001b[38;5;241m8\u001b[39m])\n\u001b[1;32m----> 3\u001b[0m newarr \u001b[38;5;241m=\u001b[39m arr\u001b[38;5;241m.\u001b[39mreshape(\u001b[38;5;241m3\u001b[39m, \u001b[38;5;241m2\u001b[39m)\n\u001b[0;32m      4\u001b[0m \u001b[38;5;28mprint\u001b[39m(newarr)\n",
      "\u001b[1;31mValueError\u001b[0m: cannot reshape array of size 8 into shape (3,2)"
     ]
    }
   ],
   "source": [
    "import numpy as np\n",
    "arr = np.array([1, 2, 3, 4, 5, 6, 7, 8])\n",
    "newarr = arr.reshape(3, 2)\n",
    "print(newarr)"
   ]
  },
  {
   "cell_type": "markdown",
   "id": "be795cd1",
   "metadata": {},
   "source": [
    "# Iterating Arrays"
   ]
  },
  {
   "cell_type": "code",
   "execution_count": 61,
   "id": "ca1b720d",
   "metadata": {},
   "outputs": [
    {
     "name": "stdout",
     "output_type": "stream",
     "text": [
      "1\n",
      "2\n",
      "3\n"
     ]
    }
   ],
   "source": [
    "import numpy as np\n",
    "\n",
    "arr = np.array([1, 2, 3])\n",
    "for x in arr:\n",
    "    print(x)"
   ]
  },
  {
   "cell_type": "markdown",
   "id": "802485ab",
   "metadata": {},
   "source": [
    "dfyhjijoko"
   ]
  },
  {
   "cell_type": "code",
   "execution_count": 62,
   "id": "209a23d7",
   "metadata": {},
   "outputs": [
    {
     "name": "stdout",
     "output_type": "stream",
     "text": [
      "[1 2 3]\n",
      "[4 5 6]\n"
     ]
    }
   ],
   "source": [
    "#Iterating 2-D Arrays\n",
    "import numpy as np\n",
    "arr = np.array([[1, 2, 3], [4, 5, 6]])\n",
    "for x in arr:\n",
    "    print(x)"
   ]
  },
  {
   "cell_type": "code",
   "execution_count": 8,
   "id": "02891403",
   "metadata": {},
   "outputs": [
    {
     "name": "stdout",
     "output_type": "stream",
     "text": [
      "1 2 3 \n",
      "4 5 6 \n"
     ]
    }
   ],
   "source": [
    "#Iterate on each scalar element of the 2-D array:\n",
    "\n",
    "import numpy as np\n",
    "arr = np.array([[1, 2, 3], [4, 5, 6]])\n",
    "for x in arr:\n",
    "    for y in x:\n",
    "        print(y, end=\" \")\n",
    "    print()\n",
    "    "
   ]
  },
  {
   "cell_type": "code",
   "execution_count": 66,
   "id": "104d0d8f",
   "metadata": {},
   "outputs": [
    {
     "name": "stdout",
     "output_type": "stream",
     "text": [
      "1 2 3 \n",
      "4 5 6 \n",
      "7 8 9 \n",
      "10 11 12 \n"
     ]
    }
   ],
   "source": [
    "#Iterating 3-D Arrays\n",
    "import numpy as np\n",
    "arr = np.array([[[1, 2, 3], [4, 5, 6]], [[7, 8, 9], [10, 11, 12]]])\n",
    "for x in arr:\n",
    "    for y in x:\n",
    "        for z in y:\n",
    "            print(z, end=\" \")\n",
    "        print()"
   ]
  },
  {
   "cell_type": "code",
   "execution_count": 5,
   "id": "f70ee20b",
   "metadata": {},
   "outputs": [
    {
     "name": "stdout",
     "output_type": "stream",
     "text": [
      "1 2 3 4 5 6 7 8 "
     ]
    }
   ],
   "source": [
    "#Iterating Arrays Using nditer()\n",
    "import numpy as np\n",
    "\n",
    "arr = np.array([[[1, 2], [3, 4]], [[5, 6], [7, 8]]])\n",
    "\n",
    "for x in np.nditer(arr):\n",
    "    print(x, end=\" \")"
   ]
  },
  {
   "cell_type": "code",
   "execution_count": 9,
   "id": "07693313",
   "metadata": {},
   "outputs": [
    {
     "name": "stdout",
     "output_type": "stream",
     "text": [
      "[1 2 3 4 5 6 9]\n",
      "1\n"
     ]
    }
   ],
   "source": [
    "#Join two arrays\n",
    "\n",
    "import numpy as np\n",
    "arr1 = np.array([1, 2, 3])\n",
    "arr2 = np.array([4, 5, 6, 9])\n",
    "arr = np.concatenate((arr1, arr2))\n",
    "print(arr)\n",
    "print(arr.ndim)"
   ]
  },
  {
   "cell_type": "code",
   "execution_count": 1,
   "id": "78e4ac96",
   "metadata": {},
   "outputs": [
    {
     "name": "stdout",
     "output_type": "stream",
     "text": [
      "1\n",
      "[[1 2 3]\n",
      " [4 5 6]]\n",
      "2\n"
     ]
    }
   ],
   "source": [
    "#NumPy provides a helper function: vstack()  to stack along columns.\n",
    "import numpy as np\n",
    "arr1 = np.array([1, 2, 3])\n",
    "arr2 = np.array([4, 5, 6])\n",
    "#arr3=np.array([7,8,9])\n",
    "arr = np.vstack((arr1, arr2))\n",
    "print(arr1.ndim)\n",
    "print(arr)\n",
    "print(arr.ndim)"
   ]
  },
  {
   "cell_type": "code",
   "execution_count": 5,
   "id": "2ac4f757",
   "metadata": {},
   "outputs": [
    {
     "name": "stdout",
     "output_type": "stream",
     "text": [
      "1\n",
      "[1 2 3 4 5 6]\n",
      "1\n",
      "[1 2 3 4 5 6]\n"
     ]
    }
   ],
   "source": [
    "#NumPy provides a helper function: vstack()  to stack along columns.\n",
    "import numpy as np\n",
    "arr1 = np.array([1, 2, 3])\n",
    "arr2 = np.array([4, 5, 6])\n",
    "#arr3=np.array([7,8,9])\n",
    "arr = np.hstack((arr1, arr2))\n",
    "arr3=np.concatenate((arr1,arr2))\n",
    "print(arr1.ndim)\n",
    "print(arr)\n",
    "print(arr.ndim)\n",
    "print(arr3)"
   ]
  },
  {
   "cell_type": "code",
   "execution_count": 20,
   "id": "d521d04c",
   "metadata": {},
   "outputs": [
    {
     "name": "stdout",
     "output_type": "stream",
     "text": [
      "[array([1, 2]), array([3, 4]), array([5, 6])]\n",
      "[1 2]\n"
     ]
    }
   ],
   "source": [
    "#Split the array in 3 parts:\n",
    "\n",
    "import numpy as np\n",
    "arr = np.array([1, 2, 3, 4,5,6])\n",
    "#arr = np.array([1, 2, 3, 4,5])\n",
    "#arr = np.array([1, 2, 3, 4,5,6,7])\n",
    "newarr = np.array_split(arr, 3)\n",
    "print(newarr)\n",
    "print(newarr[0])"
   ]
  },
  {
   "cell_type": "code",
   "execution_count": 84,
   "id": "c778b7ca",
   "metadata": {},
   "outputs": [
    {
     "name": "stdout",
     "output_type": "stream",
     "text": [
      "[array([1, 2]), array([3, 4]), array([5, 6]), array([6, 5])]\n"
     ]
    }
   ],
   "source": [
    "#Split the array in 4 parts:\n",
    "\n",
    "import numpy as np\n",
    "arr = np.array([1, 2, 3, 4, 5, 6, 6, 5])\n",
    "newarr = np.array_split(arr, 4)\n",
    "print(newarr)"
   ]
  },
  {
   "cell_type": "code",
   "execution_count": 1,
   "id": "46d93a78",
   "metadata": {},
   "outputs": [
    {
     "name": "stdout",
     "output_type": "stream",
     "text": [
      "(array([0, 3, 5, 6], dtype=int64),)\n"
     ]
    }
   ],
   "source": [
    "#Find the indexes where the value is 4:\n",
    "\n",
    "import numpy as np\n",
    "arr = np.array([4, 2, 3, 4, 5, 4, 4])\n",
    "x = np.where(arr == 4)\n",
    "print(x)"
   ]
  },
  {
   "cell_type": "code",
   "execution_count": 21,
   "id": "ce643c84",
   "metadata": {},
   "outputs": [
    {
     "name": "stdout",
     "output_type": "stream",
     "text": [
      "(array([1, 3, 5, 7], dtype=int64),)\n"
     ]
    }
   ],
   "source": [
    "#Find the indexes where the values are even:\n",
    "\n",
    "import numpy as np\n",
    "arr = np.array([1, 2, 3, 4, 5, 6, 7, 8])\n",
    "x = np.where(arr%2 == 0)\n",
    "print(x)"
   ]
  },
  {
   "cell_type": "code",
   "execution_count": 23,
   "id": "71f95c30",
   "metadata": {},
   "outputs": [
    {
     "name": "stdout",
     "output_type": "stream",
     "text": [
      "(array([0, 2, 4, 6], dtype=int64),)\n"
     ]
    }
   ],
   "source": [
    "#Find the indexes where the values are odd:\n",
    "\n",
    "import numpy as np\n",
    "arr = np.array([1, 2, 3, 4, 5, 6, 7, 8])\n",
    "x = np.where(arr%2 !=0)\n",
    "print(x)"
   ]
  },
  {
   "cell_type": "code",
   "execution_count": 9,
   "id": "f886235c",
   "metadata": {},
   "outputs": [
    {
     "name": "stdout",
     "output_type": "stream",
     "text": [
      "[10  2  3  4  5]\n",
      "[10  2  3  4  5]\n",
      "[10  2 42  4  5]\n",
      "[10  2  3 90  5]\n"
     ]
    }
   ],
   "source": [
    "#COPY:Make a copy of an array, change the original array, and display both arrays:\n",
    "\n",
    "import numpy as np\n",
    "\n",
    "arr = np.array([10, 2, 3, 4, 5])\n",
    "x = arr.copy()\n",
    "print(arr)\n",
    "print(x)\n",
    "\n",
    "arr[2] = 42\n",
    "x[3]=90\n",
    "\n",
    "print(arr)\n",
    "print(x)"
   ]
  },
  {
   "cell_type": "code",
   "execution_count": 6,
   "id": "08a26941",
   "metadata": {},
   "outputs": [
    {
     "name": "stdout",
     "output_type": "stream",
     "text": [
      "[1 2 3 4 5]\n",
      "[1 2 3 4 5]\n",
      "[42  2  3  4  5]\n",
      "[42  2  3  4  5]\n",
      "\n",
      "[31  2  3  4  5]\n",
      "[31  2  3  4  5]\n"
     ]
    }
   ],
   "source": [
    "import numpy as np\n",
    "\n",
    "arr = np.array([1, 2, 3, 4, 5])\n",
    "x = arr.view()\n",
    "print(arr)\n",
    "print(x)\n",
    "#making changes in arr\n",
    "arr[0] = 42\n",
    "print(arr)\n",
    "print(x)\n",
    "print()\n",
    "#Making changes in view\n",
    "x[0] = 31\n",
    "print(arr\n",
    "     )\n",
    "print(x)\n"
   ]
  },
  {
   "cell_type": "code",
   "execution_count": 6,
   "id": "6f0eccb2",
   "metadata": {},
   "outputs": [
    {
     "name": "stdout",
     "output_type": "stream",
     "text": [
      "None\n",
      "[1 2 3 4 5]\n"
     ]
    }
   ],
   "source": [
    "'''Check if the array owns the data.\n",
    "copies owns the data, and views does not own the data.\n",
    "\n",
    "Every NumPy array has the attribute base that returns None if the array owns the data.\n",
    "Otherwise, the base  attribute refers to the original object.\n",
    "\n",
    "Print the value of the base attribute to check if an array owns it's data or not:\n",
    "'''\n",
    "import numpy as np\n",
    "\n",
    "arr = np.array([1, 2, 3, 4, 5])\n",
    "\n",
    "x = arr.copy()\n",
    "y = arr.view()\n",
    "\n",
    "print(x.base)\n",
    "print(y.base)\n"
   ]
  },
  {
   "cell_type": "code",
   "execution_count": 6,
   "id": "959196ed",
   "metadata": {},
   "outputs": [
    {
     "name": "stdout",
     "output_type": "stream",
     "text": [
      "[0 1 2 3]\n",
      "[0 1 2 3]\n",
      "[3 2 1 0]\n"
     ]
    }
   ],
   "source": [
    "#Sorting Arrays\n",
    "#Sorting means putting elements in an ordered sequence\n",
    "\n",
    "import numpy as np\n",
    "arr = np.array([3, 2, 0, 1])\n",
    "print(np.sort(arr))\n",
    "sorted_array=np.sort(arr)\n",
    "rev_array=sorted_array[::-1]\n",
    "print(sorted_array)\n",
    "print(rev_array)"
   ]
  },
  {
   "cell_type": "code",
   "execution_count": 87,
   "id": "105ed274",
   "metadata": {},
   "outputs": [
    {
     "name": "stdout",
     "output_type": "stream",
     "text": [
      "['apple' 'banana' 'cherry']\n"
     ]
    }
   ],
   "source": [
    "#Sort the array alphabetically:\n",
    "\n",
    "import numpy as np\n",
    "arr = np.array(['banana', 'cherry', 'apple'])\n",
    "print(np.sort(arr))"
   ]
  },
  {
   "cell_type": "code",
   "execution_count": 88,
   "id": "24d0127d",
   "metadata": {},
   "outputs": [
    {
     "name": "stdout",
     "output_type": "stream",
     "text": [
      "[False  True  True]\n"
     ]
    }
   ],
   "source": [
    "#Sort a boolean array:\n",
    "\n",
    "import numpy as np\n",
    "arr = np.array([True, False, True])\n",
    "print(np.sort(arr))"
   ]
  },
  {
   "cell_type": "code",
   "execution_count": 89,
   "id": "cf3312d9",
   "metadata": {},
   "outputs": [
    {
     "name": "stdout",
     "output_type": "stream",
     "text": [
      "[[2 3 4]\n",
      " [0 1 5]]\n"
     ]
    }
   ],
   "source": [
    "#Sort a 2-D array:\n",
    "\n",
    "import numpy as np\n",
    "arr = np.array([[3, 2, 4], [5, 0, 1]])\n",
    "print(np.sort(arr))"
   ]
  },
  {
   "cell_type": "markdown",
   "id": "9dd5725e",
   "metadata": {},
   "source": [
    "# NumPy arange(): How to Use np.arange()"
   ]
  },
  {
   "cell_type": "markdown",
   "id": "62a78c34",
   "metadata": {},
   "source": [
    "NumPy arange() is one of the array creation routines based on numerical ranges. It creates an instance of ndarray with evenly spaced values and returns the reference to it.\n",
    "\n",
    "You can define the interval of the values contained in an array, space between them, and their type with four parameters of arange():\n",
    "\n",
    "numpy.arange([start, ]stop, [step, ], dtype=None) -> numpy.ndarray"
   ]
  },
  {
   "cell_type": "code",
   "execution_count": null,
   "id": "a65086b6",
   "metadata": {},
   "outputs": [],
   "source": [
    "The first three parameters determine the range of the values, while the fourth specifies \n",
    "the type of the elements:\n",
    "\n",
    "start is the number (integer or decimal) that defines the first value in the array.\n",
    "stop is the number that defines the end of the array and isn’t included in the array.\n",
    "step is the number that defines the spacing (difference) between each two consecutive values\n",
    "in the array and defaults to 1.\n",
    "dtype is the type of the elements of the output array and defaults to None.\n",
    "step can’t be zero. Otherwise, you’ll get a ZeroDivisionError. \n",
    "You can’t move away anywhere from start if the \n",
    "increment or decrement is 0."
   ]
  },
  {
   "cell_type": "code",
   "execution_count": 5,
   "id": "1e8ca153",
   "metadata": {},
   "outputs": [
    {
     "name": "stdout",
     "output_type": "stream",
     "text": [
      "[1 3 5 7 9]\n"
     ]
    }
   ],
   "source": [
    "import numpy as np\n",
    "x=np.arange(start=1, stop=10, step=2)\n",
    "print(x)"
   ]
  },
  {
   "cell_type": "code",
   "execution_count": 4,
   "id": "88861e1a",
   "metadata": {},
   "outputs": [
    {
     "data": {
      "text/plain": [
       "array([ 1.,  4.,  7., 10.])"
      ]
     },
     "execution_count": 4,
     "metadata": {},
     "output_type": "execute_result"
    }
   ],
   "source": [
    "import numpy as np\n",
    "np.arange(1, 10.1, 3)"
   ]
  },
  {
   "cell_type": "code",
   "execution_count": 98,
   "id": "26935946",
   "metadata": {},
   "outputs": [
    {
     "data": {
      "text/plain": [
       "array([-5, -3])"
      ]
     },
     "execution_count": 98,
     "metadata": {},
     "output_type": "execute_result"
    }
   ],
   "source": [
    "#Providing Negative Arguments\n",
    "import numpy as np\n",
    "np.arange(-5, -1, 2)"
   ]
  },
  {
   "cell_type": "code",
   "execution_count": 10,
   "id": "b7b6ab5c",
   "metadata": {},
   "outputs": [
    {
     "data": {
      "text/plain": [
       "array([5, 4, 3, 2])"
      ]
     },
     "execution_count": 10,
     "metadata": {},
     "output_type": "execute_result"
    }
   ],
   "source": [
    "#Counting Backwards\n",
    "import numpy as np\n",
    "np.arange(5, 1, -1)\n",
    "#print(x)"
   ]
  },
  {
   "cell_type": "markdown",
   "id": "c80ee34d",
   "metadata": {},
   "source": [
    "# Some Logical operations"
   ]
  },
  {
   "cell_type": "code",
   "execution_count": 2,
   "id": "9f9a6d20",
   "metadata": {},
   "outputs": [
    {
     "name": "stdout",
     "output_type": "stream",
     "text": [
      "[ 5  6  7  8  9 10 11 12]\n"
     ]
    }
   ],
   "source": [
    "#Some logical Operation\n",
    "#print all the numbers greater than 5\n",
    "data = np.array([[1 , 2, 3, 4], [5, 6, 7, 8], [9, 10, 11, 12]])\n",
    "print(data[data>=5])"
   ]
  },
  {
   "cell_type": "code",
   "execution_count": null,
   "id": "291fe8f9",
   "metadata": {},
   "outputs": [],
   "source": [
    "#You can select elements that are divisible by 2:\n",
    "data = np.array([[1 , 2, 3, 4], [5, 6, 7, 8], [9, 10, 11, 12]])\n",
    "divisible_by_2 = data[data%2!=0]\n",
    "print(divisible_by_2)\n"
   ]
  },
  {
   "cell_type": "code",
   "execution_count": null,
   "id": "f113f0c3",
   "metadata": {},
   "outputs": [],
   "source": [
    "#you can select elements that satisfy two conditions using the & and | operators:\n",
    "data = np.array([[1 , 2, 3, 4], [5, 6, 7, 8], [9, 10, 11, 12]])\n",
    "c = data[(data > 2) & (data < 11)]\n",
    "print(c)"
   ]
  },
  {
   "cell_type": "code",
   "execution_count": null,
   "id": "3b94f006",
   "metadata": {},
   "outputs": [],
   "source": [
    "#You can create a new array from a section of your array \n",
    "#any time by specifying where you want to slice your array.\n",
    "a = np.array([1,  2,  3,  4,  5,  6,  7,  8,  9, 10])\n",
    "\n",
    "arr1 = a[3:8]\n",
    "arr1"
   ]
  },
  {
   "cell_type": "code",
   "execution_count": null,
   "id": "12765311",
   "metadata": {},
   "outputs": [],
   "source": [
    "#You can add the arrays together with the plus sign.\n",
    "\n",
    "data = np.array([1, 2])\n",
    "print(data)\n",
    "ones = np.ones(2, dtype=int)\n",
    "print(ones)\n",
    "newdata = data + ones\n",
    "print(\"-----\")\n",
    "print(newdata)"
   ]
  },
  {
   "cell_type": "code",
   "execution_count": null,
   "id": "f6e29f37",
   "metadata": {},
   "outputs": [],
   "source": [
    "#You can, of course, do more than just addition!\n",
    "data = np.array([1, 2])\n",
    "print(data)\n",
    "ones = np.ones(2, dtype=int)\n",
    "minus = data - ones\n",
    "print(minus)\n",
    "\n",
    "multi = data * data\n",
    "print(multi)\n",
    "\n",
    "div = data / data\n",
    "print(div)\n",
    "\n"
   ]
  },
  {
   "cell_type": "code",
   "execution_count": null,
   "id": "29b48dd1",
   "metadata": {},
   "outputs": [],
   "source": [
    "#To add the rows or the columns in a 2D array, you would specify the axis.\n",
    "\n",
    "#If you start with this array:\n",
    "\n",
    "b = np.array([[1, 1], [2, 2]])\n",
    "\n",
    "#You can sum over the axis of rows with:\n",
    "\n",
    "ans = b.sum(axis=0)\n",
    "print(ans)\n",
    "\n",
    "\n",
    "#You can sum over the axis of columns with:\n",
    "\n",
    "ans1 = b.sum(axis=1)\n",
    "print(ans1)\n",
    "\n"
   ]
  },
  {
   "cell_type": "code",
   "execution_count": null,
   "id": "5ac36a60",
   "metadata": {},
   "outputs": [],
   "source": [
    "#More useful array operations\n",
    "#data = np.array([11,22,33,55,44,33,66,88,77])\n",
    "data = np.array([[1, 1], [2, 2]])\n",
    "max = data.max()\n",
    "print(max)\n",
    "\n",
    "min = data.min()\n",
    "print(min)\n",
    "\n",
    "sum = data.sum()\n",
    "print(sum)\n"
   ]
  },
  {
   "cell_type": "code",
   "execution_count": null,
   "id": "11442113",
   "metadata": {},
   "outputs": [],
   "source": [
    "#How to get unique items and counts\n",
    "a = np.array([11, 11, 12, 13, 14, 15, 16, 17, 12, 13, 11, 14, 18, 19, 20])\n",
    "unique_values = np.unique(a)\n",
    "print(unique_values)"
   ]
  },
  {
   "cell_type": "code",
   "execution_count": null,
   "id": "0800e48b",
   "metadata": {},
   "outputs": [],
   "source": [
    "#To get the indices of unique values in a NumPy array\n",
    "#(an array of first index positions of unique values in the array), \n",
    "#just pass the return_index argument in np.unique() as well as your array.\n",
    "a = np.array([11, 11, 12, 13, 14, 15, 16, 17, 12, 13, 11, 14, 18, 19, 20])\n",
    "unique_values, indices_list = np.unique(a, return_index=True)\n",
    "print(indices_list)\n",
    "print(unique_values)"
   ]
  },
  {
   "cell_type": "code",
   "execution_count": null,
   "id": "91c17eea",
   "metadata": {},
   "outputs": [],
   "source": [
    "#You can pass the return_counts argument in np.unique() along with your array to get \n",
    "#the frequency count of unique values in a NumPy array.\n",
    "a = np.array([11, 11, 12, 13, 14, 15, 16, 17, 12, 13, 11, 14, 18, 19, 20])\n",
    "unique_values, occurrence_count = np.unique(a, return_counts=True)\n",
    "print(occurrence_count)"
   ]
  },
  {
   "cell_type": "code",
   "execution_count": null,
   "id": "7d5aa904",
   "metadata": {},
   "outputs": [],
   "source": [
    "#This also works with 2D arrays! If you start with this array:\n",
    "\n",
    "a_2d = np.array([[1, 2, 3, 4], [5, 6, 7, 8], [9, 10, 11, 12], [1, 2, 3, 4]])\n",
    "\n",
    "#You can find unique values with:\n",
    "\n",
    "unique_values = np.unique(a_2d)\n",
    "print(unique_values)\n"
   ]
  },
  {
   "cell_type": "code",
   "execution_count": null,
   "id": "349311af",
   "metadata": {},
   "outputs": [],
   "source": [
    "#Reversing a 1D array\n",
    "\n",
    "#If you begin with a 1D array like this one:\n",
    "\n",
    "arr = np.array([1, 2, 3, 4, 5, 6, 7, 8])\n",
    "\n",
    "#You can reverse it with:\n",
    "\n",
    "reversed_arr = np.flip(arr)\n",
    "\n",
    "#If you want to print your reversed array, you can run:\n",
    "\n",
    "print('Reversed Array: ', reversed_arr)\n"
   ]
  },
  {
   "cell_type": "code",
   "execution_count": null,
   "id": "30aad34c",
   "metadata": {},
   "outputs": [],
   "source": [
    "#Reversing a 2D array\n",
    "\n",
    "#A 2D array works much the same way.\n",
    "\n",
    "#If you start with this array:\n",
    "\n",
    "arr_2d = np.array([[1, 2, 3, 4], [5, 6, 7, 8], [9, 10, 11, 12]])\n",
    "\n",
    "#ou can reverse the content in all of the rows and all of the columns with:\n",
    "\n",
    "reversed_arr = np.flip(arr_2d)\n",
    "print(reversed_arr)\n",
    "\n",
    "#You can easily reverse only the rows with:\n",
    "\n",
    "reversed_arr_rows = np.flip(arr_2d, axis=0)\n",
    "print(reversed_arr_rows)\n",
    "\n",
    "#Or reverse only the columns with:\n",
    "\n",
    "reversed_arr_columns = np.flip(arr_2d, axis=1)\n",
    "print(reversed_arr_columns)\n",
    "\n",
    "#You can also reverse the contents of only one column or row. \n",
    "#For example, you can reverse the contents of the row at index position 1 (the second row):\n",
    "\n",
    "arr_2d[1] = np.flip(arr_2d[1])\n",
    "\n",
    "#You can also reverse the column at index position 1 (the second column):\n",
    "\n",
    "arr_2d[:,1] = np.flip(arr_2d[:,1])\n",
    "print(arr_2d)\n"
   ]
  },
  {
   "cell_type": "markdown",
   "id": "c7ca7451",
   "metadata": {},
   "source": [
    "# Case Study:The Nagpur West Side CEO collects data on the monthly incomes (in Indian Rupees) of a sample of 12 potential customers in Nagpur:\n",
    "\n"
   ]
  },
  {
   "cell_type": "code",
   "execution_count": null,
   "id": "23d64bd0",
   "metadata": {},
   "outputs": [],
   "source": [
    "import numpy as np\n",
    "\n",
    "# Given data\n",
    "incomes = np.array([30000, 25000, 35000, 40000, 30000, 28000, 22000, 32000, 38000, 30000, 26000, 34000])\n",
    "\n",
    "# Calculate Mean\n",
    "mean_income = np.mean(incomes)\n",
    "print(\"Mean Income:\", mean_income)\n",
    "\n",
    "# Calculate Median\n",
    "median_income = np.median(incomes)\n",
    "print(\"Median Income:\", median_income)\n",
    "\n",
    "# Calculate Mode (Using NumPy)\n",
    "(unique, counts) = np.unique(incomes, return_counts=True)\n",
    "mode_income = unique[np.argmax(counts)]\n",
    "print(\"Mode Income:\", mode_income)\n"
   ]
  },
  {
   "cell_type": "markdown",
   "id": "a14899a4",
   "metadata": {},
   "source": [
    "Based on the calculations of mean, median, and mode from the given dataset of \n",
    "monthly incomes of potential customers in Nagpur, we can draw the following conclusions:\n",
    "\n",
    "Mean Income:\n",
    "\n",
    "Value: ₹30833.3\n",
    "Interpretation: The average monthly income of the sample of 10 potential \n",
    "customers is ₹30833.3. This value provides an overall sense of the purchasing power of the residents in the sample. \n",
    "However, it can be influenced by extreme values (outliers).\n",
    "Median Income:\n",
    "\n",
    "Value: ₹30000.0\n",
    "Interpretation: The median monthly income is ₹30,000, which means that half \n",
    "of the residents in the sample earn more than ₹30,000, and the other half earn less. The median is less affected by outliers and gives a better sense of the typical income in the sample.\n",
    "Mode Income:\n",
    "\n",
    "Value: ₹30000\n",
    "Interpretation: The mode is ₹30000, indicating that this income value \n",
    "occurs most frequently in the sample. It shows the most common income level among the potential customers.\n",
    "\n",
    "Inferences\n",
    "Purchasing Power:\n",
    "\n",
    "The mean and median incomes suggest that the average resident in the \n",
    "sample has a moderate level of purchasing power. The median being close to the mean indicates a relatively symmetrical distribution of incomes.\n",
    "\n",
    "Income Distribution:\n",
    "\n",
    "The mode, which is the same as the median in this case, \n",
    "confirms that ₹30,000 is the most common income among the sampled residents. This uniformity suggests that a significant portion of the population has similar earning levels.\n",
    "Business Viability:\n",
    "\n",
    "The consistent values of mean, median, and mode around ₹30,000 suggest \n",
    "a stable income distribution among potential customers. This consistency can be a positive indicator for the CEO considering opening a West Side Store in Nagpur. A relatively homogenous income distribution implies predictable spending patterns, which can aid in business planning and marketing strategies.\n",
    "\n",
    "Further Considerations:\n",
    "\n",
    "While the sample provides useful insights, it is important to consider a \n",
    "larger and more diverse sample to get a comprehensive understanding of the \n",
    "city's overall purchasing power. Additionally, other factors such as cost of living, \n",
    "competition, and consumer behavior should also be evaluated before making a final decision."
   ]
  },
  {
   "cell_type": "markdown",
   "id": "0b6a895f",
   "metadata": {},
   "source": [
    "# Finding Std.Deviation and Variance using numpy"
   ]
  },
  {
   "cell_type": "code",
   "execution_count": 126,
   "id": "addcedbb",
   "metadata": {},
   "outputs": [
    {
     "name": "stdout",
     "output_type": "stream",
     "text": [
      "45.89843860815601\n"
     ]
    }
   ],
   "source": [
    "#Find Standard Deviation\n",
    "import numpy as np\n",
    "x = np.arange(159)\n",
    "print(np.std(x))"
   ]
  },
  {
   "cell_type": "code",
   "execution_count": 127,
   "id": "cfb899bf",
   "metadata": {},
   "outputs": [
    {
     "name": "stdout",
     "output_type": "stream",
     "text": [
      "2106.6666666666665\n"
     ]
    }
   ],
   "source": [
    "#Find Variance\n",
    "import numpy as np\n",
    "x = np.arange(159)\n",
    "print(np.var(x))"
   ]
  },
  {
   "cell_type": "code",
   "execution_count": null,
   "id": "52de4ad5",
   "metadata": {},
   "outputs": [],
   "source": []
  }
 ],
 "metadata": {
  "kernelspec": {
   "display_name": "Python 3 (ipykernel)",
   "language": "python",
   "name": "python3"
  },
  "language_info": {
   "codemirror_mode": {
    "name": "ipython",
    "version": 3
   },
   "file_extension": ".py",
   "mimetype": "text/x-python",
   "name": "python",
   "nbconvert_exporter": "python",
   "pygments_lexer": "ipython3",
   "version": "3.11.5"
  }
 },
 "nbformat": 4,
 "nbformat_minor": 5
}
