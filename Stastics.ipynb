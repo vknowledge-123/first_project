{
 "cells": [
  {
   "cell_type": "markdown",
   "id": "8a665a38-891b-451f-b7cf-2ce0b53ec705",
   "metadata": {},
   "source": [
    "# 1st Moment Business Decision :--"
   ]
  },
  {
   "cell_type": "code",
   "execution_count": null,
   "id": "25e26f89-3919-4fe6-9132-d6f213e4cd45",
   "metadata": {},
   "outputs": [],
   "source": [
    "# 1.Calculate the \"Mean\"\n",
    "Sample_Data = [30000,35000,42000,50000,52000,35000,33000,36000,40000,22000]\n",
    "sum = 0\n",
    "for i in Sample_Data:\n",
    "    sum = sum + int(i)\n",
    "    print(sum)\n",
    "Avg = sum / len(Sample_Data)\n",
    "print(\"Mean of Sample_Data is\",{Avg})"
   ]
  },
  {
   "cell_type": "code",
   "execution_count": 21,
   "id": "ed2825fb-eaed-44b2-8a7c-cf13c1234ab5",
   "metadata": {},
   "outputs": [
    {
     "name": "stdout",
     "output_type": "stream",
     "text": [
      "[20, 22, 23, 26, 26, 27, 32, 35, 40, 90]\n",
      "10\n",
      "median value of Age group is 26.5\n"
     ]
    }
   ],
   "source": [
    "# 2.Calculate the \"Median\n",
    "# n = even\n",
    "Age_group = [32,35,20,26,22,23,27,26,40,90,]\n",
    "Age_group.sort()\n",
    "print(Age_group)\n",
    "\n",
    "n = len(Age_group)\n",
    "print(n)\n",
    "median = (Age_group[n//2 - 1] + Age_group[n//2]) / 2  \n",
    "print(f\"median value of Age group is {median}\")"
   ]
  },
  {
   "cell_type": "code",
   "execution_count": 20,
   "id": "1b6d2f5f-6793-4093-81a1-cf28fd42c6b5",
   "metadata": {},
   "outputs": [
    {
     "name": "stdout",
     "output_type": "stream",
     "text": [
      "[20, 22, 23, 26, 26, 27, 32, 35, 40, 50, 90]\n",
      "11\n",
      "median value of Age group is 27\n"
     ]
    }
   ],
   "source": [
    "# 2.Calculate the \"Median\n",
    "# n = odd\n",
    "Age_group = [32,35,20,26,22,23,27,26,40,90,50]\n",
    "Age_group.sort()\n",
    "print(Age_group)\n",
    "\n",
    "n = len(Age_group)\n",
    "print(n)\n",
    "median =  Age_group[n//2]\n",
    "print(f\"median value of Age group is {median}\")"
   ]
  },
  {
   "cell_type": "code",
   "execution_count": 12,
   "id": "18686d31-5776-4a7a-8ace-a9ae9706fab8",
   "metadata": {},
   "outputs": [
    {
     "name": "stdout",
     "output_type": "stream",
     "text": [
      "{'shirt': 4, 'trouser': 3, 'jeans': 1, 't-shirt': 1, 'hoody': 1}\n",
      "The mode of the list is : shirt\n"
     ]
    }
   ],
   "source": [
    "# 3.Calculate the \"Mode\" :\n",
    "list1 = [\"shirt\",\"trouser\",\"trouser\",\"jeans\",\"t-shirt\",\"hoody\",\"shirt\",\"shirt\",\"trouser\",\"shirt\"]\n",
    "outfits = {}\n",
    "for item in list1:\n",
    "    if item in outfits:\n",
    "        outfits[item] = outfits[item] + 1\n",
    "    else:\n",
    "        outfits[item] = 1\n",
    "print(outfits)\n",
    "# find the item with the highest frequency (mode)\n",
    "max_freq = 0\n",
    "max_item = None\n",
    "for item,freq in outfits.items():\n",
    "    if freq > max_freq:\n",
    "        max_freq = freq\n",
    "        mode_item = item\n",
    "\n",
    "print(\"The mode of the list is :\", mode_item)"
   ]
  },
  {
   "cell_type": "code",
   "execution_count": 1,
   "id": "447ad925-894f-4ff5-9f29-4b8577595ca8",
   "metadata": {},
   "outputs": [
    {
     "name": "stdout",
     "output_type": "stream",
     "text": [
      "15\n",
      "First Quartile (Q1) : 18\n",
      "Third Quartile (Q3) : 30\n",
      "IQR : 12\n",
      "x : 18.0\n",
      "LB : 0.0\n",
      "UB : 48.0\n",
      "outliers: [100]\n"
     ]
    }
   ],
   "source": [
    "data = [15,16,17,18,19,20,21,22,23,25,28,30,35,40,100]\n",
    "sorted_data = sorted(data)\n",
    "n = len(data)  #(n = 15)\n",
    "print(n)\n",
    "\n",
    "#Q1 = first quartile \n",
    "Q1_index = int(0.25 * n)\n",
    "Q1 = sorted_data[Q1_index]\n",
    "        \n",
    "print(\"First Quartile (Q1) :\",Q1)\n",
    "\n",
    "#Q2 = second quartile\n",
    "Q3_index = int(0.75 * n)\n",
    "Q3 = sorted_data[Q3_index]\n",
    "print(\"Third Quartile (Q3) :\",Q3)\n",
    "\n",
    "#calculte the IQR(Interquartile Range):\n",
    "IQR = Q3 - Q1           #IQR =35-19= 16\n",
    "print(\"IQR :\", IQR)\n",
    "\n",
    "#for outliers rule:\n",
    "x = (1.5*IQR)      #(1.5*16)= 24\n",
    "print(\"x :\", x)\n",
    "LB = Q1 - (1.5*IQR)  #(19-24 = -5)\n",
    "print(\"LB :\",LB)   \n",
    "UB = Q3 + (1.5*IQR)  #(35+24 = 59)\n",
    "print( \"UB :\",UB)\n",
    "\n",
    "#identify the outliers and print\n",
    "outliers = [value for value in data if value < LB or value > UB]\n",
    "print(\"outliers:\",outliers)"
   ]
  },
  {
   "cell_type": "code",
   "execution_count": 15,
   "id": "973db7f4-6812-4192-afdd-c63108145e13",
   "metadata": {},
   "outputs": [
    {
     "name": "stdout",
     "output_type": "stream",
     "text": [
      "Q1_index :- 2\n",
      "First Quartile (Q1) : 30000\n",
      "Q3_index :- 7\n",
      "Third Quartile (Q3) : 55000\n",
      "Interquartile Range : 25000\n",
      "x : 37500.0\n",
      "LB : -7500.0\n",
      "UB : 92500.0\n",
      "outliers: [200000]\n"
     ]
    }
   ],
   "source": [
    "Income = [20000,25000,30000,35000,40000,45000,50000,55000,60000,200000]\n",
    "n = len(Income)  #(n = 10 )\n",
    "#print(n)\n",
    "\n",
    "#Q1 = first quartile \n",
    "Q1_index = int(0.25 * n)\n",
    "print(f\"Q1_index :- {Q1_index}\")\n",
    "Q1 = Income[Q1_index]       \n",
    "print(\"First Quartile (Q1) :\",Q1)\n",
    "\n",
    "#Q2 = second quartile\n",
    "Q3_index = int(0.75 * n)\n",
    "print(f\"Q3_index :- {Q3_index}\")\n",
    "Q3 = Income[Q3_index]      \n",
    "print(\"Third Quartile (Q3) :\",Q3)\n",
    "\n",
    "#calculte the IQR(Interquartile Range):\n",
    "IQR = Q3 - Q1          \n",
    "print(\"Interquartile Range :\", IQR)\n",
    "\n",
    "#for outliers rule:\n",
    "x = (1.5*IQR)      \n",
    "print(\"x :\", x)\n",
    "LB = Q1 - (1.5*IQR)  \n",
    "print(\"LB :\",LB)  \n",
    "UB = Q3 + (1.5*IQR)  \n",
    "print( \"UB :\", UB)\n",
    "\n",
    "#identify the outliers and print\n",
    "outliers = [value for value in Income if value < LB or value > UB]\n",
    "print(\"outliers:\",outliers)"
   ]
  },
  {
   "cell_type": "code",
   "execution_count": 10,
   "id": "ce1a9a11-008d-4623-b596-6dee228a4192",
   "metadata": {},
   "outputs": [
    {
     "name": "stdout",
     "output_type": "stream",
     "text": [
      "10\n",
      "median age : 27.5\n"
     ]
    }
   ],
   "source": [
    "age = [21,24,25,26,27,28,32,36,40,52,]\n",
    "age_sorted = sorted(age)\n",
    "num_observations = len(age_sorted)\n",
    "print(num_observations)\n",
    "\n",
    "if num_observations % 2 == 1:\n",
    "    median_index = num_observations // 2\n",
    "    median_age = age_sorted[median_index]\n",
    "    print(\"median age :\",median_age)\n",
    "else:                                         \n",
    "    median_index1 = num_observations // 2 - 1\n",
    "    median_index2 = num_observations // 2\n",
    "    me dian_age1 = (age_sorted[median_index1]+age_sorted[median_index2])/2\n",
    "    print(\"median age :\",median_age1)\n",
    "    \n"
   ]
  },
  {
   "cell_type": "code",
   "execution_count": 6,
   "id": "f9b46325-c749-45a1-b1b1-ae785c332647",
   "metadata": {},
   "outputs": [
    {
     "name": "stdout",
     "output_type": "stream",
     "text": [
      "[38, 46, 51, 57, 79]\n",
      "1\n",
      "46\n",
      "3\n",
      "57\n",
      "11\n",
      "16.5\n"
     ]
    }
   ],
   "source": [
    "height = [38, 51, 46, 79, 57]\n",
    "sorted_height = sorted(height)\n",
    "n = len(height)\n",
    "print(sorted_height)\n",
    "Q1_index = int(0.25 * n)\n",
    "print(Q1_index)\n",
    "print(Q1)\n",
    "Q3_index = int(0.75 * n)\n",
    "print(Q3_index)\n",
    "print(Q3)\n",
    "Q1 = sorted_height[Q1_index]\n",
    "Q3 = sorted_height[Q3_index]\n",
    "IQR = Q3 - Q1\n",
    "print(IQR)\n",
    "\n",
    "x = 1.5 * IQR\n",
    "print(x)"
   ]
  },
  {
   "cell_type": "code",
   "execution_count": null,
   "id": "0e65ba55-98c0-46b6-88b4-65c3f631bf13",
   "metadata": {},
   "outputs": [],
   "source": []
  },
  {
   "cell_type": "markdown",
   "id": "3a9cab3a-9086-478c-ba21-fa927b7f87c4",
   "metadata": {},
   "source": [
    "# 2nd Moment Business Decision :--"
   ]
  },
  {
   "cell_type": "code",
   "execution_count": 2,
   "id": "8db848c4-618a-4e4f-8a81-e9aa7e45d4e4",
   "metadata": {},
   "outputs": [
    {
     "name": "stdout",
     "output_type": "stream",
     "text": [
      "mean : 24.4\n",
      "variance : 10.64\n",
      "standard deviation : 3.26\n"
     ]
    }
   ],
   "source": [
    "Age = [22,23,26,21,30]\n",
    "\n",
    "# step 1 : calculate the mean\n",
    "mean = sum(Age) / len(Age)\n",
    "\n",
    "# step 2 : calculate the variance \n",
    "variance = sum((x - mean) ** 2 for x in Age) / len(Age)\n",
    "\n",
    "# step 3 : calculate the standard deviation \n",
    "standard_deviation = variance ** 0.5\n",
    "\n",
    "# print the results\n",
    "print(\"mean :\",mean)\n",
    "print(\"variance :\",variance)\n",
    "print(f\"standard deviation : {standard_deviation:.2f}\")"
   ]
  },
  {
   "cell_type": "code",
   "execution_count": 7,
   "id": "c10a94d3-efe8-4497-98f2-0b2f0db444bf",
   "metadata": {},
   "outputs": [
    {
     "name": "stdout",
     "output_type": "stream",
     "text": [
      "mean : 45.5\n",
      "variance : 1758.05\n",
      "standard deviation : 41.93\n"
     ]
    }
   ],
   "source": [
    "data =[15,18,20,22,25,30,35,40,100,150]\n",
    "\n",
    "# step 1 : calculate the mean\n",
    "mean = sum(data) / len(data)\n",
    "\n",
    "# step 2 : calculate the variance \n",
    "variance = sum((x - mean) ** 2 for x in data) / len(data)\n",
    "\n",
    "# step 3 : calculate the standard deviation \n",
    "standard_deviation = variance ** 0.5\n",
    "\n",
    "# print the results\n",
    "print(\"mean :\",mean)\n",
    "print(\"variance :\",variance)\n",
    "print(f\"standard deviation : {standard_deviation:.2f}\")"
   ]
  },
  {
   "cell_type": "code",
   "execution_count": 9,
   "id": "7104bdfd-60a3-4c99-90a6-e694002eedf7",
   "metadata": {},
   "outputs": [
    {
     "name": "stdout",
     "output_type": "stream",
     "text": [
      "mean_of_alpha : 227.0\n",
      "variance_of_alpha : 9.2\n",
      "standard_deviation_of_alpha : 3.03\n",
      "\n",
      "mean_of_beta : 229.0\n",
      "variance_of_beta : 14.0\n",
      "standard_deviation_of_beta : 3.74\n",
      "\n",
      "ICC Board select for alpha.\n"
     ]
    }
   ],
   "source": [
    "alpha = [225,230,231,223,226]\n",
    "beta = [228,231,235,224,227]\n",
    "\n",
    "# calculate the mean of alpha\n",
    "mean_of_alpha = sum(alpha) / len(alpha)\n",
    "# calculate the variance of alpha\n",
    "variance_of_alpha = sum((a - mean_of_alpha)** 2 for a in alpha) / len(alpha)\n",
    "#calculate the standard deviation of alpha\n",
    "standard_deviation_of_alpha = variance_of_alpha ** 0.5\n",
    "#print the results:--\n",
    "print(\"mean_of_alpha :\" ,mean_of_alpha)\n",
    "print(\"variance_of_alpha :\",variance_of_alpha)\n",
    "print(f\"standard_deviation_of_alpha : {standard_deviation_of_alpha:.2f}\\n\")\n",
    "\n",
    "# calculate the mean of beta\n",
    "mean_of_beta = sum(beta) / len(beta)\n",
    "# calculate the variance of beta\n",
    "variance_of_beta = sum((b - mean_of_beta)** 2 for b in beta) / len(beta)\n",
    "#calculate the standard deviation of beta\n",
    "standard_deviation_of_beta = variance_of_beta ** 0.5\n",
    "#print the results:--\n",
    "print(\"mean_of_beta :\" ,mean_of_beta)\n",
    "print(\"variance_of_beta :\",variance_of_beta)\n",
    "print(f\"standard_deviation_of_beta : {standard_deviation_of_beta:.2f}\\n\")\n",
    "\n",
    "if (standard_deviation_of_alpha < standard_deviation_of_beta):\n",
    "    print(\"ICC Board select for alpha.\")\n",
    "else:\n",
    "    print(\"ICC Board select for beta.\")"
   ]
  },
  {
   "cell_type": "code",
   "execution_count": 7,
   "id": "19e8dfde-32ec-4288-b626-83791880585b",
   "metadata": {},
   "outputs": [
    {
     "name": "stdout",
     "output_type": "stream",
     "text": [
      "[22000, 25000, 26000, 28000, 30000, 32000, 34000, 35000, 38000, 40000]\n",
      "len of a is :- 10\n",
      "mean is :- 31000.0\n",
      "median is :- 31000.0\n"
     ]
    }
   ],
   "source": [
    "a = {30000, 25000, 35000, 40000, 28000, 22000, 32000, 38000, 26000, 34000}\n",
    "n = len(a)\n",
    "a_sorted = sorted(a)\n",
    "print(a_sorted)\n",
    "print(f\"len of a is :- {n}\")\n",
    "mean = sum(a_sorted)/n\n",
    "print(f\"mean is :- {mean}\")\n",
    "median = (a_sorted[n//2- 1] + a_sorted [n//2])/2\n",
    "print(f\"median is :- {median}\")"
   ]
  },
  {
   "cell_type": "code",
   "execution_count": null,
   "id": "8853fd16-748a-42da-873a-f29c393cf729",
   "metadata": {},
   "outputs": [],
   "source": []
  }
 ],
 "metadata": {
  "kernelspec": {
   "display_name": "Python 3 (ipykernel)",
   "language": "python",
   "name": "python3"
  },
  "language_info": {
   "codemirror_mode": {
    "name": "ipython",
    "version": 3
   },
   "file_extension": ".py",
   "mimetype": "text/x-python",
   "name": "python",
   "nbconvert_exporter": "python",
   "pygments_lexer": "ipython3",
   "version": "3.12.4"
  }
 },
 "nbformat": 4,
 "nbformat_minor": 5
}
