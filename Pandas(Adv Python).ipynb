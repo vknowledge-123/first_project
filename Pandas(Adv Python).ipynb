{
 "cells": [
  {
   "cell_type": "code",
   "execution_count": 9,
   "id": "515915c5-bdba-457a-9d83-0b3bfd8ab0e2",
   "metadata": {},
   "outputs": [
    {
     "name": "stdout",
     "output_type": "stream",
     "text": [
      "List: [11, 77, 22]\n",
      "Array: [11 77 22]\n",
      "Series: 0    11\n",
      "1    77\n",
      "2    22\n",
      "dtype: int64\n"
     ]
    }
   ],
   "source": [
    "#Creating series from list. Here we are getting labels in the form of default serial numbers\n",
    "\n",
    "import pandas as pd\n",
    "import numpy as np\n",
    "\n",
    "a = [11, 77, 22]\n",
    "print(\"List:\", a)\n",
    "\n",
    "arr = np.array(a)\n",
    "print(\"Array:\", arr)\n",
    "\n",
    "myvar = pd.Series(a)\n",
    "print(\"Series:\", myvar)"
   ]
  },
  {
   "cell_type": "code",
   "execution_count": 11,
   "id": "eac05d0d-f1d9-46f5-a24e-68f70666b15b",
   "metadata": {},
   "outputs": [
    {
     "name": "stdout",
     "output_type": "stream",
     "text": [
      "x    12\n",
      "y    78\n",
      "z    42\n",
      "dtype: int64\n",
      "78\n"
     ]
    }
   ],
   "source": [
    "#Create your own labels:\n",
    "\n",
    "import pandas as pd\n",
    "\n",
    "a = [12, 78, 42]\n",
    "myvar = pd.Series(a, index = [\"x\",\"y\",\"z\"])\n",
    "print(myvar)\n",
    "print(myvar[\"y\"])"
   ]
  },
  {
   "cell_type": "code",
   "execution_count": 15,
   "id": "1f2bf9a0-7811-4b4d-950f-e689f66fe13a",
   "metadata": {},
   "outputs": [
    {
     "name": "stdout",
     "output_type": "stream",
     "text": [
      "day1    420\n",
      "day2    380\n",
      "day3    390\n",
      "dtype: int64\n"
     ]
    }
   ],
   "source": [
    "#Create simple Pandas Series from a dictionary\n",
    "\n",
    "import pandas as pd\n",
    "\n",
    "calories = {\"day1\":420, \"day2\":380, \"day3\":390}\n",
    "\n",
    "myvar = pd.Series(calories)\n",
    "print(myvar)"
   ]
  },
  {
   "cell_type": "code",
   "execution_count": 17,
   "id": "84f175b9-97ee-47d6-bd9a-d674bb9d7b73",
   "metadata": {},
   "outputs": [
    {
     "name": "stdout",
     "output_type": "stream",
     "text": [
      "day1    420\n",
      "day2    380\n",
      "dtype: int64\n"
     ]
    }
   ],
   "source": [
    "#Create a Series using only data from \"day1\" and \"day2\" : Choose specific labels to create series\n",
    "import pandas as pd\n",
    "\n",
    "calories = {\"day1\":420, \"day2\":380, \"day3\":390}\n",
    "\n",
    "myvar = pd.Series(calories, index = [\"day1\", \"day2\"])\n",
    "print(myvar)"
   ]
  },
  {
   "cell_type": "code",
   "execution_count": 19,
   "id": "93ef4bd9-a1c5-416b-9c03-e7f75604d0f7",
   "metadata": {},
   "outputs": [
    {
     "name": "stdout",
     "output_type": "stream",
     "text": [
      "0    b\n",
      "1    o\n",
      "2    f\n",
      "3    f\n",
      "4    i\n",
      "5    n\n",
      "6    s\n",
      "dtype: object\n"
     ]
    }
   ],
   "source": [
    "#Creating series using ndarray\n",
    "import pandas as pd\n",
    "import numpy as np\n",
    "\n",
    "data = np.array(['b','o','f','f','i','n','s'])\n",
    "\n",
    "ser = pd.Series(data)\n",
    "print(ser)"
   ]
  },
  {
   "cell_type": "code",
   "execution_count": 23,
   "id": "b5112082-2039-42fc-8ca4-459a3b1b2f37",
   "metadata": {},
   "outputs": [
    {
     "name": "stdout",
     "output_type": "stream",
     "text": [
      "0    b\n",
      "1    o\n",
      "2    f\n",
      "3    f\n",
      "4    i\n",
      "5    n\n",
      "6    s\n",
      "dtype: object\n"
     ]
    }
   ],
   "source": [
    "#Creating series from list\n",
    "import pandas as pd\n",
    "\n",
    "list = ['b','o','f','f','i','n','s']\n",
    "\n",
    "ser = pd.Series(list)\n",
    "print(ser)"
   ]
  },
  {
   "cell_type": "raw",
   "id": "a926d753-f50f-4975-94a9-74fc4faab7ce",
   "metadata": {},
   "source": [
    "'''There are two ways through which we can access element of series, they are:\n",
    "\n",
    "1. Accessing Element from Series with Position\n",
    "\n",
    "2. Accessing Element using Label(index)'''"
   ]
  },
  {
   "cell_type": "code",
   "execution_count": 25,
   "id": "8dad9f29-fa78-4850-abd2-72272f715075",
   "metadata": {},
   "outputs": [
    {
     "name": "stdout",
     "output_type": "stream",
     "text": [
      "0    b\n",
      "1    o\n",
      "2    f\n",
      "3    f\n",
      "4    i\n",
      "dtype: object\n"
     ]
    }
   ],
   "source": [
    "#1. Accessing Element from Series with Position\n",
    "#Accessing first 5 elements of Series\n",
    "\n",
    "import pandas as pd\n",
    "import numpy as np\n",
    "\n",
    "data = np.array(['b','o','f','f','i','n','s'])\n",
    "ser = pd.Series(data)\n",
    "\n",
    "#retrieve the first element\n",
    "print(ser[:5])"
   ]
  },
  {
   "cell_type": "raw",
   "id": "ebba33f4-4e30-4d5a-9c7a-98969b674e8e",
   "metadata": {},
   "source": [
    "'''2. Accessing Element using Label(index)\n",
    "\n",
    "In order to access an element from series, we have to set values by index label.\n",
    "\n",
    "A Series is like a fixed-size dictionary in that you can get and set values by index label.\n",
    "\n",
    "Accessing a single element using index label'''\n"
   ]
  },
  {
   "cell_type": "code",
   "execution_count": 29,
   "id": "6393a8e7-3c08-4b13-8fc2-1e3a355ffe29",
   "metadata": {},
   "outputs": [
    {
     "name": "stdout",
     "output_type": "stream",
     "text": [
      "i\n"
     ]
    }
   ],
   "source": [
    "import pandas as pd\n",
    "import numpy as np\n",
    "#creating simple array\n",
    "data = np.array(['b','o','f','f','i','n','s'])\n",
    "ser = pd.Series(data, index = [12,13,14,15,16,17,18])\n",
    "\n",
    "#accessing a element using index element\n",
    "print(ser[16])"
   ]
  },
  {
   "cell_type": "markdown",
   "id": "12f2c3be-27fe-4964-83c6-b6973901be37",
   "metadata": {},
   "source": [
    " # Pandas Series"
   ]
  },
  {
   "cell_type": "raw",
   "id": "0b09bb36-0618-4a10-91e5-bced9cfb940b",
   "metadata": {},
   "source": [
    "1. One-dimentional\n",
    "2. Homogenous - Series element must be of the same data type.\n",
    "3. Size-immutable - Once created, the size of a Series object cannot be changed"
   ]
  },
  {
   "cell_type": "markdown",
   "id": "8ced6f76-1797-47e2-8656-97b61430868b",
   "metadata": {},
   "source": [
    "# Pandas DataFrame :"
   ]
  },
  {
   "cell_type": "raw",
   "id": "e2b7c029-913e-450c-aac1-1f8ffa0e858f",
   "metadata": {},
   "source": [
    "1. Two-dimentional\n",
    "2. Heterogenous - DataFrame elements can have different data types.\n",
    "3. Size-mutable - Elements can be dropped or added in an existing DataFrame.'''"
   ]
  },
  {
   "cell_type": "code",
   "execution_count": 33,
   "id": "c8e97ffc-1718-4f81-97bb-16fbe4e7c8ee",
   "metadata": {},
   "outputs": [
    {
     "name": "stdout",
     "output_type": "stream",
     "text": [
      "{'cars': ['BMW', 'Volvo', 'Ford'], 'passings': [3, 7, 2]}\n",
      "    cars  passings\n",
      "0    BMW         3\n",
      "1  Volvo         7\n",
      "2   Ford         2\n",
      "<class 'pandas.core.frame.DataFrame'>\n",
      "RangeIndex: 3 entries, 0 to 2\n",
      "Data columns (total 2 columns):\n",
      " #   Column    Non-Null Count  Dtype \n",
      "---  ------    --------------  ----- \n",
      " 0   cars      3 non-null      object\n",
      " 1   passings  3 non-null      int64 \n",
      "dtypes: int64(1), object(1)\n",
      "memory usage: 180.0+ bytes\n",
      "None\n"
     ]
    }
   ],
   "source": [
    "#A Pandas DataFrame is a 2-dimentional data structure, like a 2-D array, or a table with rows and columns\n",
    "\n",
    "import pandas as pd\n",
    "\n",
    "mydataset = {'cars':[\"BMW\",\"Volvo\",\"Ford\"], 'passings':[3, 7, 2]}\n",
    "print(mydataset)\n",
    "\n",
    "myvar = pd.DataFrame(mydataset)\n",
    "\n",
    "print(myvar)\n",
    "print(myvar.info())"
   ]
  },
  {
   "cell_type": "code",
   "execution_count": 35,
   "id": "44b12fab-a154-44b4-8633-70101751880a",
   "metadata": {},
   "outputs": [
    {
     "name": "stdout",
     "output_type": "stream",
     "text": [
      "    cars  passings\n",
      "0    BMW         3\n",
      "1  Volvo         7\n",
      "2   Ford         2\n"
     ]
    }
   ],
   "source": [
    "#Pandas using alias\n",
    "import pandas as pd\n",
    "\n",
    "mydataset = {'cars':[\"BMW\",\"Volvo\",\"Ford\"], 'passings':[3, 7, 2]}\n",
    "\n",
    "myvar = pd.DataFrame(mydataset)\n",
    "print(myvar)"
   ]
  },
  {
   "cell_type": "code",
   "execution_count": null,
   "id": "cbafb297-8cdc-4c90-9160-30326eb06c70",
   "metadata": {},
   "outputs": [],
   "source": []
  }
 ],
 "metadata": {
  "kernelspec": {
   "display_name": "Python 3 (ipykernel)",
   "language": "python",
   "name": "python3"
  },
  "language_info": {
   "codemirror_mode": {
    "name": "ipython",
    "version": 3
   },
   "file_extension": ".py",
   "mimetype": "text/x-python",
   "name": "python",
   "nbconvert_exporter": "python",
   "pygments_lexer": "ipython3",
   "version": "3.12.4"
  }
 },
 "nbformat": 4,
 "nbformat_minor": 5
}
