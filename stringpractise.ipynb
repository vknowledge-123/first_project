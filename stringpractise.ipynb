{
 "cells": [
  {
   "cell_type": "code",
   "execution_count": 3,
   "id": "bffafba0-9857-47f6-91ec-ac67ae6f03fa",
   "metadata": {},
   "outputs": [
    {
     "name": "stdout",
     "output_type": "stream",
     "text": [
      "this is store's technologies\n"
     ]
    }
   ],
   "source": [
    "str = \"this is store's technologies\"\n",
    "print(str)"
   ]
  },
  {
   "cell_type": "code",
   "execution_count": 3,
   "id": "c38e9e42-ff42-4ff5-9c4e-2b99f6cd5616",
   "metadata": {},
   "outputs": [
    {
     "name": "stdout",
     "output_type": "stream",
     "text": [
      "hellp my name is vaishanvi.\n",
      "this is my new journey\n",
      "28\n",
      "vi\n",
      "True\n",
      "hellp my jugle is vaishanvi.\n",
      "\n",
      "8\n"
     ]
    }
   ],
   "source": [
    "str1 = \"hellp my name is vaishanvi.\\n\"\n",
    "str2 = \"this is my new journey\"\n",
    "print(str1 + str2)\n",
    "print(len(str1))\n",
    "print(str1[-4:-2])\n",
    "print(str2.endswith(\"ey\"))\n",
    "print(str1.replace(\"name\", \"jugle\"))\n",
    "print(str2.find(\"my\"))"
   ]
  },
  {
   "cell_type": "code",
   "execution_count": 4,
   "id": "c23cee6a-5ed4-48b9-98a5-39356d3ff78e",
   "metadata": {},
   "outputs": [
    {
     "name": "stdin",
     "output_type": "stream",
     "text": [
      "enter your name :  amol\n"
     ]
    },
    {
     "name": "stdout",
     "output_type": "stream",
     "text": [
      "4\n"
     ]
    }
   ],
   "source": [
    "name = input(\"enter your name : \")\n",
    "print(len(name))"
   ]
  },
  {
   "cell_type": "code",
   "execution_count": 7,
   "id": "89c537d9-4f12-45ce-af30-5fda3ffa07e5",
   "metadata": {},
   "outputs": [
    {
     "name": "stdout",
     "output_type": "stream",
     "text": [
      "4\n"
     ]
    }
   ],
   "source": [
    "str = \"one$ day $ a dream$ come true$\"\n",
    "print(str.count(\"$\"))"
   ]
  },
  {
   "cell_type": "code",
   "execution_count": null,
   "id": "4479609a-6a51-46d0-9070-8857787f8cbc",
   "metadata": {},
   "outputs": [],
   "source": []
  }
 ],
 "metadata": {
  "kernelspec": {
   "display_name": "Python 3 (ipykernel)",
   "language": "python",
   "name": "python3"
  },
  "language_info": {
   "codemirror_mode": {
    "name": "ipython",
    "version": 3
   },
   "file_extension": ".py",
   "mimetype": "text/x-python",
   "name": "python",
   "nbconvert_exporter": "python",
   "pygments_lexer": "ipython3",
   "version": "3.12.4"
  }
 },
 "nbformat": 4,
 "nbformat_minor": 5
}
