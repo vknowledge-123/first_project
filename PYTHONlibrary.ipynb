{
 "cells": [
  {
   "cell_type": "markdown",
   "id": "9322138b-fca8-4055-947b-4456906a3ec3",
   "metadata": {},
   "source": [
    "# Numpy-array Libraries"
   ]
  },
  {
   "cell_type": "code",
   "execution_count": null,
   "id": "f8b749d3-b69a-4c1a-90e7-02f7de510b0f",
   "metadata": {},
   "outputs": [],
   "source": [
    "!pip install numpy"
   ]
  },
  {
   "cell_type": "code",
   "execution_count": 5,
   "id": "1bb87c32-4ad9-4d16-a0e5-e773bc874910",
   "metadata": {},
   "outputs": [
    {
     "name": "stdout",
     "output_type": "stream",
     "text": [
      "[10 20 30 40 50]\n"
     ]
    }
   ],
   "source": [
    "import numpy as np\n",
    "array1 = np.array([10,20,30,40,50])\n",
    "print(array1)"
   ]
  },
  {
   "cell_type": "code",
   "execution_count": 7,
   "id": "3c5e8085-8b96-4846-935c-c6ee37c79b0f",
   "metadata": {},
   "outputs": [
    {
     "name": "stdout",
     "output_type": "stream",
     "text": [
      "[10 15 12]\n"
     ]
    }
   ],
   "source": [
    "import numpy as np\n",
    "a1 = np.array([10,15,12])\n",
    "print(a1)"
   ]
  },
  {
   "cell_type": "code",
   "execution_count": 8,
   "id": "c79acd8c-09f1-4f3b-89c2-2d6c84468854",
   "metadata": {},
   "outputs": [
    {
     "name": "stdout",
     "output_type": "stream",
     "text": [
      "2.2.1\n"
     ]
    }
   ],
   "source": [
    "import numpy as np\n",
    "print(np.__version__)"
   ]
  },
  {
   "cell_type": "code",
   "execution_count": null,
   "id": "6137ad04-6aae-47a2-8563-a63db7392194",
   "metadata": {},
   "outputs": [],
   "source": [
    "!pip install --upgrade numpy"
   ]
  },
  {
   "cell_type": "code",
   "execution_count": 1,
   "id": "6721d98c-0d8b-44be-bb44-a6253ade2522",
   "metadata": {},
   "outputs": [
    {
     "data": {
      "text/plain": [
       "array([0., 0., 0., 0., 0., 0., 0., 0., 0., 0., 0., 0., 0., 0., 0., 0., 0.,\n",
       "       0., 0., 0.])"
      ]
     },
     "execution_count": 1,
     "metadata": {},
     "output_type": "execute_result"
    }
   ],
   "source": [
    "import numpy as np\n",
    "# using zeros function\n",
    "np.zeros(20)\n",
    "# which reprensents numbers as floating point values the decimal point indicates that these are floats \n",
    "# default data type for the array is float64"
   ]
  },
  {
   "cell_type": "code",
   "execution_count": 2,
   "id": "458e60e7-bfc9-4d09-b174-3b331c7b842a",
   "metadata": {},
   "outputs": [
    {
     "name": "stdout",
     "output_type": "stream",
     "text": [
      "[0 0 0 0 0 0 0 0 0 0 0 0 0 0 0 0 0 0 0 0]\n"
     ]
    }
   ],
   "source": [
    "import numpy as np\n",
    "# create an array of 20 zeroes with interger data type\n",
    "# change default data type to int\n",
    "array_of_zeroes_int = np.zeros(20,dtype=int)\n",
    "print(array_of_zeroes_int)"
   ]
  },
  {
   "cell_type": "code",
   "execution_count": 3,
   "id": "b74cb571-607f-4ca8-bc18-235c77447c80",
   "metadata": {},
   "outputs": [
    {
     "name": "stdout",
     "output_type": "stream",
     "text": [
      "[1. 1.]\n",
      "[1 1 1 1]\n"
     ]
    }
   ],
   "source": [
    "#  how to create a basic array using ones function \n",
    "x = np.ones(2)\n",
    "print(x)\n",
    "# change dtype to int\n",
    "y = np.ones(4, dtype=int)\n",
    "print(y)"
   ]
  },
  {
   "cell_type": "code",
   "execution_count": 4,
   "id": "2e78ec5f-6d18-423b-9360-8778ff35d85c",
   "metadata": {},
   "outputs": [
    {
     "name": "stdout",
     "output_type": "stream",
     "text": [
      "2\n",
      "[1 2 3 4 5]\n",
      "[1 2 3]\n"
     ]
    }
   ],
   "source": [
    "import numpy\n",
    "arr0 = numpy.array(2)\n",
    "arr = numpy.array([1,2,3,4,5])\n",
    "print(arr0)\n",
    "print(arr)\n",
    "print(arr[:3])"
   ]
  },
  {
   "cell_type": "code",
   "execution_count": 5,
   "id": "4a561b9e-787f-4bea-af59-fcc0c4bfa6b1",
   "metadata": {},
   "outputs": [
    {
     "name": "stdout",
     "output_type": "stream",
     "text": [
      "[10 20 30 40 50]\n"
     ]
    }
   ],
   "source": [
    "# numpy using alias\n",
    "import numpy as np\n",
    "arr = np.array([10,20,30,40,50])\n",
    "print(arr)"
   ]
  },
  {
   "cell_type": "markdown",
   "id": "dc1f1337-d393-473b-a8e3-621e5b660fc5",
   "metadata": {},
   "source": [
    "# numpy Ndarray object\n",
    "# number of dimensions(.ndim) 0 1 2 3 "
   ]
  },
  {
   "cell_type": "code",
   "execution_count": 6,
   "id": "77221772-9bf1-4101-9cd2-dce97ed74c8f",
   "metadata": {},
   "outputs": [
    {
     "name": "stdout",
     "output_type": "stream",
     "text": [
      "arr details :\n",
      "50\n",
      "<class 'numpy.ndarray'>\n",
      "0\n",
      "[1 2 3 4 5]\n",
      "<class 'numpy.ndarray'>\n",
      "1\n"
     ]
    }
   ],
   "source": [
    "import numpy as np\n",
    "arr1 = np.array(50)\n",
    "print(\"arr details :\")\n",
    "print(arr1)\n",
    "print(type(arr1))\n",
    "print(arr1.ndim)\n",
    "\n",
    "arr2 = np.array([1,2,3,4,5])\n",
    "print(arr2)\n",
    "print(type(arr2))\n",
    "print(arr2.ndim)"
   ]
  },
  {
   "cell_type": "code",
   "execution_count": null,
   "id": "589b0a5c-c62b-4374-a0b4-72acf89d1225",
   "metadata": {},
   "outputs": [],
   "source": []
  },
  {
   "cell_type": "code",
   "execution_count": null,
   "id": "f2c62eb8-4eea-4c86-85cd-5cf18219b073",
   "metadata": {},
   "outputs": [],
   "source": []
  },
  {
   "cell_type": "code",
   "execution_count": null,
   "id": "4332d638-b81c-40e5-b8e5-423ba7c1864f",
   "metadata": {},
   "outputs": [],
   "source": []
  },
  {
   "cell_type": "code",
   "execution_count": null,
   "id": "951ae952-bf61-4742-9dc2-7c3dc18ffbd5",
   "metadata": {},
   "outputs": [],
   "source": []
  }
 ],
 "metadata": {
  "kernelspec": {
   "display_name": "Python 3 (ipykernel)",
   "language": "python",
   "name": "python3"
  },
  "language_info": {
   "codemirror_mode": {
    "name": "ipython",
    "version": 3
   },
   "file_extension": ".py",
   "mimetype": "text/x-python",
   "name": "python",
   "nbconvert_exporter": "python",
   "pygments_lexer": "ipython3",
   "version": "3.12.4"
  }
 },
 "nbformat": 4,
 "nbformat_minor": 5
}
