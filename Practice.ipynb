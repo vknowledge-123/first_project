{
 "cells": [
  {
   "cell_type": "code",
   "execution_count": 1,
   "id": "e77ecc95-ef84-4f1b-a9d5-14400dcc35ac",
   "metadata": {},
   "outputs": [],
   "source": [
    "#class Practice#"
   ]
  },
  {
   "cell_type": "code",
   "execution_count": 3,
   "id": "9823cbab-825f-4c04-b911-61fdc72df9ab",
   "metadata": {},
   "outputs": [
    {
     "name": "stdout",
     "output_type": "stream",
     "text": [
      "Vaishanvi\n",
      "MBA finance\n"
     ]
    }
   ],
   "source": [
    "class Student:\n",
    "    name = \"Vaishanvi\"\n",
    "    education = \"MBA finance\"\n",
    "s1 = Student()\n",
    "print(s1.name)\n",
    "print(s1.education)"
   ]
  },
  {
   "cell_type": "code",
   "execution_count": 5,
   "id": "8f5d365d-e3af-46bc-a15d-abae9f4f58f1",
   "metadata": {},
   "outputs": [
    {
     "name": "stdout",
     "output_type": "stream",
     "text": [
      "adding student details in database...\n",
      "amol\n"
     ]
    }
   ],
   "source": [
    "class student:\n",
    "    def __init__(self,fullname):\n",
    "        self.name = fullname\n",
    "        print(\"adding student details in database...\")\n",
    "s1 = student(\"amol\")\n",
    "print(s1.name)"
   ]
  },
  {
   "cell_type": "code",
   "execution_count": 4,
   "id": "fd071465-3425-463e-af3a-0f40bf432677",
   "metadata": {},
   "outputs": [
    {
     "name": "stdout",
     "output_type": "stream",
     "text": [
      "78.0\n",
      "Vaishnavi [81, 75, 78]\n"
     ]
    }
   ],
   "source": [
    "class Student:\n",
    "    def __init__(self,name,marks):\n",
    "        self.name = name\n",
    "        self.marks = marks\n",
    "    def get_avg(self):\n",
    "        sum = 0\n",
    "        for val in self.marks:\n",
    "            sum = sum + val\n",
    "        print(sum/3)\n",
    "x2 = Student(\"Vaishnavi\",[81,75,78])\n",
    "x2.get_avg()\n",
    "print(x2.name,x2.marks)"
   ]
  },
  {
   "cell_type": "code",
   "execution_count": 7,
   "id": "7739123b-1cc1-43a1-9012-346692627624",
   "metadata": {},
   "outputs": [
    {
     "name": "stdout",
     "output_type": "stream",
     "text": [
      "120\n"
     ]
    }
   ],
   "source": [
    "def cal_fact(n):\n",
    "    fact = 1\n",
    "    for i in range(1,n+1):\n",
    "        fact = fact * i\n",
    "    print(fact)\n",
    "cal_fact(5)"
   ]
  },
  {
   "cell_type": "code",
   "execution_count": 13,
   "id": "5345cbc4-c2ad-4413-a4d6-09893843b5ca",
   "metadata": {},
   "outputs": [
    {
     "name": "stdout",
     "output_type": "stream",
     "text": [
      "100 USD = 8300 INR\n"
     ]
    }
   ],
   "source": [
    "def converter(usd_val):\n",
    "    inr_val = usd_val * 83\n",
    "    print(usd_val,\"USD =\", inr_val,\"INR\")\n",
    "converter(100)"
   ]
  },
  {
   "cell_type": "raw",
   "id": "20514839-d04f-4739-865a-35ef9fabfdf7",
   "metadata": {},
   "source": [
    "Q1 Write a Python program that checks if a car’s price is greater than ₹10,00,000.\n",
    "If it is, print \"Luxury Car\", otherwise print \"Budget Car\"."
   ]
  },
  {
   "cell_type": "code",
   "execution_count": 7,
   "id": "f83c8b8b-1b90-4972-adb1-f7353a837377",
   "metadata": {},
   "outputs": [
    {
     "name": "stdout",
     "output_type": "stream",
     "text": [
      "Luxury Car\n"
     ]
    }
   ],
   "source": [
    "car = {\"brand\": \"Toyota\", \"model\": \"Fortuner\", \"price\": 3500000}\n",
    "if car[\"price\"] > 1000000 :\n",
    "     print(\"Luxury Car\")\n",
    "else:\n",
    "    print(\"Budget Car\")"
   ]
  },
  {
   "cell_type": "raw",
   "id": "8b93712f-2639-43a3-8e8d-0dd58a2fa828",
   "metadata": {},
   "source": [
    "Q2.Given a list of car prices, write a Python program to calculate the total sales revenue."
   ]
  },
  {
   "cell_type": "code",
   "execution_count": 10,
   "id": "f2562112-b862-4db8-99af-2ea5648533a8",
   "metadata": {},
   "outputs": [
    {
     "name": "stdout",
     "output_type": "stream",
     "text": [
      "total_sales_revenue : 7450000\n"
     ]
    }
   ],
   "source": [
    "car_prices = [800000, 1200000, 3000000, 950000, 1500000]\n",
    "total_sales_revenue = sum(car_prices)\n",
    "print(\"total_sales_revenue :\",total_sales_revenue)"
   ]
  },
  {
   "cell_type": "raw",
   "id": "4c93cc30-916a-47de-9982-9d57a934fffa",
   "metadata": {},
   "source": [
    "Q3 ) A dictionary contains the car models and their corresponding prices. \n",
    "Write a program to find and print the price of a specific car model.\n",
    "# Dictionary with car models and prices"
   ]
  },
  {
   "cell_type": "code",
   "execution_count": 29,
   "id": "4adf2b5d-ef27-46d5-8c22-ad0185cf0792",
   "metadata": {},
   "outputs": [
    {
     "name": "stdout",
     "output_type": "stream",
     "text": [
      "Fortuner 3500000\n",
      "Innova 2200000\n",
      "Swift 800000\n",
      "Baleno 1000000\n"
     ]
    }
   ],
   "source": [
    "cars = {\n",
    "    \"Fortuner\": 3500000,\n",
    "    \"Innova\": 2200000,\n",
    "    \"Swift\": 800000,\n",
    "    \"Baleno\": 1000000\n",
    "}\n",
    "for a,b in cars.items():\n",
    "    print(a,b)"
   ]
  },
  {
   "cell_type": "raw",
   "id": "40f8c597-459b-4bd5-b27a-07a65a5149a8",
   "metadata": {},
   "source": [
    "Q4 ) Write a Python program to store a list of car brands and print them one by one using a for loop.\n",
    " # List of car brands"
   ]
  },
  {
   "cell_type": "code",
   "execution_count": 24,
   "id": "81ae9a01-def9-4889-826c-8a47c377da7a",
   "metadata": {},
   "outputs": [
    {
     "name": "stdout",
     "output_type": "stream",
     "text": [
      "Toyota\n",
      "Honda\n",
      "Maruti Suzuki\n",
      "Hyundai\n",
      "Tata\n"
     ]
    }
   ],
   "source": [
    "car_brands = [\"Toyota\", \"Honda\", \"Maruti Suzuki\", \"Hyundai\", \"Tata\"]\n",
    "\n",
    "for i in car_brands:\n",
    "    print(i)"
   ]
  },
  {
   "cell_type": "raw",
   "id": "efe86788-ff81-402d-95f9-2394ac5cb5b4",
   "metadata": {},
   "source": [
    "q5) Question:\n",
    "Write a program that:\n",
    "a)Stores car sales data (brand, model, price) in a list of dictionaries.\n",
    "b)Calculates the total revenue of all cars priced above ₹1,000,000.\n",
    "# List of car sales data"
   ]
  },
  {
   "cell_type": "code",
   "execution_count": 23,
   "id": "a2663eb1-1569-4581-a39b-41fd0cc2beaf",
   "metadata": {},
   "outputs": [
    {
     "name": "stdout",
     "output_type": "stream",
     "text": [
      "Brand: Toyota, Model: Fortuner, Price: 3500000\n",
      "Brand: Maruti Suzuki, Model: Swift, Price: 800000\n",
      "Brand: Hyundai, Model: Creta, Price: 1500000\n",
      "Brand: Tata, Model: Nexon, Price: 900000\n",
      "\n",
      "[3500000, 1500000]\n",
      "Total revenue of all cars priced above ₹1,000,000 : 5000000\n"
     ]
    }
   ],
   "source": [
    "car_sales = [\n",
    "    {\"brand\": \"Toyota\",        \"model\": \"Fortuner\", \"price\": 3500000},\n",
    "    {\"brand\": \"Maruti Suzuki\", \"model\": \"Swift\",    \"price\": 800000},\n",
    "    {\"brand\": \"Hyundai\",       \"model\": \"Creta\",    \"price\": 1500000},\n",
    "    {\"brand\": \"Tata\",          \"model\": \"Nexon\",     \"price\": 900000}\n",
    "]\n",
    "\n",
    "for car in car_sales:\n",
    "    print(f\"Brand: {car[\"brand\"]}, Model: {car[\"model\"]}, Price: {car[\"price\"]}\")\n",
    "# b)\n",
    "x = []\n",
    "for car in car_sales:\n",
    "    if car[\"price\"] > 1000000:\n",
    "        x.append(car[\"price\"])\n",
    "print()        \n",
    "print(x)\n",
    "y = sum(x)\n",
    "print(\"Total revenue of all cars priced above ₹1,000,000 :\" ,y)"
   ]
  },
  {
   "cell_type": "raw",
   "id": "f1ce3b81-c4d9-47ff-b864-beb82b40bb6c",
   "metadata": {},
   "source": [
    "Question 6 :\n",
    "Write a Python program to find the car with the highest price from a list of car sales data."
   ]
  },
  {
   "cell_type": "code",
   "execution_count": 17,
   "id": "d5df5079-278e-4da6-93d4-bc3b113a5480",
   "metadata": {},
   "outputs": [
    {
     "name": "stdout",
     "output_type": "stream",
     "text": [
      "The car with the highest price of car sales data is : Toyota 3500000\n"
     ]
    }
   ],
   "source": [
    "car_sales = [\n",
    "    {\"brand\": \"Toyota\",        \"model\": \"Fortuner\", \"price\": 3500000},\n",
    "    {\"brand\": \"Maruti Suzuki\", \"model\": \"Swift\",    \"price\": 800000},\n",
    "    {\"brand\": \"Hyundai\",       \"model\": \"Creta\",    \"price\": 1500000},\n",
    "    {\"brand\": \"Tata\",          \"model\": \"Nexon\",     \"price\": 900000}\n",
    "]\n",
    "\n",
    "max_price = 0\n",
    "car = None\n",
    "for i in car_sales:\n",
    "    if max_price < i[\"price\"]:\n",
    "       max_price = i[\"price\"]\n",
    "       car = i[\"brand\"]\n",
    "print(f\"The car with the highest price of car sales data is : {car} {max_price}\")"
   ]
  },
  {
   "cell_type": "raw",
   "id": "bbec1743-58cf-44d4-b549-b986f306194f",
   "metadata": {},
   "source": [
    "Case Overview:\n",
    " An online e-commerce platform manages products, customers, and orders.\n",
    "Developers are required to write Python scripts to solve various tasks related to this platform.\n"
   ]
  },
  {
   "cell_type": "code",
   "execution_count": 22,
   "id": "59408129-a048-4362-9e79-ceac62ccaacf",
   "metadata": {},
   "outputs": [
    {
     "name": "stdin",
     "output_type": "stream",
     "text": [
      "enter the products price  150\n"
     ]
    },
    {
     "name": "stdout",
     "output_type": "stream",
     "text": [
      "expensive\n"
     ]
    }
   ],
   "source": [
    "'''Q1: Write a function that checks if a product price is above $100.\n",
    "If yes, return \"Expensive\", otherwise return \"Affordable\".'''\n",
    "\n",
    "def product_price(price):\n",
    "    if price > 100 :\n",
    "        print(\"expensive\")\n",
    "    else:\n",
    "        print(\"Affordable\")\n",
    "x = int(input(\"enter the products price \"))  \n",
    "product_price(x)\n"
   ]
  },
  {
   "cell_type": "code",
   "execution_count": null,
   "id": "c38557ec-9139-4ae1-90c0-7583263ae903",
   "metadata": {},
   "outputs": [],
   "source": [
    "'''# 2. Nested if-else\n",
    " Write a function to check if a product is eligible for free shipping. \n",
    "A product is eligible if its price is above $50 or belongs to the \"Premium\" category'''\n",
    "def products(a):\n",
    "    if a > 50 :\n",
    "        print(\"Product is eligible\")\n",
    "    else:\n",
    "        print(\"Belongs to Premium category\")\n",
    "price = int(input(\"enter the price\"))\n",
    "products(price)\n",
    "    "
   ]
  },
  {
   "cell_type": "raw",
   "id": "c752e362-8f9e-4d48-88ac-7f362c1e69d9",
   "metadata": {},
   "source": [
    "3. For Loop - Iterating Over a List\n",
    "# Q3: Print the names of all products from a given list.\n",
    "products = [\"Laptop\", \"Phone\", \"Tablet\", \"Camera\"]"
   ]
  },
  {
   "cell_type": "code",
   "execution_count": 9,
   "id": "85708793-033d-4d41-aa81-1667c071cbd1",
   "metadata": {},
   "outputs": [
    {
     "name": "stdout",
     "output_type": "stream",
     "text": [
      "Laptop\n",
      "Phone\n",
      "Tablet\n",
      "Camera\n"
     ]
    }
   ],
   "source": [
    "products = [\"Laptop\", \"Phone\", \"Tablet\", \"Camera\"]\n",
    "for i in products:\n",
    "    print(i)"
   ]
  },
  {
   "cell_type": "raw",
   "id": "fd32f56e-70fa-492e-b9ef-5e768aabd345",
   "metadata": {},
   "source": [
    "for loop with Condition\n",
    "# Q4: Print products whose names start with the letter 'P'.\n",
    "products = [\"Laptop\", \"Phone\", \"Tablet\", \"Camera\"]"
   ]
  },
  {
   "cell_type": "code",
   "execution_count": 21,
   "id": "654ba6c8-ecfe-4b92-99e4-31ee5c39e4b9",
   "metadata": {},
   "outputs": [
    {
     "name": "stdout",
     "output_type": "stream",
     "text": [
      "Phone\n"
     ]
    }
   ],
   "source": [
    "products = [\"Laptop\", \"Phone\", \"Tablet\", \"Camera\"]\n",
    "for j in products:\n",
    "    if j[0] == \"P\":\n",
    "        print(j)\n",
    "    "
   ]
  },
  {
   "cell_type": "raw",
   "id": "aa34d84c-1469-4a4c-b1c5-2ad819a726b9",
   "metadata": {},
   "source": [
    "5. While Loop - Calculate Total Cart Value\n",
    "# Q5: Write a function to calculate the total price of products in a cart"
   ]
  },
  {
   "cell_type": "code",
   "execution_count": 4,
   "id": "6d32ab88-1835-4983-a1f6-dd1079ed8871",
   "metadata": {},
   "outputs": [
    {
     "name": "stdin",
     "output_type": "stream",
     "text": [
      "enter the price of products-1 in a cart 200\n",
      "enter the price of products-2 in a cart 300\n"
     ]
    },
    {
     "name": "stdout",
     "output_type": "stream",
     "text": [
      "Total price of products in a cart is : 500\n"
     ]
    }
   ],
   "source": [
    "\n",
    "def total_cart_value(price1,price2):\n",
    "   a = price1 + price2\n",
    "   print(\"Total price of products in a cart is :\",a)\n",
    "z = int(input(\"enter the price of products-1 in a cart\"))\n",
    "y = int(input(\"enter the price of products-2 in a cart\"))\n",
    "\n",
    "total_cart_value(z,y)\n"
   ]
  },
  {
   "cell_type": "raw",
   "id": "8b3797e8-ec96-407a-89b5-4e3fd7a3a960",
   "metadata": {},
   "source": [
    "6. Lists - Adding and Removing Elements\n",
    "# Q6: Write a function to add a new product to a list of products."
   ]
  },
  {
   "cell_type": "code",
   "execution_count": null,
   "id": "44ead61c-6dac-48fd-a258-19121e2d0a90",
   "metadata": {},
   "outputs": [],
   "source": []
  },
  {
   "cell_type": "code",
   "execution_count": null,
   "id": "e82c188a-3fbc-4eb5-bf65-93d2fbb4bdbf",
   "metadata": {},
   "outputs": [],
   "source": []
  },
  {
   "cell_type": "code",
   "execution_count": null,
   "id": "62d921b9-f38b-4a02-bd67-0bfb90e6289f",
   "metadata": {},
   "outputs": [],
   "source": []
  },
  {
   "cell_type": "code",
   "execution_count": null,
   "id": "9534a96f-b029-4029-b68e-d620ae2d7c20",
   "metadata": {},
   "outputs": [],
   "source": []
  },
  {
   "cell_type": "code",
   "execution_count": null,
   "id": "cd0a60ab-65f5-4a27-ace1-5e19fb593ff4",
   "metadata": {},
   "outputs": [],
   "source": []
  }
 ],
 "metadata": {
  "kernelspec": {
   "display_name": "Python 3 (ipykernel)",
   "language": "python",
   "name": "python3"
  },
  "language_info": {
   "codemirror_mode": {
    "name": "ipython",
    "version": 3
   },
   "file_extension": ".py",
   "mimetype": "text/x-python",
   "name": "python",
   "nbconvert_exporter": "python",
   "pygments_lexer": "ipython3",
   "version": "3.12.4"
  }
 },
 "nbformat": 4,
 "nbformat_minor": 5
}
