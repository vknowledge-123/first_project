{
 "cells": [
  {
   "cell_type": "markdown",
   "id": "9f744d98-1175-4f71-8af9-2cac5e920e4b",
   "metadata": {},
   "source": [
    "# Lambda Function syntax lambda argument : expression"
   ]
  },
  {
   "cell_type": "code",
   "execution_count": 1,
   "id": "b4699c7d-51ee-4a75-8848-a8105d2530f0",
   "metadata": {},
   "outputs": [
    {
     "name": "stdout",
     "output_type": "stream",
     "text": [
      "15\n"
     ]
    }
   ],
   "source": [
    "#single input\n",
    "x = lambda a : a + 10\n",
    "print(x(5))"
   ]
  },
  {
   "cell_type": "code",
   "execution_count": 3,
   "id": "3da4d519-a4d6-4c70-aba0-ee83346e4bd1",
   "metadata": {},
   "outputs": [
    {
     "name": "stdout",
     "output_type": "stream",
     "text": [
      "50\n"
     ]
    }
   ],
   "source": [
    "#multiple input\n",
    "y = lambda a,b : a*b\n",
    "print(y(5,10))"
   ]
  },
  {
   "cell_type": "code",
   "execution_count": 7,
   "id": "37bb3d84-5239-4b47-83db-00ce0b2d1835",
   "metadata": {},
   "outputs": [
    {
     "name": "stdout",
     "output_type": "stream",
     "text": [
      "36\n"
     ]
    }
   ],
   "source": [
    "z = lambda  a,b :a**2 + 2*a*b + b**2\n",
    "print(z(2,4))"
   ]
  },
  {
   "cell_type": "markdown",
   "id": "46e9742b-9d48-4f3d-aa54-c2b32e721b59",
   "metadata": {},
   "source": [
    "# Map function"
   ]
  },
  {
   "cell_type": "code",
   "execution_count": 8,
   "id": "a769bf6f-741c-4112-92d4-6c8ba6d20316",
   "metadata": {},
   "outputs": [
    {
     "name": "stdout",
     "output_type": "stream",
     "text": [
      "[1, 4, 9, 16, 25, 36, 49, 64, 81, 100]\n"
     ]
    }
   ],
   "source": [
    "def sq(n):\n",
    "        return n*n\n",
    "list1 = [1,2,3,4,5,6,7,8,9,10]\n",
    "sq_list1 = list(map(sq,list1))\n",
    "\n",
    "print(sq_list1)"
   ]
  },
  {
   "cell_type": "code",
   "execution_count": 9,
   "id": "322535ac-a617-452d-9f57-a9cb47a57078",
   "metadata": {},
   "outputs": [
    {
     "name": "stdout",
     "output_type": "stream",
     "text": [
      "[1, 4, 9, 16, 25, 36, 49, 64, 81, 100]\n"
     ]
    }
   ],
   "source": [
    "# Map with Lambda\n",
    "#syntax : map(function,iterable.2)\n",
    "d_list1 = list(map(lambda x:x*x,list1))\n",
    "print(d_list1)\n"
   ]
  },
  {
   "cell_type": "markdown",
   "id": "c4e3affa-349a-4022-8565-9e87ef28f6ea",
   "metadata": {},
   "source": [
    " # Filter Function"
   ]
  },
  {
   "cell_type": "code",
   "execution_count": 11,
   "id": "63111dc4-7676-47b5-8ea5-3f57837402a1",
   "metadata": {},
   "outputs": [
    {
     "name": "stdout",
     "output_type": "stream",
     "text": [
      "[2, 4, 6, 8, 10]\n"
     ]
    }
   ],
   "source": [
    "lst = [1,2,3,4,5,6,7,8,9,10]\n",
    "def is_even(n):\n",
    "    return n%2 == 0\n",
    "even = list(filter(is_even,lst))\n",
    "print(even)"
   ]
  },
  {
   "cell_type": "code",
   "execution_count": 14,
   "id": "cfd5ae1b-0682-4695-b37d-a8e160dfe6d0",
   "metadata": {},
   "outputs": [
    {
     "name": "stdout",
     "output_type": "stream",
     "text": [
      "[75, 78, 99, 96, 80]\n"
     ]
    }
   ],
   "source": [
    "marks = [75,78,45,20,99,96,55,80]\n",
    "def is_destinction(x):\n",
    "    return x >=75\n",
    "destinction = list(filter(is_destinction,marks))\n",
    "print(destinction)"
   ]
  },
  {
   "cell_type": "code",
   "execution_count": 15,
   "id": "5234d2d8-6259-4a9a-8076-aa83efaff4ce",
   "metadata": {},
   "outputs": [
    {
     "name": "stdout",
     "output_type": "stream",
     "text": [
      "[75, 78, 99, 96, 80]\n"
     ]
    }
   ],
   "source": [
    "even1 = list(filter(lambda x:x>=75,marks))\n",
    "print(even1)"
   ]
  },
  {
   "cell_type": "markdown",
   "id": "49ee4801-61e1-4eda-bea5-492d2dbd5a5f",
   "metadata": {},
   "source": [
    "# Reduce Function(minimum two iterable use)"
   ]
  },
  {
   "cell_type": "code",
   "execution_count": 16,
   "id": "812921ca-e98c-4738-bd3f-efe06ae115fb",
   "metadata": {},
   "outputs": [],
   "source": [
    "def add(a,b):\n",
    "    return a+b\n",
    "x = [1,2,3,4,5,6,7,8,9,10]"
   ]
  },
  {
   "cell_type": "code",
   "execution_count": 17,
   "id": "6d414f13-b22e-4ac5-9917-868ee504d975",
   "metadata": {},
   "outputs": [
    {
     "name": "stdout",
     "output_type": "stream",
     "text": [
      "55\n"
     ]
    }
   ],
   "source": [
    "import functools\n",
    "sum_x = functools.reduce(add,x)\n",
    "print(sum_x)"
   ]
  },
  {
   "cell_type": "markdown",
   "id": "4f254a9d-a365-4caf-b3e7-9b987abd4759",
   "metadata": {},
   "source": [
    "# Exception Handling"
   ]
  },
  {
   "cell_type": "code",
   "execution_count": 1,
   "id": "8d9603b1-0939-4394-8bb2-87f9f42c0714",
   "metadata": {},
   "outputs": [
    {
     "ename": "ZeroDivisionError",
     "evalue": "division by zero",
     "output_type": "error",
     "traceback": [
      "\u001b[0;31m---------------------------------------------------------------------------\u001b[0m",
      "\u001b[0;31mZeroDivisionError\u001b[0m                         Traceback (most recent call last)",
      "Cell \u001b[0;32mIn[1], line 3\u001b[0m\n\u001b[1;32m      1\u001b[0m a\u001b[38;5;241m=\u001b[39m \u001b[38;5;241m1\u001b[39m\n\u001b[1;32m      2\u001b[0m b \u001b[38;5;241m=\u001b[39m \u001b[38;5;241m0\u001b[39m\n\u001b[0;32m----> 3\u001b[0m div \u001b[38;5;241m=\u001b[39m a\u001b[38;5;241m/\u001b[39mb\n\u001b[1;32m      4\u001b[0m \u001b[38;5;28mprint\u001b[39m(div)\n",
      "\u001b[0;31mZeroDivisionError\u001b[0m: division by zero"
     ]
    }
   ],
   "source": [
    "a= 1\n",
    "b = 0\n",
    "div = a/b\n",
    "print(div)"
   ]
  },
  {
   "cell_type": "code",
   "execution_count": 3,
   "id": "8312641f-dc67-4cfc-bc6e-30fdecce00c9",
   "metadata": {},
   "outputs": [
    {
     "data": {
      "text/plain": [
       "120"
      ]
     },
     "execution_count": 3,
     "metadata": {},
     "output_type": "execute_result"
    }
   ],
   "source": [
    "def fact(n):\n",
    "    if n == 1:\n",
    "        return 1\n",
    "    else:\n",
    "        return n*fact(n-1)\n",
    "fact(5)\n"
   ]
  },
  {
   "cell_type": "code",
   "execution_count": 4,
   "id": "09cb7bde-9656-4243-b48a-80c3992be708",
   "metadata": {},
   "outputs": [
    {
     "ename": "ZeroDivisionError",
     "evalue": "division by zero",
     "output_type": "error",
     "traceback": [
      "\u001b[0;31m---------------------------------------------------------------------------\u001b[0m",
      "\u001b[0;31mZeroDivisionError\u001b[0m                         Traceback (most recent call last)",
      "Cell \u001b[0;32mIn[4], line 3\u001b[0m\n\u001b[1;32m      1\u001b[0m a\u001b[38;5;241m=\u001b[39m \u001b[38;5;241m1\u001b[39m\n\u001b[1;32m      2\u001b[0m b \u001b[38;5;241m=\u001b[39m \u001b[38;5;241m0\u001b[39m\n\u001b[0;32m----> 3\u001b[0m div \u001b[38;5;241m=\u001b[39m a\u001b[38;5;241m/\u001b[39mb\n\u001b[1;32m      4\u001b[0m \u001b[38;5;28mprint\u001b[39m(div)\n\u001b[1;32m      6\u001b[0m \u001b[38;5;28;01mdef\u001b[39;00m \u001b[38;5;21mfact\u001b[39m(n):\n",
      "\u001b[0;31mZeroDivisionError\u001b[0m: division by zero"
     ]
    }
   ],
   "source": [
    "a= 1\n",
    "b = 0\n",
    "div = a/b\n",
    "print(div)\n",
    "\n",
    "def fact(n):\n",
    "    if n == 1:\n",
    "        return 1\n",
    "    else:\n",
    "        return n*fact(n-1)\n",
    "fact(5)"
   ]
  },
  {
   "cell_type": "code",
   "execution_count": 5,
   "id": "dd1b22e1-bfa3-479e-b9bf-6ab1d577b330",
   "metadata": {},
   "outputs": [
    {
     "name": "stdout",
     "output_type": "stream",
     "text": [
      "Denominator cannot be 0.\n"
     ]
    },
    {
     "data": {
      "text/plain": [
       "120"
      ]
     },
     "execution_count": 5,
     "metadata": {},
     "output_type": "execute_result"
    }
   ],
   "source": [
    "try :\n",
    "    a= 1\n",
    "    b = 0\n",
    "    div = a/b\n",
    "    print(div)\n",
    "\n",
    "except:\n",
    "    print(\"Denominator cannot be 0.\")\n",
    "\n",
    "def fact(n):\n",
    "    if n == 1:\n",
    "        return 1\n",
    "    else:\n",
    "        return n*fact(n-1)\n",
    "fact(5)"
   ]
  },
  {
   "cell_type": "code",
   "execution_count": 6,
   "id": "68917307-bea3-4104-9c57-9d6a37d19178",
   "metadata": {},
   "outputs": [
    {
     "name": "stdout",
     "output_type": "stream",
     "text": [
      "division by zero\n"
     ]
    },
    {
     "data": {
      "text/plain": [
       "120"
      ]
     },
     "execution_count": 6,
     "metadata": {},
     "output_type": "execute_result"
    }
   ],
   "source": [
    "try :\n",
    "    a= 1\n",
    "    b = 0\n",
    "    div = a/b\n",
    "    print(div)\n",
    "\n",
    "except Exception as e :\n",
    "    print(e)\n",
    "\n",
    "def fact(n):\n",
    "    if n == 1:\n",
    "        return 1\n",
    "    else:\n",
    "        return n*fact(n-1)\n",
    "fact(5)"
   ]
  },
  {
   "cell_type": "markdown",
   "id": "ef525cfb-f8a0-48fa-950a-85c493da34c9",
   "metadata": {},
   "source": [
    "# Finally block"
   ]
  },
  {
   "cell_type": "code",
   "execution_count": 11,
   "id": "cbd70f83-8b07-4a44-8ac6-380103089777",
   "metadata": {},
   "outputs": [
    {
     "name": "stdout",
     "output_type": "stream",
     "text": [
      "open file\n",
      "division by zero\n",
      "close file\n"
     ]
    }
   ],
   "source": [
    "try :\n",
    "    print(\"open file\")\n",
    "    numerator = 10\n",
    "    denominator = 0\n",
    "    result = numerator/denominator\n",
    "    print(result)\n",
    "    print(\"close file\")\n",
    "    \n",
    "except Exception as e :\n",
    "    print(e)\n",
    "\n",
    "finally:\n",
    "    print(\"close file\")"
   ]
  },
  {
   "cell_type": "code",
   "execution_count": null,
   "id": "92ae0556-3fbf-4e35-9d2e-51fd63891b2e",
   "metadata": {},
   "outputs": [],
   "source": []
  }
 ],
 "metadata": {
  "kernelspec": {
   "display_name": "Python 3 (ipykernel)",
   "language": "python",
   "name": "python3"
  },
  "language_info": {
   "codemirror_mode": {
    "name": "ipython",
    "version": 3
   },
   "file_extension": ".py",
   "mimetype": "text/x-python",
   "name": "python",
   "nbconvert_exporter": "python",
   "pygments_lexer": "ipython3",
   "version": "3.12.4"
  }
 },
 "nbformat": 4,
 "nbformat_minor": 5
}
