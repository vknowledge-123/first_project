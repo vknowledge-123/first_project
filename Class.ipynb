{
 "cells": [
  {
   "cell_type": "markdown",
   "id": "e96406c2-9a99-48dc-8593-6d221dc40859",
   "metadata": {},
   "source": [
    "# Functions in python:"
   ]
  },
  {
   "cell_type": "code",
   "execution_count": 8,
   "id": "6aca560a-1fc5-4e71-b3d3-8b3e51033aea",
   "metadata": {},
   "outputs": [
    {
     "name": "stdout",
     "output_type": "stream",
     "text": [
      "30\n"
     ]
    }
   ],
   "source": [
    "# 1.Simple Function :--\n",
    "\n",
    "def sample():\n",
    "    x = 10\n",
    "    y = 20\n",
    "    print(x+y)\n",
    "sample()"
   ]
  },
  {
   "cell_type": "code",
   "execution_count": 12,
   "id": "7641515c-f917-45b3-96fd-87019f8e0629",
   "metadata": {},
   "outputs": [
    {
     "name": "stdin",
     "output_type": "stream",
     "text": [
      "enter any number 23\n",
      "enter any number 25\n"
     ]
    },
    {
     "name": "stdout",
     "output_type": "stream",
     "text": [
      "48\n"
     ]
    }
   ],
   "source": [
    "# 2. Arguments Function :--\n",
    "\n",
    "def sample(x,y): #mathmatical expression calculate\n",
    "    print(x+y)\n",
    "x = int(input(\"enter any number\"))\n",
    "y = int(input(\"enter any number\"))\n",
    "sample(x,y)"
   ]
  },
  {
   "cell_type": "code",
   "execution_count": null,
   "id": "173fe14b-ec42-47ee-a3d6-42756a2afd1e",
   "metadata": {},
   "outputs": [],
   "source": [
    "# 3. Return\n",
    "\n",
    "def sample():\n",
    "    x = 10\n",
    "    y = 30\n",
    "    z = x + y\n",
    "    return z\n",
    "n = sample()\n",
    "print(n)"
   ]
  },
  {
   "cell_type": "code",
   "execution_count": 8,
   "id": "179632dc-c1ac-4893-9d9b-c650a9ec41c9",
   "metadata": {},
   "outputs": [
    {
     "data": {
      "text/plain": [
       "12.0"
      ]
     },
     "execution_count": 8,
     "metadata": {},
     "output_type": "execute_result"
    }
   ],
   "source": [
    "def cal_avg(a,b,c):\n",
    "    z = a+b+c\n",
    "    avg = z/3\n",
    "    return avg\n",
    "cal_avg(11,23,2)"
   ]
  },
  {
   "cell_type": "code",
   "execution_count": 2,
   "id": "4842db63-abd8-4baa-9809-28578adc7313",
   "metadata": {},
   "outputs": [
    {
     "name": "stdin",
     "output_type": "stream",
     "text": [
      "enter correct pin 1237\n"
     ]
    },
    {
     "name": "stdout",
     "output_type": "stream",
     "text": [
      "insert the card again\n"
     ]
    },
    {
     "name": "stdin",
     "output_type": "stream",
     "text": [
      "enter correct pin 1254\n"
     ]
    },
    {
     "name": "stdout",
     "output_type": "stream",
     "text": [
      "insert the card again\n"
     ]
    },
    {
     "name": "stdin",
     "output_type": "stream",
     "text": [
      "enter correct pin 1235\n"
     ]
    },
    {
     "name": "stdout",
     "output_type": "stream",
     "text": [
      "Thank you\n",
      "True\n"
     ]
    }
   ],
   "source": [
    "# 4.\n",
    "def auth(upin):\n",
    "    pin = 1235\n",
    "    count = 3\n",
    "    result = False\n",
    "    while(count != 0):\n",
    "        if(upin == pin):\n",
    "            print(\"Thank you\")\n",
    "            result = True\n",
    "            count = 0\n",
    "        else:\n",
    "            print(\"insert the card again\")\n",
    "            count = count -1\n",
    "            upin = int(input(\"enter correct pin\"))\n",
    "    return result\n",
    "upin = int(input(\"enter correct pin\"))\n",
    "n = auth(upin)\n",
    "print(n)"
   ]
  },
  {
   "cell_type": "code",
   "execution_count": 3,
   "id": "65d978c9-7f06-4738-87a8-be77c49af5fd",
   "metadata": {},
   "outputs": [
    {
     "name": "stdout",
     "output_type": "stream",
     "text": [
      "5\n",
      "25\n",
      "27\n"
     ]
    }
   ],
   "source": [
    "def cal_sum (a,b):\n",
    "    s = a+b\n",
    "    return s\n",
    "print(cal_sum(2,3))\n",
    "print(cal_sum(12,13))\n",
    "print(cal_sum(24,3))"
   ]
  },
  {
   "cell_type": "code",
   "execution_count": 3,
   "id": "4a57bf15-66c9-456f-b321-cb210acd91c8",
   "metadata": {},
   "outputs": [
    {
     "name": "stdout",
     "output_type": "stream",
     "text": [
      "hello everyone\n",
      "hello everyone\n",
      "hello everyone\n",
      "hello everyone\n"
     ]
    }
   ],
   "source": [
    "def say_hi():\n",
    "    print(\"hello everyone\")\n",
    "say_hi()\n",
    "say_hi()\n",
    "say_hi()\n",
    "say_hi()"
   ]
  },
  {
   "cell_type": "code",
   "execution_count": null,
   "id": "d5465a44-d84c-4408-ae92-547d0acc7432",
   "metadata": {},
   "outputs": [],
   "source": [
    "class Student :\n",
    "    # constructor\n",
    "    def __init__(self,name,age):\n",
    "        self.name = name #attribute\n",
    "        self.age = age  #attribute\n",
    "#method\n",
    "    def detail(self):\n",
    "                print(f\"Name: {self.name}, Age: {self.age}\")\n",
    "#create an object of the student class\n",
    "s1 = Student(\"sakshi\",23)\n",
    "s1.detail()"
   ]
  },
  {
   "cell_type": "code",
   "execution_count": 8,
   "id": "273b5499-1c14-4a02-9658-812fe10dec2a",
   "metadata": {},
   "outputs": [
    {
     "name": "stdin",
     "output_type": "stream",
     "text": [
      "enter the name of customer sakshi\n",
      "enter the age of customer 55\n",
      "enter the city name where the customer resides saoner\n"
     ]
    },
    {
     "name": "stdout",
     "output_type": "stream",
     "text": [
      "not eligible\n"
     ]
    }
   ],
   "source": [
    "class Customer:\n",
    "    def customers_detail(self,a,b,c):\n",
    "        if b > 60:\n",
    "            print(\"customers age qualifies for the discount\")\n",
    "        else:\n",
    "            print(\"not eligible\")\n",
    "            \n",
    "name = input(\"enter the name of customer\")\n",
    "age = int(input(\"enter the age of customer\"))\n",
    "city = input(\"enter the city name where the customer resides\")\n",
    "A1 = Customer()\n",
    "A1.customers_detail(name,age,city)"
   ]
  },
  {
   "cell_type": "code",
   "execution_count": 15,
   "id": "878cdb44-3f5a-44d6-90d3-a4e179db60a4",
   "metadata": {},
   "outputs": [
    {
     "name": "stdin",
     "output_type": "stream",
     "text": [
      "enter the name of customer amol\n",
      "enter the age of customer 69\n",
      "enter the city name where the customer resides asas\n"
     ]
    },
    {
     "name": "stdout",
     "output_type": "stream",
     "text": [
      "69\n",
      "customers age qualifies for the discount\n",
      "amol\n"
     ]
    }
   ],
   "source": [
    "class Customer:\n",
    "    name = input(\"enter the name of customer\")\n",
    "    age = int(input(\"enter the age of customer\"))\n",
    "    city = input(\"enter the city name where the customer resides\")\n",
    "    def customers_detail(self):\n",
    "        print(self.age)\n",
    "        if self.age >= 60:\n",
    "            print(\"customers age qualifies for the discount\")\n",
    "        else:\n",
    "            print(\"not eligible\")\n",
    "            \n",
    "\n",
    "A1 = Customer()\n",
    "A1.customers_detail()\n",
    "print(A1.name)"
   ]
  },
  {
   "cell_type": "code",
   "execution_count": 19,
   "id": "e657bba5-05aa-4087-ba98-a256e84bd92a",
   "metadata": {},
   "outputs": [
    {
     "name": "stdin",
     "output_type": "stream",
     "text": [
      "enter the value 35.4\n"
     ]
    }
   ],
   "source": [
    "a=input(\"enter the value\")"
   ]
  },
  {
   "cell_type": "code",
   "execution_count": 20,
   "id": "f71ee349-7348-48e5-9668-5d0205363bfe",
   "metadata": {},
   "outputs": [
    {
     "name": "stdout",
     "output_type": "stream",
     "text": [
      "35.4\n"
     ]
    }
   ],
   "source": [
    "print(a)"
   ]
  },
  {
   "cell_type": "code",
   "execution_count": 21,
   "id": "6ecfbaf7-666a-44c7-8a64-66f10afbf6f2",
   "metadata": {},
   "outputs": [
    {
     "data": {
      "text/plain": [
       "str"
      ]
     },
     "execution_count": 21,
     "metadata": {},
     "output_type": "execute_result"
    }
   ],
   "source": [
    "type(a)"
   ]
  },
  {
   "cell_type": "code",
   "execution_count": 22,
   "id": "c1ed9adb-38b6-4f7b-9450-35a7362ec5e0",
   "metadata": {},
   "outputs": [
    {
     "name": "stdin",
     "output_type": "stream",
     "text": [
      "ent 1st num 2\n",
      "ent 2nd num 3\n"
     ]
    },
    {
     "name": "stdout",
     "output_type": "stream",
     "text": [
      "5\n",
      "25\n"
     ]
    }
   ],
   "source": [
    "def sum_num(a,b):\n",
    "    c=a+b\n",
    "    print(c)\n",
    "    def mul_sqare(c):\n",
    "        d=c*c\n",
    "        print(d)\n",
    "    mul_sqare(c)\n",
    "x=int(input(\"ent 1st num\"))\n",
    "y=int(input(\"ent 2nd num\"))\n",
    "sum_num(x,y)"
   ]
  },
  {
   "cell_type": "code",
   "execution_count": null,
   "id": "4458f15e-1dac-4790-8d73-55e62db8c3af",
   "metadata": {},
   "outputs": [],
   "source": []
  }
 ],
 "metadata": {
  "kernelspec": {
   "display_name": "Python 3 (ipykernel)",
   "language": "python",
   "name": "python3"
  },
  "language_info": {
   "codemirror_mode": {
    "name": "ipython",
    "version": 3
   },
   "file_extension": ".py",
   "mimetype": "text/x-python",
   "name": "python",
   "nbconvert_exporter": "python",
   "pygments_lexer": "ipython3",
   "version": "3.12.4"
  }
 },
 "nbformat": 4,
 "nbformat_minor": 5
}
