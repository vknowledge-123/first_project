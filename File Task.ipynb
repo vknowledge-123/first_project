{
 "cells": [
  {
   "cell_type": "code",
   "execution_count": 6,
   "id": "a0174913-10ee-4f68-b469-9260979e5e15",
   "metadata": {},
   "outputs": [],
   "source": [
    "f = open(\"student.txt\",\"w\")\n",
    "f.write(\"10 \\n20 \\n30 \\n40 \")\n",
    "f.close()"
   ]
  },
  {
   "cell_type": "code",
   "execution_count": 7,
   "id": "ea3246fd-54ce-40e1-b21c-9ff6977da421",
   "metadata": {},
   "outputs": [
    {
     "name": "stdout",
     "output_type": "stream",
     "text": [
      "<class 'list'>\n",
      "['10 \\n', '20 \\n', '30 \\n', '40 ']\n"
     ]
    }
   ],
   "source": [
    "sum = 0\n",
    "f = open(\"student.txt\",\"r\")\n",
    "x = f.readlines()\n",
    "print(type(x))\n",
    "print(x)\n",
    "for i in x:\n",
    "    #print(type(i))\n",
    "    sum = sum + int(i)\n",
    "avg = sum/len(x)\n",
    "w = open(\"result.txt\",\"w\")\n",
    "w.write(f\"Student avg is {avg}\")\n",
    "w.close()\n"
   ]
  },
  {
   "cell_type": "code",
   "execution_count": 4,
   "id": "28ff18b2-6bf1-493c-a8df-681a9bdbb207",
   "metadata": {},
   "outputs": [
    {
     "name": "stdout",
     "output_type": "stream",
     "text": [
      "Student avg is 25.0\n"
     ]
    }
   ],
   "source": [
    "f = open(\"result.txt\",\"r\")\n",
    "print(f.read())"
   ]
  },
  {
   "cell_type": "code",
   "execution_count": 5,
   "id": "38aa52ad-de50-4352-a673-9e30ab2e13a8",
   "metadata": {},
   "outputs": [],
   "source": [
    "f = open(\"Students.txt\",\"w\")\n",
    "f.write(\"10,5 \\n20,5 \\n30,5\\n40,5 \")\n",
    "f.close()"
   ]
  },
  {
   "cell_type": "code",
   "execution_count": 6,
   "id": "3c3c8e37-90a5-433c-a5ba-796c7580dce2",
   "metadata": {},
   "outputs": [
    {
     "name": "stdout",
     "output_type": "stream",
     "text": [
      "10,5 \n",
      "20,5 \n",
      "30,5\n",
      "40,5 \n"
     ]
    }
   ],
   "source": [
    "f = open(\"Students.txt\",\"r\")\n",
    "print(f.read())"
   ]
  },
  {
   "cell_type": "code",
   "execution_count": 26,
   "id": "e023dd42-f15e-4859-a3a2-2c35238384fd",
   "metadata": {},
   "outputs": [
    {
     "name": "stdout",
     "output_type": "stream",
     "text": [
      "['10,5 \\n', '20,5 \\n', '30,5\\n', '40,5 ']\n"
     ]
    }
   ],
   "source": [
    "f = open(\"Students.txt\",\"r\")\n",
    "x = f.readlines()\n",
    "print(x)\n",
    "    "
   ]
  },
  {
   "cell_type": "code",
   "execution_count": 1,
   "id": "c6b5a6fa-7cc3-4328-b914-c49da383ce63",
   "metadata": {},
   "outputs": [
    {
     "name": "stdout",
     "output_type": "stream",
     "text": [
      "10\n",
      "5\n",
      "20\n",
      "5\n",
      "30\n",
      "5\n",
      "40\n",
      "5\n",
      "['10', '5', '20', '5', '30', '5', '40', '5']\n"
     ]
    }
   ],
   "source": [
    "numbers = []\n",
    "f = open(\"Students.txt\",\"r\")\n",
    "for line in f:\n",
    "    line = line.strip()\n",
    "    for i in line.split(','):\n",
    "        print(i)\n",
    "        numbers.append(i)\n",
    "print(numbers)\n",
    "sum = 0\n",
    "for i in numbers:\n",
    "        sum = sum + int(i)\n",
    "avg = sum/len(numbers)\n",
    "w = open(\"Results.txt\",\"w\")\n",
    "w.write(f\"Student avg is {avg}\")\n",
    "w.close()\n"
   ]
  },
  {
   "cell_type": "code",
   "execution_count": 5,
   "id": "514908ee-7d77-435b-a7c9-67d849f8dca3",
   "metadata": {},
   "outputs": [
    {
     "name": "stdout",
     "output_type": "stream",
     "text": [
      "10,5\n",
      "\n",
      "20,5\n",
      "\n",
      "30,5\n",
      "\n",
      "40,5\n"
     ]
    }
   ],
   "source": [
    "numbers = []\n",
    "f = open(\"Students.txt\",\"r\")\n",
    "for line in f :\n",
    "    print(line)\n"
   ]
  },
  {
   "cell_type": "code",
   "execution_count": 1,
   "id": "8b5ce8b6-693b-43be-9560-bd499562118c",
   "metadata": {},
   "outputs": [],
   "source": [
    "f = open(\"Boffins_Students.txt\",\"w\")\n",
    "f.write(\"\")\n",
    "f.close()\n",
    "\n"
   ]
  },
  {
   "cell_type": "code",
   "execution_count": 2,
   "id": "7416770d-f3ff-4d2a-ba63-b3b60584e052",
   "metadata": {},
   "outputs": [],
   "source": [
    "f = open(\"Boffins_Students.txt\",\"a\")\n",
    "f.write(\"Mandar,4,5,2\\n\")\n",
    "f.write(\"Shruti,5,3,4\\n\")\n",
    "f.write(\"Vaishnavi,3,4,4\\n\")\n",
    "f.close()"
   ]
  },
  {
   "cell_type": "code",
   "execution_count": 3,
   "id": "3555f315-fbb5-428c-a43d-26e0d0f4c571",
   "metadata": {},
   "outputs": [
    {
     "name": "stdout",
     "output_type": "stream",
     "text": [
      "Mandar,4,5,2\n",
      "Shruti,5,3,4\n",
      "Vaishnavi,3,4,4\n",
      "\n"
     ]
    }
   ],
   "source": [
    "f = open(\"Boffins_Students.txt\",\"r\")\n",
    "print(f.read())\n",
    "#(type(f))   \n",
    "    "
   ]
  },
  {
   "cell_type": "code",
   "execution_count": 8,
   "id": "3d2de74a-16a8-43d5-af17-6210a189a14f",
   "metadata": {},
   "outputs": [
    {
     "name": "stdout",
     "output_type": "stream",
     "text": [
      "['Mandar Total marks is 11', 'Shruti Total marks is 12', 'Vaishnavi Total marks is 11']\n"
     ]
    }
   ],
   "source": [
    "f = open(\"Boffins_Students.txt\",\"r\")\n",
    "\n",
    "result = []\n",
    "for line in f:\n",
    "    data = line.strip().split(',')\n",
    "    #print(data)\n",
    "    \n",
    "    total = 0\n",
    "    name = data[0]\n",
    "    #print(name)\n",
    "    for i in data[1:]:\n",
    "        total = total + int(i)\n",
    "    result.append(f\"{name} Total marks is {total}\")\n",
    "print(result)\n",
    "\n"
   ]
  },
  {
   "cell_type": "code",
   "execution_count": 7,
   "id": "887dccab-889f-415a-a23c-5d47868d1dda",
   "metadata": {},
   "outputs": [],
   "source": [
    "f = open(\"marks.txt\",\"w\")\n",
    "f.write(\"Mandar Total marks is 11\\n Shruti Total marks is 12\\n Vaishnavi Total marks is 11\\n\")\n",
    "f.close()"
   ]
  },
  {
   "cell_type": "code",
   "execution_count": 1,
   "id": "83d8790d-69ed-431e-9775-2bb9c4b25d58",
   "metadata": {},
   "outputs": [
    {
     "name": "stdout",
     "output_type": "stream",
     "text": [
      "['Mandar \\n', 'Shurti\\n', 'Vaishnavi']\n",
      "['9766625014\\n', '9075745995\\n', '9021084765']\n"
     ]
    }
   ],
   "source": [
    "f = open(\"/home/vaishnavilapi/Desktop/Name.txt\",\"r\")\n",
    "print(f.readlines())\n",
    "\n",
    "f1 = open(\"/home/vaishnavilapi/Desktop/Numbers.txt\",\"r\")\n",
    "print(f1.readlines())\n"
   ]
  },
  {
   "cell_type": "code",
   "execution_count": 2,
   "id": "4ee7e33a-2ecf-4794-b20e-d8d94a843b54",
   "metadata": {},
   "outputs": [
    {
     "name": "stdout",
     "output_type": "stream",
     "text": [
      "{'Mandar': '9766625014', 'Shurti': '9075745995', 'Vaishnavi': '9021084765'}\n",
      "Mandar  :- 9766625014\n",
      "Shurti  :- 9075745995\n",
      "Vaishnavi  :- 9021084765\n"
     ]
    },
    {
     "data": {
      "text/plain": [
       "<function TextIOWrapper.close()>"
      ]
     },
     "execution_count": 2,
     "metadata": {},
     "output_type": "execute_result"
    }
   ],
   "source": [
    "#name\n",
    "f = open(\"/home/vaishnavilapi/Desktop/Name.txt\",\"r\")\n",
    "f1 = open(\"/home/vaishnavilapi/Desktop/Numbers.txt\",\"r\")\n",
    "details = {}\n",
    "data = []\n",
    "for line in f:\n",
    "    names = line.strip().split()\n",
    "    data.append(names)\n",
    "#print(data)   \n",
    "#numbers\n",
    "phone_numbers = []\n",
    "for line in f1 :\n",
    "    data1 = line.strip().split('-')\n",
    "    phone_numbers.append(data1)\n",
    "#print(phone_numbers)\n",
    "for i in range(len(data)):\n",
    "    name_of=data[i]\n",
    "    phone_of=phone_numbers[i]\n",
    "    for k in phone_of:\n",
    "        data_num=k\n",
    "    for j in name_of:\n",
    "        details[j]=data_num\n",
    "print(details)\n",
    "with open(\"Desk1.txt\",\"w\") as file:\n",
    "    for keys,values in details.items():\n",
    "        print(f\"{keys}  :- {values}\")\n",
    "        file.write(f\"{keys} :- {values}\\n\")\n",
    "file.close\n",
    "    \n",
    "    \n"
   ]
  },
  {
   "cell_type": "code",
   "execution_count": null,
   "id": "b1d8932c-60cc-4373-9bdf-c4808cbfbad4",
   "metadata": {},
   "outputs": [],
   "source": []
  }
 ],
 "metadata": {
  "kernelspec": {
   "display_name": "Python 3 (ipykernel)",
   "language": "python",
   "name": "python3"
  },
  "language_info": {
   "codemirror_mode": {
    "name": "ipython",
    "version": 3
   },
   "file_extension": ".py",
   "mimetype": "text/x-python",
   "name": "python",
   "nbconvert_exporter": "python",
   "pygments_lexer": "ipython3",
   "version": "3.12.4"
  }
 },
 "nbformat": 4,
 "nbformat_minor": 5
}
