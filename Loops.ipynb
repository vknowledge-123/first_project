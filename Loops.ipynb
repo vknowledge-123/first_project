{
 "cells": [
  {
   "cell_type": "code",
   "execution_count": 6,
   "id": "8b8fc805-a6cc-437b-805f-7e90f2dbc3e6",
   "metadata": {},
   "outputs": [
    {
     "name": "stdout",
     "output_type": "stream",
     "text": [
      "0 1 2 3 4 5 6 7 8 9 10 11 12 13 14 15 16 17 18 19 20 21 22 23 24 25 50 51 52 53 54 55 56 57 58 59 60 61 62 63 64 65 66 67 68 69 70 71 72 73 74 75 76 77 78 79 80 81 82 83 84 85 86 87 88 89 90 91 92 93 94 95 96 97 98 99 "
     ]
    }
   ],
   "source": [
    "# 1.Write a code to print a value 0- 25 and 50- 100\n",
    "\n",
    "for i in range(0,100):\n",
    "    if i <= 25:\n",
    "        print(i,end=\" \",)\n",
    "    else:\n",
    "        if i >49 and i <= 100:\n",
    "            print(i,end=\" \")\n"
   ]
  },
  {
   "cell_type": "raw",
   "id": "9b356f96-51bc-420d-9b23-2a2a77e9a373",
   "metadata": {},
   "source": [
    "2. Write a code to print the pattern? \n",
    "6 5 4\n",
    "3 2 1"
   ]
  },
  {
   "cell_type": "code",
   "execution_count": null,
   "id": "1ae9bb2c-b974-461d-b52c-afbe8a071b59",
   "metadata": {},
   "outputs": [],
   "source": [
    "for i in range(6, 0, -1):\n",
    "    print(i, end=\" \")\n",
    "    if i == 4 or i == 1 :\n",
    "        print()"
   ]
  },
  {
   "cell_type": "markdown",
   "id": "9f13bfbc-baac-4b1d-8678-5890fac57158",
   "metadata": {},
   "source": [
    " Q3) Write a code to print the pattern?\n",
    "0 0\n",
    "1 1\n",
    "2 2\n",
    "3 3\n",
    "4 4\n",
    "5 5\n",
    "6 6"
   ]
  },
  {
   "cell_type": "code",
   "execution_count": null,
   "id": "f2cda64a-2995-4287-a22d-049e62c922fe",
   "metadata": {},
   "outputs": [],
   "source": [
    "for i in range(0,7):\n",
    "    for j in range(0,2):\n",
    "        print(i,end=\" \")\n",
    "    print()"
   ]
  },
  {
   "cell_type": "raw",
   "id": "20abc948-7cd9-4f5f-82bb-6387f3691811",
   "metadata": {},
   "source": [
    "#Q.4- write a code to draw the following pattern using ?\n",
    "+\n",
    "++\n",
    "+++\n",
    " 0\n",
    " 00\n",
    " 000"
   ]
  },
  {
   "cell_type": "code",
   "execution_count": 49,
   "id": "c6e8e946-b43e-4500-a8fd-e93dea869752",
   "metadata": {},
   "outputs": [
    {
     "name": "stdout",
     "output_type": "stream",
     "text": [
      "+ \n",
      "+ + \n",
      "+ + + \n",
      "  0\n",
      "  0  0\n",
      "  0  0  0\n"
     ]
    }
   ],
   "source": [
    "for i in range(1,4):\n",
    "    for j in range(0,i):\n",
    "        print(\"+\",end=\" \")\n",
    "    print()\n",
    "for k in range(1,4):\n",
    "    for l in range(0,k):\n",
    "        print(\"  0\",end=\"\")\n",
    "    print()"
   ]
  },
  {
   "cell_type": "raw",
   "id": "dd3f64dd-930d-46dd-a158-adbcd61f3240",
   "metadata": {},
   "source": [
    "Q.5 ) write a code to draw the below pattern ?\n",
    "000+\n",
    "00++\n",
    "0+++\n",
    "++++"
   ]
  },
  {
   "cell_type": "code",
   "execution_count": 24,
   "id": "9f9c1475-14b0-444d-ba9a-e21a3566a2d7",
   "metadata": {},
   "outputs": [
    {
     "name": "stdout",
     "output_type": "stream",
     "text": [
      "0 0 0 + \n",
      "0 0 + + \n",
      "0 + + + \n",
      "+ + + + \n"
     ]
    }
   ],
   "source": [
    "for i in range(1,5):\n",
    "    for j in range(i,4):\n",
    "        print(\"0\",end=\" \")\n",
    "    for k in range(0,i):\n",
    "        print(\"+\",end=\" \")\n",
    "    print()"
   ]
  },
  {
   "cell_type": "raw",
   "id": "a0c42c5a-1c53-40d2-bafc-976484e5cbc4",
   "metadata": {},
   "source": [
    "Q6) write a code to print the following pattern using?\n",
    "0\n",
    "00\n",
    "000\n",
    "0000\n",
    " +\n",
    " ++\n",
    " +++\n",
    " ++++"
   ]
  },
  {
   "cell_type": "code",
   "execution_count": 51,
   "id": "25681f60-1ab4-4e08-bd14-c2e7e3fdece9",
   "metadata": {},
   "outputs": [
    {
     "name": "stdout",
     "output_type": "stream",
     "text": [
      "0 \n",
      "0 0 \n",
      "0 0 0 \n",
      "0 0 0 0 \n",
      " + \n",
      " +  + \n",
      " +  +  + \n",
      " +  +  +  + \n"
     ]
    }
   ],
   "source": [
    "for i in range(1,5):\n",
    "    for j in range(0,i):\n",
    "            print(\"0\",end=\" \")\n",
    "    print()\n",
    "for k in range(1,5):\n",
    "    for j in range(0,k):\n",
    "        print(\" +\",end=\" \")\n",
    "    print()"
   ]
  },
  {
   "cell_type": "raw",
   "id": "e3f62074-7e55-414d-887b-1c1bc3d4cd31",
   "metadata": {},
   "source": [
    "Q7) write a program that accepts a word from the user and revers it ?\n",
    "Eg. Boffins\n",
    "Output : sniffoB"
   ]
  },
  {
   "cell_type": "code",
   "execution_count": null,
   "id": "0ee55da7-7042-4cbd-ac93-25179f93cc99",
   "metadata": {},
   "outputs": [],
   "source": []
  },
  {
   "cell_type": "raw",
   "id": "2914333f-4f01-4119-94dd-a7db3b28dc32",
   "metadata": {},
   "source": [
    "Q8) write a program to find those numbers which are divisible by 7 and\n",
    "multiple of 5, between 1500 to 2700 ?"
   ]
  },
  {
   "cell_type": "code",
   "execution_count": null,
   "id": "7642e98f-bd84-4a29-8264-1df02ae9131d",
   "metadata": {},
   "outputs": [],
   "source": [
    "for i in range(1500 ,2700):\n",
    "    if i "
   ]
  },
  {
   "cell_type": "code",
   "execution_count": null,
   "id": "acd4d12c-ce52-4c03-aa1d-2c9e5079edef",
   "metadata": {},
   "outputs": [],
   "source": []
  },
  {
   "cell_type": "code",
   "execution_count": null,
   "id": "29280f18-66c2-47f0-a2e6-a442a0cd2f2f",
   "metadata": {},
   "outputs": [],
   "source": []
  }
 ],
 "metadata": {
  "kernelspec": {
   "display_name": "Python 3 (ipykernel)",
   "language": "python",
   "name": "python3"
  },
  "language_info": {
   "codemirror_mode": {
    "name": "ipython",
    "version": 3
   },
   "file_extension": ".py",
   "mimetype": "text/x-python",
   "name": "python",
   "nbconvert_exporter": "python",
   "pygments_lexer": "ipython3",
   "version": "3.12.4"
  }
 },
 "nbformat": 4,
 "nbformat_minor": 5
}
