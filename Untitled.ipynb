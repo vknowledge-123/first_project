{
 "cells": [
  {
   "cell_type": "code",
   "execution_count": 6,
   "id": "835b4625-4bbf-4067-8ef4-b299c7d6a89c",
   "metadata": {},
   "outputs": [
    {
     "name": "stdout",
     "output_type": "stream",
     "text": [
      "[6, 8, 10, 10, 11, 12, 12, 15, 16, 16, 17, 18, 18, 20, 21, 21, 23, 24, 24, 24, 29, 30, 31, 32, 32, 32, 35, 36, 39, 40]\n",
      "median value of Age group is 21.0\n"
     ]
    }
   ],
   "source": [
    "data = [32, 6, 21, 10, 8, 11, 12, 36, 17, 16, 15, 18, 40, 24, 21, 23, 24, 24, 29, 16, 32, 31, 10, 30, 35, 32, 18, 39, 12,20]\n",
    "data_sorted = sorted(data)\n",
    "print(data_sorted)\n",
    "n = (len(data))\n",
    "median = (data_sorted[n//2 - 1] + data_sorted[n//2]) / 2  \n",
    "print(f\"median value of Age group is {median}\")"
   ]
  },
  {
   "cell_type": "code",
   "execution_count": 17,
   "id": "ce78e7ec-7d6b-4896-9d17-ef7f525374cb",
   "metadata": {},
   "outputs": [
    {
     "name": "stdout",
     "output_type": "stream",
     "text": [
      "{21: 2, 19: 2, 62: 2, 66: 4, 28: 2, 48: 2, 79: 2, 59: 2, 63: 2, 94: 2}\n",
      "The mode of the list is : 66\n",
      "22\n"
     ]
    }
   ],
   "source": [
    "list1 = [21, 19, 62, 21, 66, 28, 66, 48, 79, 59, 28, 62, 63, 63, 48, 66, 59, 66, 94, 79, 19 ,94]\n",
    "a = {}\n",
    "for item in list1:\n",
    "    if item in a:\n",
    "        a[item] = a[item] + 1\n",
    "    else:\n",
    "        a[item] = 1\n",
    "print(a)\n",
    "# find the item with the highest frequency (mode)\n",
    "max_freq = 0\n",
    "max_item = None\n",
    "for item,freq in a.items():\n",
    "    if freq > max_freq:\n",
    "        max_freq = freq\n",
    "        mode_item = item\n",
    "\n",
    "print(\"The mode of the list is :\",mode_item)\n",
    "print(len(list1))"
   ]
  },
  {
   "cell_type": "code",
   "execution_count": 20,
   "id": "170e85c8-c27b-4dd2-9000-47af0ecc1e0f",
   "metadata": {},
   "outputs": [
    {
     "name": "stdout",
     "output_type": "stream",
     "text": [
      "6\n",
      "Sorted numbers: [13, 18, 45, 48, 49, 55]\n",
      "Q1: 18\n",
      "Q3: 49\n",
      "IQR: 31\n",
      "Lower Bound: -28.5\n",
      "Upper Bound: 95.5\n",
      "Outliers: []\n"
     ]
    }
   ],
   "source": [
    "# List of numbers Angela picked\n",
    "numbers = [45, 48, 13, 55, 18, 49]\n",
    "n = len(numbers)\n",
    "print(n)\n",
    "# Step 1: Sort the numbers\n",
    "sorted_numbers = sorted(numbers)\n",
    "\n",
    "# Step 2: Calculate the Q1 (lower quartile) and Q3 (upper quartile)\n",
    "Q1= sorted_numbers[n//4]  \n",
    "Q3 = sorted_numbers[(3*n)//4]   \n",
    "\n",
    "# Step 3: Calculate the IQR\n",
    "IQR = Q3 - Q1\n",
    "\n",
    "# Step 4: Calculate the lower and upper boundaries\n",
    "lower_bound = Q1 - 1.5 * IQR\n",
    "upper_bound = Q3 + 1.5 * IQR\n",
    "\n",
    "# Step 5: Find outliers\n",
    "outliers = [num for num in numbers if num < lower_bound or num > upper_bound]\n",
    "\n",
    "# Print results\n",
    "print(\"Sorted numbers:\", sorted_numbers)\n",
    "print(\"Q1:\", Q1)\n",
    "print(\"Q3:\", Q3)\n",
    "print(\"IQR:\", IQR)\n",
    "print(\"Lower Bound:\", lower_bound)\n",
    "print(\"Upper Bound:\", upper_bound)\n",
    "print(\"Outliers:\", outliers)\n"
   ]
  },
  {
   "cell_type": "code",
   "execution_count": null,
   "id": "ab0f6f7f-14ea-4f7b-ba42-005d74082640",
   "metadata": {},
   "outputs": [],
   "source": []
  }
 ],
 "metadata": {
  "kernelspec": {
   "display_name": "Python 3 (ipykernel)",
   "language": "python",
   "name": "python3"
  },
  "language_info": {
   "codemirror_mode": {
    "name": "ipython",
    "version": 3
   },
   "file_extension": ".py",
   "mimetype": "text/x-python",
   "name": "python",
   "nbconvert_exporter": "python",
   "pygments_lexer": "ipython3",
   "version": "3.12.4"
  }
 },
 "nbformat": 4,
 "nbformat_minor": 5
}
