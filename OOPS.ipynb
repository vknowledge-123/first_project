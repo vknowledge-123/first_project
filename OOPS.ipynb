{
 "cells": [
  {
   "cell_type": "markdown",
   "id": "68d96bfc-b6ab-46d3-9ab3-77cd9826c117",
   "metadata": {},
   "source": [
    "# class attributes and instance attributes"
   ]
  },
  {
   "cell_type": "code",
   "execution_count": null,
   "id": "46fbcc2b-a23e-4d6f-84ec-e0c3e13669f8",
   "metadata": {},
   "outputs": [],
   "source": [
    "class Student:\n",
    "    #class attributes\n",
    "    college = \"RTMNU\"\n",
    "    def __init__(self,rollno):\n",
    "        #instatnce attributes\n",
    "        self.rollno = rollno\n",
    "\n",
    "st = Student(125)\n",
    "print(\"Student college is :\",Student.college)\n",
    "print(\"Student roll no is :\",st.rollno)"
   ]
  },
  {
   "cell_type": "markdown",
   "id": "9d2c5515-49bd-4ce7-8f2a-e8b6b97bc38e",
   "metadata": {},
   "source": [
    "# inheritance"
   ]
  },
  {
   "cell_type": "code",
   "execution_count": 6,
   "id": "29560d3d-5c62-48f3-8dc1-3c4ed0fd143e",
   "metadata": {},
   "outputs": [
    {
     "name": "stdout",
     "output_type": "stream",
     "text": [
      "128MB\n",
      "64gb\n"
     ]
    }
   ],
   "source": [
    "#parent class\n",
    "class Mobile:\n",
    "    def __init__(self,camera,ram):\n",
    "        self.camera = camera\n",
    "        self.ram = ram\n",
    "    def specification(self):\n",
    "        print(self.camera)\n",
    "        print(self.ram)\n",
    "#m = Mobile(\"128MB\",\"64gb\")\n",
    "#m.specification()\n",
    "\n",
    "#childclass (parentclass)\n",
    "class Apple(Mobile):\n",
    "    pass\n",
    "#driver code\n",
    "a = Apple(\"128MB\",\"64gb\")\n",
    "a.specification()"
   ]
  },
  {
   "cell_type": "markdown",
   "id": "cd3becfd-0756-4642-8d67-06e1e4afb8d2",
   "metadata": {},
   "source": [
    "# polymorphism "
   ]
  },
  {
   "cell_type": "code",
   "execution_count": 8,
   "id": "b1ffb2fa-22ab-4281-8fd5-13923cc48012",
   "metadata": {},
   "outputs": [
    {
     "name": "stdout",
     "output_type": "stream",
     "text": [
      "100MB\n",
      "50gb\n",
      "50MB\n",
      "128gb\n"
     ]
    }
   ],
   "source": [
    "class Mobile:\n",
    "    def __init__(self,camera,ram):\n",
    "        self.camera = camera\n",
    "        self.ram = ram\n",
    "    def specification(self):\n",
    "        print(self.camera)\n",
    "        print(self.ram)\n",
    "class Samsung(Mobile):\n",
    "    pass\n",
    "m = Mobile(\"100MB\",\"50gb\")\n",
    "m.specification()\n",
    "s = Samsung(\"50MB\",\"128gb\")\n",
    "s.specification()"
   ]
  },
  {
   "cell_type": "markdown",
   "id": "4c674f47-7ac9-4fbb-bd4b-aa76ead888d8",
   "metadata": {},
   "source": [
    "# Encapsulation:-"
   ]
  },
  {
   "cell_type": "code",
   "execution_count": 11,
   "id": "13080291-2aeb-4d29-9c4d-ff2542518d28",
   "metadata": {},
   "outputs": [
    {
     "name": "stdout",
     "output_type": "stream",
     "text": [
      "120\n"
     ]
    }
   ],
   "source": [
    "class DishPrice:\n",
    "    __samosa = 120\n",
    "    def getSamosaPrice(self):\n",
    "        return self.__samosa\n",
    "\n",
    "# driver code\n",
    "d = DishPrice()\n",
    "print(d.getSamosaPrice())"
   ]
  },
  {
   "cell_type": "markdown",
   "id": "c0d3daf6-e62e-4c90-90fc-fbd3d9b4bfd8",
   "metadata": {},
   "source": [
    "# Abstract :-"
   ]
  },
  {
   "cell_type": "code",
   "execution_count": 4,
   "id": "f6bbd6d3-fb13-42b2-9447-4dc5f0a7159e",
   "metadata": {},
   "outputs": [
    {
     "name": "stdout",
     "output_type": "stream",
     "text": [
      "Maruti car is running\n",
      "Honda car is running\n"
     ]
    }
   ],
   "source": [
    "from abc import ABC, abstractmethod\n",
    "class Car(ABC):\n",
    "    @abstractmethod\n",
    "    def sample(self):\n",
    "        pass\n",
    "\n",
    "class Maruti(Car):\n",
    "    def sample(self):\n",
    "        print(\"Maruti car is running\")\n",
    "        \n",
    "class Honda(Car):\n",
    "    def sample(self):\n",
    "        print(\"Honda car is running\")\n",
    "        \n",
    "def test_drive(car:Car):\n",
    "    car.sample()\n",
    "    \n",
    "def getCar1():\n",
    "    return Maruti()\n",
    "    \n",
    "def getCar2():\n",
    "    return Honda()\n",
    "    abs\n",
    "test_drive(getCar1())\n",
    "test_drive(getCar2())"
   ]
  },
  {
   "cell_type": "code",
   "execution_count": null,
   "id": "b70aa116-5848-4131-a0b6-6d44e96c3bbc",
   "metadata": {},
   "outputs": [],
   "source": []
  }
 ],
 "metadata": {
  "kernelspec": {
   "display_name": "Python 3 (ipykernel)",
   "language": "python",
   "name": "python3"
  },
  "language_info": {
   "codemirror_mode": {
    "name": "ipython",
    "version": 3
   },
   "file_extension": ".py",
   "mimetype": "text/x-python",
   "name": "python",
   "nbconvert_exporter": "python",
   "pygments_lexer": "ipython3",
   "version": "3.12.4"
  }
 },
 "nbformat": 4,
 "nbformat_minor": 5
}
