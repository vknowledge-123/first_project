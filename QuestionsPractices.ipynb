{
 "cells": [
  {
   "cell_type": "code",
   "execution_count": 22,
   "id": "d69fcf99-2b3a-408d-84ae-47cc87e67d37",
   "metadata": {},
   "outputs": [
    {
     "name": "stdout",
     "output_type": "stream",
     "text": [
      "1. Calculate PE Ratio\n",
      "2. Calculate PB Ratio\n",
      "3. Calculate Dividend Discount Model\n",
      "4. Calculate EPS\n",
      "5. Calculate Discounted Cash Flow\n"
     ]
    },
    {
     "name": "stdin",
     "output_type": "stream",
     "text": [
      "Enter your choice (1-5):  1\n",
      "Enter the market price of share:  20\n",
      "Enter the earnings of the company:  50000\n"
     ]
    },
    {
     "name": "stdout",
     "output_type": "stream",
     "text": [
      "PE Ratio: 0.0004\n"
     ]
    }
   ],
   "source": [
    "# PE Ratio Class\n",
    "class PEratio:\n",
    "    def getPEratio(self):\n",
    "        self.Market_share_price = int(input(\"Enter the market price of share: \"))\n",
    "        self.earnings = int(input(\"Enter the earnings of the company: \"))\n",
    "        self.PE_ratio = self.Market_share_price / self.earnings\n",
    "        return self.PE_ratio\n",
    "\n",
    "# PB Ratio Class\n",
    "class PBratio:\n",
    "    def getPBratio(self):\n",
    "        self.market_price_of_share = int(input(\"Enter market price of the share: \"))\n",
    "        self.book_value = int(input(\"Enter book value of the share: \"))\n",
    "        self.PB_ratio = self.market_price_of_share / self.book_value\n",
    "        return self.PB_ratio\n",
    "\n",
    "# Dividend Discount Model Class\n",
    "class DiscountDividendModel:\n",
    "    def getDividendDiscountModel(self):\n",
    "        self.growth_rate = float(input(\"Enter the growth rate: \"))\n",
    "        self.discount_rate = float(input(\"Enter the discount rate: \"))\n",
    "        self.DDM_value = (1 + self.growth_rate) / (self.discount_rate - self.growth_rate)\n",
    "        return self.DDM_value\n",
    "\n",
    "# EPS Class\n",
    "class EPS:\n",
    "    def getEPS(self):\n",
    "        self.earnings = int(input(\"Enter earnings: \"))\n",
    "        self.total_shares = int(input(\"Enter total shares outstanding: \"))\n",
    "        self.eps_value = self.earnings / self.total_shares\n",
    "        return self.eps_value\n",
    "\n",
    "# Discounted Cash Flow Class\n",
    "class DiscountedCashFlow:\n",
    "    def getDiscountedCashFlow(self):\n",
    "        self.cash_flow = float(input(\"Enter the cash flow: \"))\n",
    "        self.discount_rate = float(input(\"Enter the discount rate: \"))\n",
    "        self.DCF_value = self.cash_flow / (1 + self.discount_rate)\n",
    "        return self.DCF_value\n",
    "\n",
    "# Equity Valuation Class\n",
    "class EquityValuation:\n",
    "    def __init__(self):\n",
    "        self.PEratio_obj = PEratio()\n",
    "        self.PBratio_obj = PBratio()\n",
    "        self.DDM_obj = DiscountDividendModel()\n",
    "        self.EPS_obj = EPS()\n",
    "        self.DCF_obj = DiscountedCashFlow()\n",
    "\n",
    "    def start(self):\n",
    "        print(\"1. Calculate PE Ratio\")\n",
    "        print(\"2. Calculate PB Ratio\")\n",
    "        print(\"3. Calculate Dividend Discount Model\")\n",
    "        print(\"4. Calculate EPS\")\n",
    "        print(\"5. Calculate Discounted Cash Flow\")\n",
    "        choice = int(input(\"Enter your choice (1-5): \"))\n",
    "\n",
    "        if choice == 1:\n",
    "            print(\"PE Ratio:\", self.PEratio_obj.getPEratio())\n",
    "        elif choice == 2:\n",
    "            print(\"PB Ratio:\", self.PBratio_obj.getPBratio())\n",
    "        elif choice == 3:\n",
    "            print(\"Dividend Discount Model Value:\", self.DDM_obj.getDividendDiscountModel())\n",
    "        elif choice == 4:\n",
    "            print(\"EPS Value:\", self.EPS_obj.getEPS())\n",
    "        elif choice == 5:\n",
    "            print(\"Discounted Cash Flow Value:\", self.DCF_obj.getDiscountedCashFlow())\n",
    "        else:\n",
    "            print(\"Invalid choice!\")\n",
    "\n",
    "\n",
    "# Running the program\n",
    "if __name__ == \"__main__\":\n",
    "    equity_valuation = EquityValuation()\n",
    "    equity_valuation.start()\n"
   ]
  },
  {
   "cell_type": "code",
   "execution_count": 1,
   "id": "7452845b-b9f4-45fa-b404-8b3e57d4321c",
   "metadata": {},
   "outputs": [
    {
     "name": "stdout",
     "output_type": "stream",
     "text": [
      "stock name :-- AAPL\n",
      "Price: 180  Quantity: 10\n",
      "stock name :-- MSFT\n",
      "Price: 330  Quantity: 5\n",
      "stock name :-- TSLA\n",
      "Price: 250  Quantity: 10\n",
      "stock name :-- AMZN\n",
      "Price: 135  Quantity: 12\n",
      "Total value of the portfolio is [7570]\n",
      "{'AAPL': {'price': 180, 'quantity': 10}, 'MSFT': {'price': 330, 'quantity': 5}, 'TSLA': {'price': 250, 'quantity': 10}, 'AMZN': {'price': 135, 'quantity': 12}, 'GOOG': {'price': 140, 'quantity': 15}}\n",
      "Total value of the portfolio is [9670]\n",
      "1800\n",
      "1650\n",
      "2500\n",
      "1620\n",
      "2100\n",
      "The highest total value is TSLA {2500}\n",
      "180\n",
      "[{'price': 180, 'quantity': 10}, {'price': 330, 'quantity': 5}, {'price': 250, 'quantity': 10}, {'price': 135, 'quantity': 12}, {'price': 140, 'quantity': 15}]\n"
     ]
    }
   ],
   "source": [
    "Portfolio = {\n",
    "                \"AAPL\" :{\"price\":180,\"quantity\":10},\n",
    "                \"MSFT\" :{\"price\":330,\"quantity\":5},\n",
    "                \"TSLA\" :{\"price\":250,\"quantity\":10},\n",
    "                \"AMZN\" :{\"price\":135,\"quantity\":12}\n",
    "                                                        }\n",
    "\n",
    "for keys,value in Portfolio.items():\n",
    "    #print(\"#Display Portfolio#\")\n",
    "    print(\"stock name :--\",keys)\n",
    "    print(\"Price:\",value[\"price\"],\" Quantity:\",value[\"quantity\"])\n",
    "\n",
    "total = 0\n",
    "for stock,val in Portfolio.items():\n",
    "    total = total + (val[\"price\"]*val[\"quantity\"])\n",
    "print(\"Total value of the portfolio is\",[total])\n",
    "\n",
    "#add a new stock :--\n",
    "Portfolio.update({\"GOOG\" :{\"price\":140,\"quantity\":15}})\n",
    "print(Portfolio)\n",
    "\n",
    "#sum of after adding a new stock:\n",
    "total_sum = 0\n",
    "for stock,val in Portfolio.items():\n",
    "    total_sum = total_sum + (val[\"price\"]*val[\"quantity\"])\n",
    "print(\"Total value of the portfolio is\",[total_sum])\n",
    "\n",
    "max_val = 0\n",
    "max_stock = None\n",
    "for stock,values in Portfolio.items():\n",
    "    Total = (values[\"price\"]*values[\"quantity\"])\n",
    "    print(Total)\n",
    "    if (Total > max_val):\n",
    "        max_val = Total\n",
    "        max_stock = stock\n",
    "print(\"The highest total value is\",max_stock,{max_val})\n",
    "print(Portfolio[\"AAPL\"][\"price\"])\n",
    "print(list(Portfolio.values()))"
   ]
  },
  {
   "cell_type": "markdown",
   "id": "f9e78251-341d-427a-af58-22179d095d54",
   "metadata": {},
   "source": [
    "# Question for Dictionary list"
   ]
  },
  {
   "cell_type": "code",
   "execution_count": 153,
   "id": "c801f6f4-2a41-415b-9034-5a5d622bb62e",
   "metadata": {},
   "outputs": [
    {
     "name": "stdout",
     "output_type": "stream",
     "text": [
      "player name :- Virat Kohli\n",
      "matches : 250  runs : 12040  centuries : 43\n",
      "player name :- MS Dhoni\n",
      "matches : 350  runs : 10773  centuries : 10\n",
      "player name :- Rohit Sharma\n",
      "matches : 243  runs : 9825  centuries : 30\n",
      "player name :- Sachin Tendulkar\n",
      "matches : 463  runs : 18426  centuries : 49\n",
      "player name :- Yuvraj Singh\n",
      "matches : 304  runs : 8701  centuries : 14\n",
      "The player with the highest number of centuries Sachin Tendulkar [49]\n",
      "Total sum of all players is {59765}\n",
      "The average number of runs scored by the players is [11953.0]\n"
     ]
    }
   ],
   "source": [
    "#Problem 1: Player Statistics\n",
    "\n",
    "players = {\n",
    "    \"Virat Kohli\": {\"matches\": 250, \"runs\": 12040, \"centuries\": 43},\n",
    "    \"MS Dhoni\": {\"matches\": 350, \"runs\": 10773, \"centuries\": 10},\n",
    "    \"Rohit Sharma\": {\"matches\": 243, \"runs\": 9825, \"centuries\": 30},\n",
    "    \"Sachin Tendulkar\": {\"matches\": 463, \"runs\": 18426, \"centuries\": 49},\n",
    "    \"Yuvraj Singh\": {\"matches\": 304, \"runs\": 8701, \"centuries\": 14}\n",
    "}\n",
    "# Question :--\n",
    "# Write a program to calculate and display:\n",
    "# The player with the highest number of centuries.\n",
    "# The average number of runs scored by the players.\n",
    "\n",
    "#display:--\n",
    "for keys,values in players.items():\n",
    "    print(\"player name :-\",keys)\n",
    "    print(\"matches :\",values[\"matches\"],\" runs :\",values[\"runs\"],\" centuries :\",values[\"centuries\"])\n",
    "    \n",
    "#player with the highest century:--\n",
    "high_century = 0\n",
    "player_name = None\n",
    "for key,value in players.items():\n",
    "    cent = value[\"centuries\"]\n",
    "    #print(cent)\n",
    "    if(cent>high_century):\n",
    "        high_century = cent\n",
    "        player_name = key\n",
    "print(\"The player with the highest number of centuries\",player_name,[high_century])\n",
    "\n",
    "#average number of runs scored by player:--\n",
    "total_sum = 0\n",
    "for x,y in players.items():\n",
    "    n = len(players)\n",
    "    #print(n)\n",
    "    total_sum = total_sum + y[\"runs\"]\n",
    "print(\"Total sum of all players is\",{total_sum})\n",
    "avg = total_sum/n\n",
    "print(\"The average number of runs scored by the players is\",[avg])"
   ]
  },
  {
   "cell_type": "code",
   "execution_count": 3,
   "id": "c9fcaff3-d38b-42ba-b974-e596bf7eaae8",
   "metadata": {},
   "outputs": [
    {
     "name": "stdout",
     "output_type": "stream",
     "text": [
      "Total Wins: 3, Total Losses: 2\n",
      "Total sum is [1220]\n",
      "The average number of runs scored in all matches is 244.0\n"
     ]
    }
   ],
   "source": [
    "#Problem 2: Match Records\n",
    "\n",
    "matches = [\n",
    "    {\"date\": \"2023-01-10\", \"opponent\": \"Australia\",   \"result\": \"Win\",  \"runs_scored\": 250},\n",
    "    {\"date\": \"2023-01-15\", \"opponent\": \"England\",     \"result\": \"Loss\", \"runs_scored\": 220},\n",
    "    {\"date\": \"2023-01-20\", \"opponent\": \"South Africa\", \"result\": \"Win\", \"runs_scored\": 270},\n",
    "    {\"date\": \"2023-01-25\", \"opponent\": \"New Zealand\",  \"result\": \"Loss\", \"runs_scored\": 180},\n",
    "    {\"date\": \"2023-01-30\", \"opponent\": \"Sri Lanka\",    \"result\": \"Win\",  \"runs_scored\": 300}\n",
    "]\n",
    "# Question :--\n",
    "# Count the total number of wins and losses.\n",
    "#win_count = sum(1 for match in matches if match[\"result\"] == \"Win\")\n",
    "#loss_count = sum(1 for match in matches if match[\"result\"] == \"Loss\")\n",
    "#print(f\"Total Wins: {win_count}, Total Losses: {loss_count}\")\n",
    "\n",
    "win_count = 0\n",
    "loss_count = 0\n",
    "for match in matches:\n",
    "    if match[\"result\"] == \"Win\":\n",
    "        win_count += 1\n",
    "    elif match[\"result\"] == \"Loss\":\n",
    "        loss_count += 1\n",
    "print(f\"Total Wins: {win_count}, Total Losses: {loss_count}\")  \n",
    "\n",
    "## Find the average number of runs scored in all matches.\n",
    "total_sum = 0\n",
    "for i in matches:\n",
    "    total_sum = total_sum + i[\"runs_scored\"]\n",
    "print(\"Total sum is\",[total_sum])\n",
    "average = total_sum /len(matches)\n",
    "print(f\"The average number of runs scored in all matches is {average}\")\n"
   ]
  },
  {
   "cell_type": "code",
   "execution_count": 163,
   "id": "29104582-6712-4f0d-9450-d4a034293f0e",
   "metadata": {},
   "outputs": [
    {
     "name": "stdout",
     "output_type": "stream",
     "text": [
      "[2, 3, 0, 4, 1]\n",
      "The total number of wickets taken by Jasprit Bumrah 10\n",
      "The average wickets per match of Jasprit Bumrah is 2.0\n",
      "\n",
      "[1, 2, 1, 3, 2]\n",
      "The total number of wickets taken by Ravindra Jadeja 9\n",
      "The average wickets per match of Ravindra Jadeja is 1.8\n",
      "\n",
      "[0, 1, 1, 1, 0]\n",
      "The total number of wickets taken by Yuzvendra Chahal 3\n",
      "The average wickets per match of Yuzvendra Chahal is 0.6\n",
      "\n",
      "[3, 4, 2, 2, 3]\n",
      "The total number of wickets taken by Mohammed Shami 14\n",
      "The average wickets per match of Mohammed Shami is 2.8\n",
      "\n",
      "The highest average wickets per match is Mohammed Shami 2.8\n"
     ]
    }
   ],
   "source": [
    "# Problem 3: Bowler Performance\n",
    "bowlers = {\n",
    "    \"Jasprit Bumrah\"  : [2, 3, 0, 4, 1],\n",
    "    \"Ravindra Jadeja\" : [1, 2, 1, 3, 2],\n",
    "    \"Yuzvendra Chahal\": [0, 1, 1, 1, 0],\n",
    "    \"Mohammed Shami\"  : [3, 4, 2, 2, 3]\n",
    "}\n",
    "# Question :--\n",
    "# Calculate the total number of wickets taken by each bowler.\n",
    "# Identify the bowler with the highest average wickets per match.\n",
    "\n",
    "high_avg = 0\n",
    "for a,b in bowlers.items():\n",
    "    print(b)\n",
    "    x = sum(b)\n",
    "    print(f\"The total number of wickets taken by {a} {x}\")\n",
    "    avg = x / len(b)\n",
    "    print(f\"The average wickets per match of {a} is {avg}\\n\")\n",
    "    if avg > high_avg:\n",
    "        high_avg = avg\n",
    "print(f\"The highest average wickets per match is {a} {high_avg}\")"
   ]
  },
  {
   "cell_type": "code",
   "execution_count": 5,
   "id": "1b2fdacb-3861-484d-8d5a-4c0a89ac28bc",
   "metadata": {},
   "outputs": [
    {
     "name": "stdout",
     "output_type": "stream",
     "text": [
      "The total runs scored by team_a is 1435.00\n",
      "The total runs scored by team_b is 1425.00\n",
      "\n",
      "Team A Wins: 3\n",
      "Team B Wins: 2\n",
      "Series Winner: Team A\n"
     ]
    }
   ],
   "source": [
    "# Problem 4: Team Comparison\n",
    "#You are given two lists representing scores of two teams over a 5-match series:\n",
    "\n",
    "team_a = [250, 320, 290, 275, 300]\n",
    "team_b = [240, 310, 285, 280, 310]\n",
    "\n",
    "# Question :--\n",
    "# Determine which team won the series based on match wins (not total runs).\n",
    "# Calculate the total runs scored by each team across the series.\n",
    "\n",
    "# Calculate the total runs scored by each team\n",
    "for i in team_a:\n",
    "    x = sum(team_a)\n",
    "print(f\"The total runs scored by team_a is {x:.2f}\")\n",
    "for j in team_b:\n",
    "    y = sum(team_b)\n",
    "print(f\"The total runs scored by team_b is {y:.2f}\\n\")\n",
    "\n",
    "## 2 ##\n",
    "team_a_wins = 0\n",
    "team_b_wins = 0\n",
    "# Compare scores of Team A and Team B\n",
    "for a, b in zip(team_a, team_b):\n",
    "    if a > b:\n",
    "        team_a_wins += 1\n",
    "    elif b > a:\n",
    "        team_b_wins += 1\n",
    "# Determine the series winner\n",
    "if team_a_wins > team_b_wins:\n",
    "    series_winner = \"Team A\"\n",
    "else:\n",
    "    series_winner = \"Team B\"\n",
    "# Print the results\n",
    "print(\"Team A Wins:\", team_a_wins)\n",
    "print(\"Team B Wins:\", team_b_wins)\n",
    "print(\"Series Winner:\", series_winner)\n"
   ]
  },
  {
   "cell_type": "code",
   "execution_count": 15,
   "id": "cdf9c82a-4c0d-4538-9153-1cebf3f98b25",
   "metadata": {},
   "outputs": [
    {
     "name": "stdout",
     "output_type": "stream",
     "text": [
      "The player Virat Kohli scored the most runs in the match is 100\n",
      "\n",
      "The percentage contribution of Shikhar Dhawan to the total team score is 15.52\n",
      "\n",
      "The percentage contribution of Virat Kohli to the total team score is 34.48\n",
      "\n",
      "The percentage contribution of Rohit Sharma to the total team score is 20.69\n",
      "\n",
      "The percentage contribution of MS Dhoni to the total team score is 12.07\n",
      "\n",
      "The percentage contribution of Ravindra Jadeja to the total team score is 17.24\n",
      "\n"
     ]
    }
   ],
   "source": [
    "#Problem 5: Player Contribution\n",
    "scores = {\n",
    "    \"Shikhar Dhawan\": 45,\n",
    "    \"Virat Kohli\": 100,\n",
    "    \"Rohit Sharma\": 60,\n",
    "    \"MS Dhoni\": 35,\n",
    "    \"Ravindra Jadeja\": 50\n",
    "}\n",
    "# Question :--\n",
    "# Find the player who scored the most runs in the match.\n",
    "# Calculate the percentage contribution of each player to the total team score.\n",
    "\n",
    "##  ##\n",
    "max_runs = 0\n",
    "player = None\n",
    "for b,a in scores.items():\n",
    "    if a > max_runs :\n",
    "        max_runs = a\n",
    "        player = b\n",
    "print(f\"The player {player} scored the most runs in the match is {max_runs}\\n\")\n",
    "        \n",
    "for keys,values in scores.items():\n",
    "    total = sum(scores.values())\n",
    "    percent_contribution = (values / total)*100\n",
    "    print(f\"The percentage contribution of {keys} to the total team score is {percent_contribution:.2f}\\n\")\n",
    "#print(total)"
   ]
  },
  {
   "cell_type": "code",
   "execution_count": 142,
   "id": "b989f1de-8c9d-4db7-9a2b-adcdc5e87451",
   "metadata": {},
   "outputs": [
    {
     "name": "stdout",
     "output_type": "stream",
     "text": [
      "The India with the highest points is 8.0\n",
      "8\n",
      "The average points earned by India team is  1.60\n",
      "14\n",
      "The average points earned by Australia team is  2.80\n",
      "18\n",
      "The average points earned by England team is  3.60\n",
      "20\n",
      "The average points earned by South Africa team is  4.00\n"
     ]
    }
   ],
   "source": [
    "##Problem 6: Tournament Performance\n",
    "tournament = [\n",
    "    {\"team\": \"India\",        \"matches\": 5, \"wins\": 4, \"losses\": 1, \"points\": 8},\n",
    "    {\"team\": \"Australia\",    \"matches\": 5, \"wins\": 3, \"losses\": 2, \"points\": 6},\n",
    "    {\"team\": \"England\",      \"matches\": 5, \"wins\": 2, \"losses\": 3, \"points\": 4},\n",
    "    {\"team\": \"South Africa\", \"matches\": 5, \"wins\": 1, \"losses\": 4, \"points\": 2}\n",
    "]\n",
    "\n",
    "# Question :--\n",
    "# Find the team with the highest points.\n",
    "# Calculate the average points earned per team.\n",
    "max_points = 0\n",
    "for j in tournament:\n",
    "     a = j[\"team\"]\n",
    "     if (j[\"points\"] > max_points):\n",
    "         max_points = j[\"points\"]\n",
    "         print(f\"The {a} with the highest points is {max_points:.1f}\")\n",
    "add = 0\n",
    "for k in tournament:\n",
    "    x = k[\"team\"]\n",
    "    add = add + k[\"points\"]\n",
    "    print(add)\n",
    "    average = add / len(k)\n",
    "    print(f\"The average points earned by {x} team is  {average:.2f}\")"
   ]
  },
  {
   "cell_type": "markdown",
   "id": "0036a6ee-d50b-41e9-a9e3-ff78fdc1c5b1",
   "metadata": {},
   "source": [
    "# 1.Dynamic Inventory Management with Expiry :--"
   ]
  },
  {
   "cell_type": "code",
   "execution_count": 2,
   "id": "e8efd382-4876-4103-970d-7afacb1af0f2",
   "metadata": {},
   "outputs": [
    {
     "name": "stdout",
     "output_type": "stream",
     "text": [
      "formatted_date : 2024-12-04\n",
      "2024-12-10\n",
      "Product is valid\n",
      "2024-12-20\n",
      "Product is valid\n",
      "2024-12-05\n",
      "Product is valid\n",
      "2024-12-08\n",
      "Product is valid\n",
      "2024-12-02\n",
      "product is expired\n",
      "[{'product': 'Milk', 'quantity': 100, 'expiry_dates': ['2024-12-10', '2024-12-20']}, {'product': 'Bread', 'quantity': 50, 'expiry_dates': ['2024-12-05', '2024-12-08']}]\n",
      "\n",
      "\n"
     ]
    },
    {
     "ename": "TypeError",
     "evalue": "find_expiring_products() missing 1 required positional argument: 'days'",
     "output_type": "error",
     "traceback": [
      "\u001b[0;31m---------------------------------------------------------------------------\u001b[0m",
      "\u001b[0;31mTypeError\u001b[0m                                 Traceback (most recent call last)",
      "Cell \u001b[0;32mIn[2], line 48\u001b[0m\n\u001b[1;32m     46\u001b[0m                 \u001b[38;5;28;01mbreak\u001b[39;00m\n\u001b[1;32m     47\u001b[0m     \u001b[38;5;28;01mreturn\u001b[39;00m expiring_products\n\u001b[0;32m---> 48\u001b[0m x \u001b[38;5;241m=\u001b[39m find_expiring_products(inventory)\n\u001b[1;32m     49\u001b[0m \u001b[38;5;28mprint\u001b[39m(x)\n",
      "\u001b[0;31mTypeError\u001b[0m: find_expiring_products() missing 1 required positional argument: 'days'"
     ]
    }
   ],
   "source": [
    "inventory = [ \n",
    "\n",
    "    {\"product\": \"Milk\", \"quantity\": 100, \"expiry_dates\": [\"2024-12-10\", \"2024-12-20\"]}, \n",
    "\n",
    "    {\"product\": \"Bread\", \"quantity\": 50, \"expiry_dates\": [\"2024-12-05\", \"2024-12-08\"]}, \n",
    "\n",
    "    {\"product\": \"Eggs\", \"quantity\": 200, \"expiry_dates\": [\"2024-12-02\"]} \n",
    "\n",
    "] \n",
    "# Write a function update_inventory(inventory, product, quantity, expiry_date) to add new stock with \n",
    "# an expiry date,-merging it with existing stock if necessary. \n",
    "\n",
    "# Q.1 Write a function remove_expired_stock(inventory, today) that removes expired stock based on the given date. \n",
    "\n",
    "def remove_product(a):\n",
    "    from datetime import datetime\n",
    "    # Get the current date\n",
    "    current_date = datetime.now()\n",
    "    #print(current_date)\n",
    "    # Format the date in a specific strftime format (without time)\n",
    "    formatted_date = current_date.strftime(\"%Y-%m-%d\")\n",
    "    print(f\"formatted_date : {formatted_date}\")\n",
    "    for i in a:\n",
    "        for j in i[\"expiry_dates\"]:\n",
    "            print(j)\n",
    "            if formatted_date < j:\n",
    "                print(\"Product is valid\")\n",
    "            else:\n",
    "                print(\"product is expired\")\n",
    "                a.remove(i) \n",
    "    return a\n",
    "b =remove_product(inventory)\n",
    "print(b)\n",
    "print(\"\\n\")\n",
    "\n",
    "# Q.2 Write a function find_expiring_products(inventory, days) that lists all products expiring within the next day's. \n",
    "\n",
    "def find_expiring_products(inventory, days):\n",
    "    today = datetime.now()\n",
    "    threshold_date = today + timedelta(days=days)\n",
    "    expiring_products = []\n",
    "    for item in inventory:\n",
    "        for expiry in item['expiry_dates']:\n",
    "            if today <= datetime.strptime(expiry, \"%Y-%m-%d\") <= threshold_date:\n",
    "                expiring_products.append(item['product'])\n",
    "                break\n",
    "    return expiring_products\n",
    "x = find_expiring_products(inventory)\n",
    "print(x)"
   ]
  },
  {
   "cell_type": "markdown",
   "id": "2579f3b6-feb4-490e-9114-622b7ddcfc43",
   "metadata": {},
   "source": [
    "# 2. Order Fulfillment with Constraints"
   ]
  },
  {
   "cell_type": "code",
   "execution_count": 4,
   "id": "3d1d062a-4274-4813-9cad-a3d07e23cfeb",
   "metadata": {},
   "outputs": [
    {
     "name": "stdout",
     "output_type": "stream",
     "text": [
      "{'Milk': 10, 'Bread': 5}\n",
      "{'Bread': 20, 'Eggs': 50}\n",
      "{'Eggs': 100, 'Milk': 50}\n"
     ]
    }
   ],
   "source": [
    "orders = [ \n",
    "    {\"customer\": \"Alice\", \"order\": {\"Milk\": 10, \"Bread\": 5}}, \n",
    "\n",
    "    {\"customer\": \"Bob\", \"order\": {\"Bread\": 20, \"Eggs\": 50}}, \n",
    "\n",
    "    {\"customer\": \"Charlie\", \"order\": {\"Eggs\": 100, \"Milk\": 50}} \n",
    "] \n",
    "\n",
    "# Questions to Solve: \n",
    "# 1. Write a function process_orders(orders, inventory) to fulfill as many orders as possible while updating the inventory. \n",
    "#Unfulfilled orders should be logged. \n",
    "# 2. Write a function find_customer_with_largest_order(orders) to identify the customer \n",
    "#with the largest total order (in terms of quantity). \n",
    "# 3. Extend the inventory to track cost price and selling price for each product. \n",
    "#Modify process_orders to compute the total profit from fulfilled orders. \n",
    "\n",
    "for i in orders:\n",
    "    print(i[\"order\"])\n"
   ]
  },
  {
   "cell_type": "markdown",
   "id": "16ba3984-774f-4fb6-a462-bd578679943b",
   "metadata": {},
   "source": [
    "Problem: Magic Index Finder\n",
    "You are given a sorted list of integers, which may contain duplicate values. A magic index in this list is defined as an index such that arr[index] == index. Write a function to find a magic index in the list. If no such index exists, return -1.\n",
    "\n",
    "Constraints:\n",
    "\n",
    "The function should have a time complexity better than O(n).\n",
    "The list can have both positive and negative integers.\n",
    "Example:\n",
    "\n",
    "Input: arr = [-10, -5, 0, 3, 7, 9]\n",
    "Output: 3  # arr[3] == 3\n",
    "\n",
    "Input: arr = [-10, -5, 0, 4, 7, 9]\n",
    "Output: -1  # No magic index exists\n",
    "\n",
    "Input: arr = [-10, -5, 2, 2, 2, 5, 7]\n",
    "Output: 2  # arr[2] == 2"
   ]
  },
  {
   "cell_type": "code",
   "execution_count": null,
   "id": "3e318661-25f3-460e-b121-44aff94d9231",
   "metadata": {},
   "outputs": [],
   "source": []
  },
  {
   "cell_type": "code",
   "execution_count": 14,
   "id": "f631f8fb-004f-415d-b9b8-dedcf4e21f5c",
   "metadata": {},
   "outputs": [
    {
     "name": "stdout",
     "output_type": "stream",
     "text": [
      "3\n"
     ]
    }
   ],
   "source": [
    "def find_magic_index(arr):\n",
    "    for i in range(len(arr)):\n",
    "        if arr[i]== i:\n",
    "            return i \n",
    "    return -1\n",
    "arr = [-10, -5, 0, 3, 7, 9]\n",
    "print(find_magic_index(arr))"
   ]
  },
  {
   "cell_type": "code",
   "execution_count": 16,
   "id": "53d36b81-3366-4dd8-bcb5-88c5030a561b",
   "metadata": {},
   "outputs": [
    {
     "name": "stdout",
     "output_type": "stream",
     "text": [
      "-1\n"
     ]
    }
   ],
   "source": [
    "def find_magic_index_1(arr_1):\n",
    "    for i in range(len(arr_1)):\n",
    "        if arr_1[i]== i:\n",
    "            return i \n",
    "    return -1\n",
    "arr_1 = [-10, -5, 0, 4, 7, 9]\n",
    "print(find_magic_index_1(arr_1))"
   ]
  },
  {
   "cell_type": "code",
   "execution_count": 21,
   "id": "df1ffe7d-8578-4e81-b54d-efcc61b96ba0",
   "metadata": {},
   "outputs": [
    {
     "name": "stdout",
     "output_type": "stream",
     "text": [
      "2\n"
     ]
    }
   ],
   "source": [
    "def magic_index(arr_2):\n",
    "    for k in range(len(arr_2)):\n",
    "        if arr_2[k] == k:\n",
    "            return k\n",
    "    return -1\n",
    "arr_2 = [-10, -5, 2, 2, 2, 5, 7]\n",
    "print(magic_index(arr_2))\n"
   ]
  },
  {
   "cell_type": "code",
   "execution_count": 27,
   "id": "0dc59111-8e14-490b-8e86-521fe48c882c",
   "metadata": {},
   "outputs": [
    {
     "name": "stdout",
     "output_type": "stream",
     "text": [
      "magic_index 2\n",
      "magic_index 5\n"
     ]
    }
   ],
   "source": [
    "arr_2 = [-10, -5, 2, 2, 2, 5, 7]\n",
    "for i in range(len(arr_2)):\n",
    "    if arr_2[i] == i:\n",
    "        print(f\"magic_index {i}\")"
   ]
  },
  {
   "cell_type": "markdown",
   "id": "22ab74c0-8f63-44a5-95c9-0f7d09c5316d",
   "metadata": {},
   "source": [
    "largest Rectangle in Histogram\n",
    "Given an array representing the heights of bars in a histogram, find the area of the largest rectangle \n",
    "that can be formed using contiguous bars in the histogram.\n",
    "\n",
    "Constraints:\n",
    "The solution should have a time complexity of \n",
    "𝑂\n",
    "(\n",
    "𝑛\n",
    ")\n",
    "O(n).\n",
    "The array can have a size up to \n",
    "1\n",
    "0\n",
    "5\n",
    "10 \n",
    "5\n",
    " , and each bar height will be a non-negative integer.\n",
    "Example:\n",
    "Input: heights = [2, 1, 5, 6, 2, 3]\n",
    "Output: 10  # The largest rectangle is formed by heights[2:4] with height = 5 and width = 2.\n",
    "\n",
    "Input: heights = [2, 4]\n",
    "Output: 4  # The largest rectangle is the single bar at index 1.\n",
    "\n",
    "Input: heights = [6, 2, 5, 4, 5, 1, 6]\n",
    "Output: 12  # The largest rectangle is formed by heights[2:5] with height = 4 and width = 3"
   ]
  },
  {
   "cell_type": "code",
   "execution_count": 21,
   "id": "61b8745e-4ea4-415e-bb86-05c2fb4934d4",
   "metadata": {},
   "outputs": [
    {
     "name": "stdout",
     "output_type": "stream",
     "text": [
      "[5, 6]\n",
      "10\n"
     ]
    }
   ],
   "source": [
    "width = 2\n",
    "heights = [2, 1, 5, 6, 2, 3]\n",
    "print(heights[2:4])\n",
    "area = heights[2]*width\n",
    "print(area)"
   ]
  },
  {
   "cell_type": "code",
   "execution_count": 24,
   "id": "14037330-cf44-4ab2-bed5-20068df3ce79",
   "metadata": {},
   "outputs": [
    {
     "name": "stdout",
     "output_type": "stream",
     "text": [
      "10\n"
     ]
    }
   ],
   "source": [
    "def largestRectangleArea(heights):\n",
    "    stack = []  # Stack to store indices\n",
    "    max_area = 0\n",
    "    index = 0\n",
    "    \n",
    "    while index < len(heights):\n",
    "        if not stack or heights[index] >= heights[stack[-1]]:\n",
    "            stack.append(index)\n",
    "            index += 1\n",
    "        else:\n",
    "            top_of_stack = stack.pop()\n",
    "            height = heights[top_of_stack]\n",
    "            width = index if not stack else index - stack[-1] - 1\n",
    "            max_area = max(max_area, height * width)\n",
    "    \n",
    "    while stack:\n",
    "        top_of_stack = stack.pop()\n",
    "        height = heights[top_of_stack]\n",
    "        width = index if not stack else index - stack[-1] - 1\n",
    "        max_area = max(max_area, height * width)\n",
    "    \n",
    "    return max_area\n",
    "print(largestRectangleArea(heights))"
   ]
  },
  {
   "cell_type": "code",
   "execution_count": null,
   "id": "2254aa62-a83f-4cb8-b35b-6d593f44a97c",
   "metadata": {},
   "outputs": [],
   "source": []
  }
 ],
 "metadata": {
  "kernelspec": {
   "display_name": "Python 3 (ipykernel)",
   "language": "python",
   "name": "python3"
  },
  "language_info": {
   "codemirror_mode": {
    "name": "ipython",
    "version": 3
   },
   "file_extension": ".py",
   "mimetype": "text/x-python",
   "name": "python",
   "nbconvert_exporter": "python",
   "pygments_lexer": "ipython3",
   "version": "3.12.4"
  }
 },
 "nbformat": 4,
 "nbformat_minor": 5
}
